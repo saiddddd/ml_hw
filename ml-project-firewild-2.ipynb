{
 "cells": [
  {
   "cell_type": "code",
   "execution_count": 1,
   "metadata": {
    "_cell_guid": "b1076dfc-b9ad-4769-8c92-a6c4dae69d19",
    "_uuid": "8f2839f25d086af736a60e9eeb907d3b93b6e0e5",
    "execution": {
     "iopub.execute_input": "2023-09-19T21:36:36.233525Z",
     "iopub.status.busy": "2023-09-19T21:36:36.233070Z",
     "iopub.status.idle": "2023-09-19T21:36:36.270044Z",
     "shell.execute_reply": "2023-09-19T21:36:36.268921Z",
     "shell.execute_reply.started": "2023-09-19T21:36:36.233489Z"
    }
   },
   "outputs": [],
   "source": [
    "# # This Python 3 environment comes with many helpful analytics libraries installed\n",
    "# # It is defined by the kaggle/python Docker image: https://github.com/kaggle/docker-python\n",
    "# # For example, here's several helpful packages to load\n",
    "\n",
    "# import numpy as np # linear algebra\n",
    "# import pandas as pd # data processing, CSV file I/O (e.g. pd.read_csv)\n",
    "\n",
    "# # Input data files are available in the read-only \"../input/\" directory\n",
    "# # For example, running this (by clicking run or pressing Shift+Enter) will list all files under the input directory\n",
    "\n",
    "# import os\n",
    "# for dirname, _, filenames in os.walk('/kaggle/input'):\n",
    "#     for filename in filenames:\n",
    "#         print(os.path.join(dirname, filename))\n",
    "\n",
    "# # You can write up to 20GB to the current directory (/kaggle/working/) that gets preserved as output when you create a version using \"Save & Run All\" \n",
    "# # You can also write temporary files to /kaggle/temp/, but they won't be saved outside of the current session"
   ]
  },
  {
   "cell_type": "code",
   "execution_count": 4,
   "metadata": {
    "execution": {
     "iopub.execute_input": "2023-09-19T21:39:58.260634Z",
     "iopub.status.busy": "2023-09-19T21:39:58.260085Z",
     "iopub.status.idle": "2023-09-19T21:39:58.267197Z",
     "shell.execute_reply": "2023-09-19T21:39:58.266051Z",
     "shell.execute_reply.started": "2023-09-19T21:39:58.260581Z"
    }
   },
   "outputs": [],
   "source": [
    "# pip install pycm"
   ]
  },
  {
   "cell_type": "markdown",
   "metadata": {},
   "source": [
    "# densenet121_transfer_learning"
   ]
  },
  {
   "cell_type": "code",
   "execution_count": 5,
   "metadata": {
    "execution": {
     "iopub.execute_input": "2023-09-19T21:40:21.777834Z",
     "iopub.status.busy": "2023-09-19T21:40:21.777315Z",
     "iopub.status.idle": "2023-09-19T21:40:22.104649Z",
     "shell.execute_reply": "2023-09-19T21:40:22.103173Z",
     "shell.execute_reply.started": "2023-09-19T21:40:21.777797Z"
    }
   },
   "outputs": [],
   "source": [
    "from sklearn.metrics import classification_report,accuracy_score,roc_auc_score,roc_curve, precision_score,recall_score,f1_score,cohen_kappa_score,confusion_matrix,mean_squared_error\n",
    "from sklearn.model_selection import train_test_split\n",
    "from tensorflow.keras.callbacks import ModelCheckpoint, ReduceLROnPlateau\n",
    "from tensorflow.keras.applications import DenseNet121\n",
    "from tensorflow.keras.utils import to_categorical\n",
    "from tensorflow.keras.models import load_model, Sequential\n",
    "from tensorflow.keras.layers import Dense\n",
    "from pycm import ConfusionMatrix\n",
    "from collections import Counter\n",
    "from os import listdir\n",
    "from math import sqrt\n",
    "\n",
    "import matplotlib.pyplot as plt\n",
    "import tensorflow as tf\n",
    "import numpy as np\n",
    "import itertools\n",
    "import os, shutil\n",
    "import cv2"
   ]
  },
  {
   "cell_type": "code",
   "execution_count": 6,
   "metadata": {
    "execution": {
     "iopub.execute_input": "2023-09-19T21:41:56.477174Z",
     "iopub.status.busy": "2023-09-19T21:41:56.476563Z",
     "iopub.status.idle": "2023-09-19T21:41:56.523520Z",
     "shell.execute_reply": "2023-09-19T21:41:56.522420Z",
     "shell.execute_reply.started": "2023-09-19T21:41:56.477134Z"
    }
   },
   "outputs": [
    {
     "name": "stdout",
     "output_type": "stream",
     "text": [
      "tf version: 2.12.0\n"
     ]
    }
   ],
   "source": [
    "os.environ[\"CUDA_DEVICE_ORDER\"] = \"PCI_BUS_ID\"\n",
    "os.environ[\"CUDA_VISIBLE_DEVICES\"]=\"0,2,3,4\"\n",
    "gpu_options = tf.compat.v1.GPUOptions(per_process_gpu_memory_fraction=0.99)\n",
    "tf.compat.v1.Session(config=tf.compat.v1.ConfigProto(gpu_options=gpu_options))\n",
    "\n",
    "print(\"tf version:\", tf.__version__)"
   ]
  },
  {
   "cell_type": "code",
   "execution_count": 19,
   "metadata": {
    "execution": {
     "iopub.execute_input": "2023-09-20T06:54:09.310314Z",
     "iopub.status.busy": "2023-09-20T06:54:09.309433Z",
     "iopub.status.idle": "2023-09-20T06:54:09.357111Z",
     "shell.execute_reply": "2023-09-20T06:54:09.355490Z",
     "shell.execute_reply.started": "2023-09-20T06:54:09.310260Z"
    }
   },
   "outputs": [],
   "source": [
    "def load_data(dir_list, image_size):\n",
    "    X = []\n",
    "    y = []\n",
    "    all_image_with_label = []\n",
    "    image_width, image_height = image_size\n",
    "    for directory in dir_list:\n",
    "        for filename in listdir(directory):\n",
    "            image = cv2.imread(directory+ \"/\"+ filename)\n",
    "            image = cv2.resize(image, dsize=(image_width, image_height), interpolation=cv2.INTER_CUBIC)\n",
    "            image = image / 255.\n",
    "            image_label_set_label = (0, 1)[directory[-4:] == 'fire']\n",
    "            image_name_with_label = filename, image_label_set_label\n",
    "            all_image_with_label.append(image_name_with_label)\n",
    "            np.savetxt(\"/results/densenet121_image_data_feature_save.csv\", all_image_with_label, delimiter=\",\", fmt='%s')\n",
    "            image_name_matrix_with_label = image, filename, image_label_set_label\n",
    "            X.append(image_name_matrix_with_label)\n",
    "            y.append((0, 1)[directory[-4:] == 'fire'])\n",
    "\n",
    "    X = np.array(X)\n",
    "    y = np.array(y)\n",
    "    \n",
    "    print(Counter(y))\n",
    "    \n",
    "    return X, y\n",
    "\n",
    "def image_split_folder(source, destination_fire, destination_no_blaze, all_data):\n",
    "    shutil.rmtree(destination_fire, ignore_errors=True)\n",
    "    shutil.rmtree(destination_no_blaze, ignore_errors=True)\n",
    "    os.makedirs(destination_fire)\n",
    "    os.makedirs(destination_no_blaze)\n",
    "    for directory_split_folder_name in source:\n",
    "        files_create = os.listdir(directory_split_folder_name)\n",
    "        for target, label in all_data:\n",
    "            for f_crt in files_create:\n",
    "                if target == f_crt:\n",
    "                    if label == 1:\n",
    "                        shutil.copy(directory_split_folder_name + f_crt, destination_fire + f_crt)\n",
    "                    elif label == 0:\n",
    "                        shutil.copy(directory_split_folder_name + f_crt, destination_no_blaze + f_crt)\n",
    "\n",
    "def pred_fire_image_split_carry(X_test_name, pred_class, predictions):\n",
    "    pred_target_with_label_01 = np.vstack((X_test_name[:,1], pred_class)).T\n",
    "    pred_target_with_label_possibility = np.vstack((X_test_name[:,1], predictions)).T\n",
    "    image_split_folder([\"/kaggle/input/dataset/wildfires/fire/\", \"/kaggle/input/dataset/wildfires/no_blaze/\"], \"/results/pred/fire/\", \"/results/pred/no_blaze/\", pred_target_with_label_01)\n",
    "    np.savetxt(\"/results/pred/densenet121_imagenet_fire_or_no_01.csv\", pred_target_with_label_01, delimiter=\",\", fmt='%s')\n",
    "    np.savetxt(\"/results/pred/densenet121_imagenet_fire_or_no_possibility.csv\", pred_target_with_label_possibility, delimiter=\",\", fmt='%s')\n",
    "\n",
    "def image_to_4d(datas):\n",
    "    list_to_4d_all_data = []\n",
    "    for data_list_find in datas[:,0]:\n",
    "        list_to_4d_all_data.append(data_list_find)\n",
    "    list_to_4d_all_data = np.array(list_to_4d_all_data)\n",
    "    \n",
    "    return list_to_4d_all_data\n",
    "\n",
    "def plot_metrics(history):\n",
    "    \n",
    "    train_loss = history['loss']\n",
    "    val_loss = history['val_loss']\n",
    "    train_acc = history['accuracy']\n",
    "    val_acc = history['val_accuracy'] \n",
    "    \n",
    "    np.savetxt('/results/densenet121_imagenet_training_loss.csv', train_loss, fmt=\"%1.16f\", delimiter=\",\")\n",
    "    np.savetxt('/results/densenet121_imagenet_validation_loss.csv', val_loss, fmt=\"%1.16f\", delimiter=\",\") \n",
    "\n",
    "    np.savetxt('/results/densenet121_imagenet_training_accuracy.csv', train_acc, fmt=\"%1.16f\", delimiter=\",\")\n",
    "    np.savetxt('/results/densenet121_imagenet_val_accuracy.csv', val_acc, fmt=\"%1.16f\", delimiter=\",\") \n",
    "        \n",
    "    plt.figure()\n",
    "    plt.plot(train_loss, label='Training Loss')\n",
    "    plt.plot(val_loss, label='Validation Loss')\n",
    "    plt.ylabel('Loss')\n",
    "    plt.xlabel('Epoch')\n",
    "    plt.legend(loc=\"best\")\n",
    "    plt.savefig('/results/densenet121_imagenet_loss.jpg', dpi=600, bbox_inches='tight')\n",
    "    plt.show()\n",
    "    \n",
    "    print(\"\\n\") \n",
    "\n",
    "    plt.figure()\n",
    "    plt.plot(train_acc, label='Training Accuracy')\n",
    "    plt.plot(val_acc, label='Validation Accuracy')\n",
    "    plt.ylabel('Accuracy')\n",
    "    plt.xlabel('Epoch')\n",
    "    plt.legend(loc=\"best\")\n",
    "    plt.savefig('/results/densenet121_imagenet_accuracy.jpg', dpi=600, bbox_inches='tight')\n",
    "    plt.show()\n",
    "\n",
    "def build_model(img_shape):\n",
    "    \n",
    "    model = Sequential()\n",
    "    \n",
    "    model.add(DenseNet121(input_shape = (img_shape), include_top = False, weights=\"imagenet\", pooling=\"max\"))\n",
    "\n",
    "    model.add(Dense(2, activation=\"softmax\"))\n",
    "    \n",
    "    return model\n",
    "    \n",
    "def plot_confusion_matrix(cm, classes, normalize=False, title='Confusion matrix', cmap=plt.cm.Blues):\n",
    "    plt.imshow(cm, interpolation='nearest', cmap=cmap)\n",
    "    plt.title(title)\n",
    "    plt.colorbar()\n",
    "    tick_marks = np.arange(len(classes))\n",
    "    plt.xticks(tick_marks, classes)\n",
    "    plt.yticks(tick_marks, classes)\n",
    "    fmt = '.2f' if normalize else 'd'\n",
    "    thresh = cm.max() / 2.\n",
    "    for i, j in itertools.product(range(cm.shape[0]), range(cm.shape[1])):\n",
    "        plt.text(j, i, format(cm[i, j], fmt),\n",
    "                 horizontalalignment=\"center\",\n",
    "                 color=\"white\" if cm[i, j] > thresh else \"black\")\n",
    "    plt.tight_layout()\n",
    "    plt.ylabel('True label',labelpad = 5)\n",
    "    plt.xlabel('Predicted label', labelpad = 15)\n",
    "    plt.savefig(\"/results/densenet121_imagenet_plt_cm.jpg\", dpi=300, bbox_inches='tight')\n",
    "    plt.show()\n",
    "\n",
    "def statistc_analysis(actual,predict_classes_find):\n",
    "    \n",
    "    np.savetxt('/results/densenet121_imagenet_pred.csv', predict_classes_find, fmt=\"%d\", delimiter=\",\")\n",
    "    np.savetxt('/results/densenet121_imagenet_actual_test.csv', actual, fmt=\"%d\", delimiter=\",\")    \n",
    "    \n",
    "    accuracy = accuracy_score(actual, predict_classes_find)\n",
    "    print('Accuracy: %0.4f' % accuracy)\n",
    "    \n",
    "    precision = precision_score(actual, predict_classes_find)\n",
    "    print('Precision: %0.4f' % precision)\n",
    "    \n",
    "    recall = recall_score(actual, predict_classes_find)\n",
    "    print('Recall: %0.4f' % recall)\n",
    "    \n",
    "    f1 = f1_score(actual, predict_classes_find)\n",
    "    print('F1 score: %0.4f' % f1)\n",
    "    \n",
    "    kappa = cohen_kappa_score(actual, predict_classes_find)\n",
    "    print('Cohens kappa: %0.4f' % kappa)\n",
    "    \n",
    "    roc_auc_threshold = roc_auc_score(actual, predict_classes_find)\n",
    "    print('ROC AUC: %0.4f' % roc_auc_threshold)\n",
    "    print(\"\\n\")\n",
    "    \n",
    "    plt.figure()\n",
    "    cnf_matrix = confusion_matrix(actual, predict_classes_find, labels=[0,1])\n",
    "    plot_confusion_matrix(cnf_matrix, classes=['No Fire', 'Fire'], normalize= False,  title='Confusion matrix')\n",
    "    print(\"\\n\")\n",
    "        \n",
    "    print(\"\\n\")\n",
    "    print ('Report : ')\n",
    "    target_names = ['No Fire', 'Fire']\n",
    "    print (classification_report(actual, predict_classes_find,target_names=target_names, digits=2))\n",
    "    print(\"\\n\")\n",
    "    \n",
    "    mse = mean_squared_error(actual, predict_classes_find)\n",
    "    print('MSE: %0.4f' % mse)\n",
    "    \n",
    "    rmse = sqrt(mse)\n",
    "    print('RMSE: %0.4f' % rmse)\n",
    "    print(\"\\n\")    \n",
    "           \n",
    "    fpr, tpr, thresholds = roc_curve(actual, predict_classes_find)\n",
    "    roc_auc_threshold = 'DenseNet121 = %.4f' % (roc_auc_threshold)\n",
    "    plt.plot(fpr, tpr,  color='#2626ff', label=roc_auc_threshold)\n",
    "    plt.plot([0, 1], [0, 1], color='red', linestyle='--', label='', linewidth=2)\n",
    "    plt.xlim([-0.05, 1.05])\n",
    "    plt.ylim([-0.05, 1.05])\n",
    "    plt.legend(loc=\"lower right\")\n",
    "    plt.xlabel('1-Specificity (False Positive Rate)')\n",
    "    plt.ylabel('Sensitivity (True Positive Rate)')\n",
    "    plt.savefig(\"/results/densenet121_imagenet_roc_curve.jpg\", dpi=300, bbox_inches='tight')\n",
    "    plt.show()    \n",
    "    print(\"\\n\") \n",
    "    \n",
    "def overall_statistics(actual, predict_classes_find):\n",
    "    \n",
    "    cm = ConfusionMatrix(actual_vector=actual,predict_vector=predict_classes_find)\n",
    "    \n",
    "    print(cm)\n",
    "\n",
    "def create_folder(directory):\n",
    "    try:\n",
    "        if not os.path.exists(directory):\n",
    "            os.makedirs(directory)\n",
    "    except OSError:\n",
    "        print ('Error:' +  directory)"
   ]
  },
  {
   "cell_type": "code",
   "execution_count": 8,
   "metadata": {
    "execution": {
     "iopub.execute_input": "2023-09-19T21:42:48.809469Z",
     "iopub.status.busy": "2023-09-19T21:42:48.808953Z",
     "iopub.status.idle": "2023-09-19T21:42:48.818242Z",
     "shell.execute_reply": "2023-09-19T21:42:48.816627Z",
     "shell.execute_reply.started": "2023-09-19T21:42:48.809433Z"
    }
   },
   "outputs": [],
   "source": [
    "create_folder('/results/')"
   ]
  },
  {
   "cell_type": "code",
   "execution_count": 9,
   "metadata": {
    "execution": {
     "iopub.execute_input": "2023-09-19T21:43:36.152766Z",
     "iopub.status.busy": "2023-09-19T21:43:36.152146Z",
     "iopub.status.idle": "2023-09-19T21:43:58.102452Z",
     "shell.execute_reply": "2023-09-19T21:43:58.101531Z",
     "shell.execute_reply.started": "2023-09-19T21:43:36.152721Z"
    }
   },
   "outputs": [
    {
     "name": "stdout",
     "output_type": "stream",
     "text": [
      "Counter({0: 732, 1: 720})\n"
     ]
    },
    {
     "name": "stderr",
     "output_type": "stream",
     "text": [
      "/tmp/ipykernel_32/1828485420.py:19: VisibleDeprecationWarning: Creating an ndarray from ragged nested sequences (which is a list-or-tuple of lists-or-tuples-or ndarrays with different lengths or shapes) is deprecated. If you meant to do this, you must specify 'dtype=object' when creating the ndarray.\n",
      "  X = np.array(X)\n"
     ]
    }
   ],
   "source": [
    "X, y = load_data([\"/kaggle/input/dataset/wildfires/no_blaze\", \"/kaggle/input/dataset/wildfires/fire\"], (224,224))\n",
    "\n",
    "X_train, X_test, y_train, y_test = train_test_split(X, y, test_size=0.10, random_state=0)"
   ]
  },
  {
   "cell_type": "code",
   "execution_count": 10,
   "metadata": {
    "execution": {
     "iopub.execute_input": "2023-09-19T21:44:21.489252Z",
     "iopub.status.busy": "2023-09-19T21:44:21.488582Z",
     "iopub.status.idle": "2023-09-19T21:44:29.680917Z",
     "shell.execute_reply": "2023-09-19T21:44:29.679258Z",
     "shell.execute_reply.started": "2023-09-19T21:44:21.489205Z"
    }
   },
   "outputs": [
    {
     "name": "stdout",
     "output_type": "stream",
     "text": [
      "Downloading data from https://storage.googleapis.com/tensorflow/keras-applications/densenet/densenet121_weights_tf_dim_ordering_tf_kernels_notop.h5\n",
      "29084464/29084464 [==============================] - 0s 0us/step\n",
      "Model: \"sequential\"\n",
      "_________________________________________________________________\n",
      " Layer (type)                Output Shape              Param #   \n",
      "=================================================================\n",
      " densenet121 (Functional)    (None, 1024)              7037504   \n",
      "                                                                 \n",
      " dense (Dense)               (None, 2)                 2050      \n",
      "                                                                 \n",
      "=================================================================\n",
      "Total params: 7,039,554\n",
      "Trainable params: 6,955,906\n",
      "Non-trainable params: 83,648\n",
      "_________________________________________________________________\n"
     ]
    }
   ],
   "source": [
    "X_train_list_to_4d = image_to_4d(X_train)\n",
    "X_test_list_to_4d = image_to_4d(X_test)\n",
    "\n",
    "actual=y_test\n",
    "\n",
    "y_train = to_categorical(y_train, 2)\n",
    "y_test = to_categorical(y_test, 2)\n",
    "\n",
    "img_shape = (224, 224, 3)\n",
    "model = build_model(img_shape)\n",
    "model.summary()\n",
    "\n",
    "model.compile(loss=\"categorical_crossentropy\", optimizer=\"adam\", metrics=['accuracy'])"
   ]
  },
  {
   "cell_type": "code",
   "execution_count": 11,
   "metadata": {
    "execution": {
     "iopub.execute_input": "2023-09-19T21:44:50.291971Z",
     "iopub.status.busy": "2023-09-19T21:44:50.291447Z",
     "iopub.status.idle": "2023-09-20T06:50:04.666811Z",
     "shell.execute_reply": "2023-09-20T06:50:04.665210Z",
     "shell.execute_reply.started": "2023-09-19T21:44:50.291932Z"
    }
   },
   "outputs": [
    {
     "name": "stdout",
     "output_type": "stream",
     "text": [
      "Epoch 1/50\n",
      "19/19 [==============================] - ETA: 0s - loss: 0.7322 - accuracy: 0.8851 \n",
      "Epoch 1: val_loss improved from inf to 11.94332, saving model to /results/densenet121_imagenet.hdf5\n",
      "19/19 [==============================] - 722s 35s/step - loss: 0.7322 - accuracy: 0.8851 - val_loss: 11.9433 - val_accuracy: 0.4809 - lr: 0.0010\n",
      "Epoch 2/50\n",
      "19/19 [==============================] - ETA: 0s - loss: 0.0762 - accuracy: 0.9762 \n",
      "Epoch 2: val_loss improved from 11.94332 to 3.53437, saving model to /results/densenet121_imagenet.hdf5\n",
      "19/19 [==============================] - 680s 36s/step - loss: 0.0762 - accuracy: 0.9762 - val_loss: 3.5344 - val_accuracy: 0.6489 - lr: 0.0010\n",
      "Epoch 3/50\n",
      "19/19 [==============================] - ETA: 0s - loss: 0.0284 - accuracy: 0.9932 \n",
      "Epoch 3: val_loss improved from 3.53437 to 3.24852, saving model to /results/densenet121_imagenet.hdf5\n",
      "19/19 [==============================] - 656s 35s/step - loss: 0.0284 - accuracy: 0.9932 - val_loss: 3.2485 - val_accuracy: 0.7023 - lr: 0.0010\n",
      "Epoch 4/50\n",
      "19/19 [==============================] - ETA: 0s - loss: 0.0099 - accuracy: 0.9983 \n",
      "Epoch 4: val_loss improved from 3.24852 to 1.37878, saving model to /results/densenet121_imagenet.hdf5\n",
      "19/19 [==============================] - 670s 35s/step - loss: 0.0099 - accuracy: 0.9983 - val_loss: 1.3788 - val_accuracy: 0.7481 - lr: 0.0010\n",
      "Epoch 5/50\n",
      "19/19 [==============================] - ETA: 0s - loss: 0.0245 - accuracy: 0.9923 \n",
      "Epoch 5: val_loss improved from 1.37878 to 0.60571, saving model to /results/densenet121_imagenet.hdf5\n",
      "19/19 [==============================] - 667s 35s/step - loss: 0.0245 - accuracy: 0.9923 - val_loss: 0.6057 - val_accuracy: 0.8550 - lr: 0.0010\n",
      "Epoch 6/50\n",
      "19/19 [==============================] - ETA: 0s - loss: 0.0191 - accuracy: 0.9940 \n",
      "Epoch 6: val_loss did not improve from 0.60571\n",
      "19/19 [==============================] - 648s 34s/step - loss: 0.0191 - accuracy: 0.9940 - val_loss: 0.8003 - val_accuracy: 0.7939 - lr: 0.0010\n",
      "Epoch 7/50\n",
      "19/19 [==============================] - ETA: 0s - loss: 0.0071 - accuracy: 0.9966 \n",
      "Epoch 7: val_loss did not improve from 0.60571\n",
      "19/19 [==============================] - 658s 35s/step - loss: 0.0071 - accuracy: 0.9966 - val_loss: 0.7976 - val_accuracy: 0.8550 - lr: 0.0010\n",
      "Epoch 8/50\n",
      "19/19 [==============================] - ETA: 0s - loss: 0.0043 - accuracy: 0.9983 \n",
      "Epoch 8: val_loss did not improve from 0.60571\n",
      "19/19 [==============================] - 656s 35s/step - loss: 0.0043 - accuracy: 0.9983 - val_loss: 0.6227 - val_accuracy: 0.8550 - lr: 5.0000e-04\n",
      "Epoch 9/50\n",
      "19/19 [==============================] - ETA: 0s - loss: 7.6877e-04 - accuracy: 1.0000 \n",
      "Epoch 9: val_loss improved from 0.60571 to 0.47931, saving model to /results/densenet121_imagenet.hdf5\n",
      "19/19 [==============================] - 671s 35s/step - loss: 7.6877e-04 - accuracy: 1.0000 - val_loss: 0.4793 - val_accuracy: 0.8779 - lr: 5.0000e-04\n",
      "Epoch 10/50\n",
      "19/19 [==============================] - ETA: 0s - loss: 2.4004e-04 - accuracy: 1.0000 \n",
      "Epoch 10: val_loss improved from 0.47931 to 0.35149, saving model to /results/densenet121_imagenet.hdf5\n",
      "19/19 [==============================] - 669s 35s/step - loss: 2.4004e-04 - accuracy: 1.0000 - val_loss: 0.3515 - val_accuracy: 0.9008 - lr: 5.0000e-04\n",
      "Epoch 11/50\n",
      "19/19 [==============================] - ETA: 0s - loss: 1.8577e-04 - accuracy: 1.0000 \n",
      "Epoch 11: val_loss improved from 0.35149 to 0.25794, saving model to /results/densenet121_imagenet.hdf5\n",
      "19/19 [==============================] - 667s 35s/step - loss: 1.8577e-04 - accuracy: 1.0000 - val_loss: 0.2579 - val_accuracy: 0.9084 - lr: 5.0000e-04\n",
      "Epoch 12/50\n",
      "19/19 [==============================] - ETA: 0s - loss: 2.7532e-04 - accuracy: 1.0000 \n",
      "Epoch 12: val_loss improved from 0.25794 to 0.18064, saving model to /results/densenet121_imagenet.hdf5\n",
      "19/19 [==============================] - 660s 35s/step - loss: 2.7532e-04 - accuracy: 1.0000 - val_loss: 0.1806 - val_accuracy: 0.9389 - lr: 5.0000e-04\n",
      "Epoch 13/50\n",
      "19/19 [==============================] - ETA: 0s - loss: 1.2362e-04 - accuracy: 1.0000 \n",
      "Epoch 13: val_loss improved from 0.18064 to 0.11335, saving model to /results/densenet121_imagenet.hdf5\n",
      "19/19 [==============================] - 663s 35s/step - loss: 1.2362e-04 - accuracy: 1.0000 - val_loss: 0.1133 - val_accuracy: 0.9695 - lr: 5.0000e-04\n",
      "Epoch 14/50\n",
      "19/19 [==============================] - ETA: 0s - loss: 1.0850e-04 - accuracy: 1.0000 \n",
      "Epoch 14: val_loss improved from 0.11335 to 0.11264, saving model to /results/densenet121_imagenet.hdf5\n",
      "19/19 [==============================] - 661s 35s/step - loss: 1.0850e-04 - accuracy: 1.0000 - val_loss: 0.1126 - val_accuracy: 0.9695 - lr: 5.0000e-04\n",
      "Epoch 15/50\n",
      "19/19 [==============================] - ETA: 0s - loss: 7.6462e-05 - accuracy: 1.0000 \n",
      "Epoch 15: val_loss did not improve from 0.11264\n",
      "19/19 [==============================] - 653s 34s/step - loss: 7.6462e-05 - accuracy: 1.0000 - val_loss: 0.1232 - val_accuracy: 0.9695 - lr: 5.0000e-04\n",
      "Epoch 16/50\n",
      "19/19 [==============================] - ETA: 0s - loss: 5.1096e-05 - accuracy: 1.0000 \n",
      "Epoch 16: val_loss did not improve from 0.11264\n",
      "19/19 [==============================] - 644s 34s/step - loss: 5.1096e-05 - accuracy: 1.0000 - val_loss: 0.1346 - val_accuracy: 0.9695 - lr: 5.0000e-04\n",
      "Epoch 17/50\n",
      "19/19 [==============================] - ETA: 0s - loss: 5.0960e-05 - accuracy: 1.0000 \n",
      "Epoch 17: val_loss did not improve from 0.11264\n",
      "19/19 [==============================] - 652s 34s/step - loss: 5.0960e-05 - accuracy: 1.0000 - val_loss: 0.1432 - val_accuracy: 0.9695 - lr: 2.5000e-04\n",
      "Epoch 18/50\n",
      "19/19 [==============================] - ETA: 0s - loss: 3.7587e-05 - accuracy: 1.0000 \n",
      "Epoch 18: val_loss did not improve from 0.11264\n",
      "19/19 [==============================] - 646s 34s/step - loss: 3.7587e-05 - accuracy: 1.0000 - val_loss: 0.1497 - val_accuracy: 0.9695 - lr: 2.5000e-04\n",
      "Epoch 19/50\n",
      "19/19 [==============================] - ETA: 0s - loss: 5.8779e-05 - accuracy: 1.0000 \n",
      "Epoch 19: val_loss did not improve from 0.11264\n",
      "19/19 [==============================] - 654s 34s/step - loss: 5.8779e-05 - accuracy: 1.0000 - val_loss: 0.1546 - val_accuracy: 0.9695 - lr: 1.2500e-04\n",
      "Epoch 20/50\n",
      "19/19 [==============================] - ETA: 0s - loss: 1.0849e-04 - accuracy: 1.0000 \n",
      "Epoch 20: val_loss did not improve from 0.11264\n",
      "19/19 [==============================] - 651s 34s/step - loss: 1.0849e-04 - accuracy: 1.0000 - val_loss: 0.1595 - val_accuracy: 0.9695 - lr: 1.2500e-04\n",
      "Epoch 21/50\n",
      "19/19 [==============================] - ETA: 0s - loss: 5.0303e-05 - accuracy: 1.0000 \n",
      "Epoch 21: val_loss did not improve from 0.11264\n",
      "19/19 [==============================] - 655s 34s/step - loss: 5.0303e-05 - accuracy: 1.0000 - val_loss: 0.1644 - val_accuracy: 0.9695 - lr: 1.0000e-04\n",
      "Epoch 22/50\n",
      "19/19 [==============================] - ETA: 0s - loss: 7.3975e-05 - accuracy: 1.0000 \n",
      "Epoch 22: val_loss did not improve from 0.11264\n",
      "19/19 [==============================] - 646s 34s/step - loss: 7.3975e-05 - accuracy: 1.0000 - val_loss: 0.1646 - val_accuracy: 0.9695 - lr: 1.0000e-04\n",
      "Epoch 23/50\n",
      "19/19 [==============================] - ETA: 0s - loss: 4.7309e-05 - accuracy: 1.0000 \n",
      "Epoch 23: val_loss did not improve from 0.11264\n",
      "19/19 [==============================] - 633s 33s/step - loss: 4.7309e-05 - accuracy: 1.0000 - val_loss: 0.1607 - val_accuracy: 0.9695 - lr: 1.0000e-04\n",
      "Epoch 24/50\n",
      "19/19 [==============================] - ETA: 0s - loss: 6.3199e-05 - accuracy: 1.0000 \n",
      "Epoch 24: val_loss did not improve from 0.11264\n",
      "19/19 [==============================] - 660s 35s/step - loss: 6.3199e-05 - accuracy: 1.0000 - val_loss: 0.1625 - val_accuracy: 0.9695 - lr: 1.0000e-04\n",
      "Epoch 25/50\n",
      "19/19 [==============================] - ETA: 0s - loss: 3.5492e-05 - accuracy: 1.0000 \n",
      "Epoch 25: val_loss did not improve from 0.11264\n",
      "19/19 [==============================] - 646s 34s/step - loss: 3.5492e-05 - accuracy: 1.0000 - val_loss: 0.1625 - val_accuracy: 0.9695 - lr: 1.0000e-04\n",
      "Epoch 26/50\n",
      "19/19 [==============================] - ETA: 0s - loss: 4.2300e-05 - accuracy: 1.0000 \n",
      "Epoch 26: val_loss did not improve from 0.11264\n",
      "19/19 [==============================] - 646s 34s/step - loss: 4.2300e-05 - accuracy: 1.0000 - val_loss: 0.1614 - val_accuracy: 0.9695 - lr: 1.0000e-04\n",
      "Epoch 27/50\n",
      "19/19 [==============================] - ETA: 0s - loss: 2.7200e-05 - accuracy: 1.0000 \n",
      "Epoch 27: val_loss did not improve from 0.11264\n",
      "19/19 [==============================] - 662s 35s/step - loss: 2.7200e-05 - accuracy: 1.0000 - val_loss: 0.1590 - val_accuracy: 0.9695 - lr: 1.0000e-04\n",
      "Epoch 28/50\n",
      "19/19 [==============================] - ETA: 0s - loss: 2.3514e-04 - accuracy: 1.0000 \n",
      "Epoch 28: val_loss did not improve from 0.11264\n",
      "19/19 [==============================] - 647s 34s/step - loss: 2.3514e-04 - accuracy: 1.0000 - val_loss: 0.1514 - val_accuracy: 0.9695 - lr: 1.0000e-04\n",
      "Epoch 29/50\n",
      "19/19 [==============================] - ETA: 0s - loss: 3.6803e-05 - accuracy: 1.0000 \n",
      "Epoch 29: val_loss did not improve from 0.11264\n",
      "19/19 [==============================] - 649s 34s/step - loss: 3.6803e-05 - accuracy: 1.0000 - val_loss: 0.1474 - val_accuracy: 0.9695 - lr: 1.0000e-04\n",
      "Epoch 30/50\n",
      "19/19 [==============================] - ETA: 0s - loss: 4.4910e-05 - accuracy: 1.0000 \n",
      "Epoch 30: val_loss did not improve from 0.11264\n",
      "19/19 [==============================] - 646s 34s/step - loss: 4.4910e-05 - accuracy: 1.0000 - val_loss: 0.1459 - val_accuracy: 0.9695 - lr: 1.0000e-04\n",
      "Epoch 31/50\n",
      "19/19 [==============================] - ETA: 0s - loss: 3.4348e-05 - accuracy: 1.0000 \n",
      "Epoch 31: val_loss did not improve from 0.11264\n",
      "19/19 [==============================] - 643s 34s/step - loss: 3.4348e-05 - accuracy: 1.0000 - val_loss: 0.1449 - val_accuracy: 0.9695 - lr: 1.0000e-04\n",
      "Epoch 32/50\n",
      "19/19 [==============================] - ETA: 0s - loss: 3.4987e-05 - accuracy: 1.0000 \n",
      "Epoch 32: val_loss did not improve from 0.11264\n",
      "19/19 [==============================] - 646s 34s/step - loss: 3.4987e-05 - accuracy: 1.0000 - val_loss: 0.1445 - val_accuracy: 0.9695 - lr: 1.0000e-04\n",
      "Epoch 33/50\n",
      "19/19 [==============================] - ETA: 0s - loss: 2.7586e-05 - accuracy: 1.0000 \n",
      "Epoch 33: val_loss did not improve from 0.11264\n",
      "19/19 [==============================] - 647s 34s/step - loss: 2.7586e-05 - accuracy: 1.0000 - val_loss: 0.1437 - val_accuracy: 0.9771 - lr: 1.0000e-04\n",
      "Epoch 34/50\n",
      "19/19 [==============================] - ETA: 0s - loss: 2.4320e-05 - accuracy: 1.0000 \n",
      "Epoch 34: val_loss did not improve from 0.11264\n",
      "19/19 [==============================] - 648s 34s/step - loss: 2.4320e-05 - accuracy: 1.0000 - val_loss: 0.1434 - val_accuracy: 0.9771 - lr: 1.0000e-04\n",
      "Epoch 35/50\n",
      "19/19 [==============================] - ETA: 0s - loss: 6.3687e-05 - accuracy: 1.0000 \n",
      "Epoch 35: val_loss did not improve from 0.11264\n",
      "19/19 [==============================] - 649s 34s/step - loss: 6.3687e-05 - accuracy: 1.0000 - val_loss: 0.1419 - val_accuracy: 0.9771 - lr: 1.0000e-04\n",
      "Epoch 36/50\n",
      "19/19 [==============================] - ETA: 0s - loss: 2.7113e-05 - accuracy: 1.0000 \n",
      "Epoch 36: val_loss did not improve from 0.11264\n",
      "19/19 [==============================] - 655s 35s/step - loss: 2.7113e-05 - accuracy: 1.0000 - val_loss: 0.1396 - val_accuracy: 0.9771 - lr: 1.0000e-04\n",
      "Epoch 37/50\n",
      "19/19 [==============================] - ETA: 0s - loss: 2.3178e-05 - accuracy: 1.0000 \n",
      "Epoch 37: val_loss did not improve from 0.11264\n",
      "19/19 [==============================] - 641s 34s/step - loss: 2.3178e-05 - accuracy: 1.0000 - val_loss: 0.1394 - val_accuracy: 0.9771 - lr: 1.0000e-04\n",
      "Epoch 38/50\n",
      "19/19 [==============================] - ETA: 0s - loss: 2.7282e-05 - accuracy: 1.0000 \n",
      "Epoch 38: val_loss did not improve from 0.11264\n",
      "19/19 [==============================] - 647s 34s/step - loss: 2.7282e-05 - accuracy: 1.0000 - val_loss: 0.1396 - val_accuracy: 0.9771 - lr: 1.0000e-04\n",
      "Epoch 39/50\n",
      "19/19 [==============================] - ETA: 0s - loss: 4.2379e-05 - accuracy: 1.0000 \n",
      "Epoch 39: val_loss did not improve from 0.11264\n",
      "19/19 [==============================] - 662s 35s/step - loss: 4.2379e-05 - accuracy: 1.0000 - val_loss: 0.1409 - val_accuracy: 0.9771 - lr: 1.0000e-04\n",
      "Epoch 40/50\n",
      "19/19 [==============================] - ETA: 0s - loss: 2.1830e-05 - accuracy: 1.0000 \n",
      "Epoch 40: val_loss did not improve from 0.11264\n",
      "19/19 [==============================] - 654s 34s/step - loss: 2.1830e-05 - accuracy: 1.0000 - val_loss: 0.1417 - val_accuracy: 0.9771 - lr: 1.0000e-04\n",
      "Epoch 41/50\n",
      "19/19 [==============================] - ETA: 0s - loss: 2.4096e-05 - accuracy: 1.0000 \n",
      "Epoch 41: val_loss did not improve from 0.11264\n",
      "19/19 [==============================] - 641s 34s/step - loss: 2.4096e-05 - accuracy: 1.0000 - val_loss: 0.1425 - val_accuracy: 0.9771 - lr: 1.0000e-04\n",
      "Epoch 42/50\n",
      "19/19 [==============================] - ETA: 0s - loss: 1.7673e-05 - accuracy: 1.0000 \n",
      "Epoch 42: val_loss did not improve from 0.11264\n",
      "19/19 [==============================] - 650s 34s/step - loss: 1.7673e-05 - accuracy: 1.0000 - val_loss: 0.1430 - val_accuracy: 0.9771 - lr: 1.0000e-04\n",
      "Epoch 43/50\n",
      "19/19 [==============================] - ETA: 0s - loss: 1.9134e-05 - accuracy: 1.0000 \n",
      "Epoch 43: val_loss did not improve from 0.11264\n",
      "19/19 [==============================] - 635s 33s/step - loss: 1.9134e-05 - accuracy: 1.0000 - val_loss: 0.1437 - val_accuracy: 0.9771 - lr: 1.0000e-04\n",
      "Epoch 44/50\n",
      "19/19 [==============================] - ETA: 0s - loss: 2.0813e-05 - accuracy: 1.0000 \n",
      "Epoch 44: val_loss did not improve from 0.11264\n",
      "19/19 [==============================] - 646s 34s/step - loss: 2.0813e-05 - accuracy: 1.0000 - val_loss: 0.1440 - val_accuracy: 0.9771 - lr: 1.0000e-04\n",
      "Epoch 45/50\n",
      "19/19 [==============================] - ETA: 0s - loss: 3.2179e-05 - accuracy: 1.0000 \n",
      "Epoch 45: val_loss did not improve from 0.11264\n",
      "19/19 [==============================] - 639s 34s/step - loss: 3.2179e-05 - accuracy: 1.0000 - val_loss: 0.1445 - val_accuracy: 0.9771 - lr: 1.0000e-04\n",
      "Epoch 46/50\n",
      "19/19 [==============================] - ETA: 0s - loss: 2.7392e-05 - accuracy: 1.0000 \n",
      "Epoch 46: val_loss did not improve from 0.11264\n",
      "19/19 [==============================] - 638s 34s/step - loss: 2.7392e-05 - accuracy: 1.0000 - val_loss: 0.1450 - val_accuracy: 0.9771 - lr: 1.0000e-04\n",
      "Epoch 47/50\n",
      "19/19 [==============================] - ETA: 0s - loss: 1.9574e-05 - accuracy: 1.0000 \n",
      "Epoch 47: val_loss did not improve from 0.11264\n",
      "19/19 [==============================] - 653s 34s/step - loss: 1.9574e-05 - accuracy: 1.0000 - val_loss: 0.1458 - val_accuracy: 0.9771 - lr: 1.0000e-04\n",
      "Epoch 48/50\n",
      "19/19 [==============================] - ETA: 0s - loss: 1.8646e-05 - accuracy: 1.0000 \n",
      "Epoch 48: val_loss did not improve from 0.11264\n",
      "19/19 [==============================] - 637s 33s/step - loss: 1.8646e-05 - accuracy: 1.0000 - val_loss: 0.1465 - val_accuracy: 0.9771 - lr: 1.0000e-04\n",
      "Epoch 49/50\n",
      "19/19 [==============================] - ETA: 0s - loss: 1.9135e-05 - accuracy: 1.0000 \n",
      "Epoch 49: val_loss did not improve from 0.11264\n",
      "19/19 [==============================] - 652s 34s/step - loss: 1.9135e-05 - accuracy: 1.0000 - val_loss: 0.1469 - val_accuracy: 0.9771 - lr: 1.0000e-04\n",
      "Epoch 50/50\n",
      "19/19 [==============================] - ETA: 0s - loss: 1.5950e-05 - accuracy: 1.0000 \n",
      "Epoch 50: val_loss did not improve from 0.11264\n",
      "19/19 [==============================] - 644s 34s/step - loss: 1.5950e-05 - accuracy: 1.0000 - val_loss: 0.1482 - val_accuracy: 0.9771 - lr: 1.0000e-04\n"
     ]
    },
    {
     "data": {
      "image/png": "[encoded data removed]",
      "text/plain": [
       "<Figure size 640x480 with 1 Axes>"
      ]
     },
     "metadata": {},
     "output_type": "display_data"
    },
    {
     "name": "stdout",
     "output_type": "stream",
     "text": [
      "\n",
      "\n"
     ]
    },
    {
     "data": {
      "image/png": "[encoded data removed]",
      "text/plain": [
       "<Figure size 640x480 with 1 Axes>"
      ]
     },
     "metadata": {},
     "output_type": "display_data"
    }
   ],
   "source": [
    "filepath=\"/results/densenet121_imagenet.hdf5\"\n",
    "checkpoint = ModelCheckpoint(filepath, monitor=\"val_loss\", verbose=1, save_best_only=True, mode='min')\n",
    "reduce_lr = ReduceLROnPlateau(monitor='val_loss', factor=0.5, patience=2, min_lr=0.0001, verbose=0)\n",
    "history = model.fit(X_train_list_to_4d, y_train, batch_size=64, epochs=50, validation_split=0.10, verbose=1, callbacks=[checkpoint, reduce_lr])\n",
    "history=history.history\n",
    " \n",
    "plot_metrics(history)"
   ]
  },
  {
   "cell_type": "code",
   "execution_count": 13,
   "metadata": {
    "execution": {
     "iopub.execute_input": "2023-09-20T06:50:35.506417Z",
     "iopub.status.busy": "2023-09-20T06:50:35.506083Z",
     "iopub.status.idle": "2023-09-20T06:51:06.029414Z",
     "shell.execute_reply": "2023-09-20T06:51:06.027934Z",
     "shell.execute_reply.started": "2023-09-20T06:50:35.506389Z"
    }
   },
   "outputs": [
    {
     "name": "stdout",
     "output_type": "stream",
     "text": [
      "Test loss : 0.01878, Test Accuracy: 0.9863\n",
      "\n",
      "\n"
     ]
    }
   ],
   "source": [
    "model = load_model('/results/densenet121_imagenet.hdf5')\n",
    "\n",
    "test_loss, test_acc = model.evaluate(X_test_list_to_4d, y_test, verbose=0)\n",
    "print(f\"Test loss : {test_loss:0.4}, Test Accuracy: {test_acc:0.4}\")\n",
    "\n",
    "print(\"\\n\")"
   ]
  },
  {
   "cell_type": "code",
   "execution_count": 14,
   "metadata": {
    "execution": {
     "iopub.execute_input": "2023-09-20T06:51:28.871757Z",
     "iopub.status.busy": "2023-09-20T06:51:28.870643Z",
     "iopub.status.idle": "2023-09-20T06:51:43.453376Z",
     "shell.execute_reply": "2023-09-20T06:51:43.452241Z",
     "shell.execute_reply.started": "2023-09-20T06:51:28.871704Z"
    }
   },
   "outputs": [],
   "source": [
    "predictions = model.predict(X_test_list_to_4d, verbose=0)\n",
    "predict_classes_find=[]\n",
    "predictions_end=[]\n",
    "for prd_clssv in predictions:\n",
    "    predictions_end.append(max(prd_clssv))\n",
    "    predict_classes_find.append(prd_clssv.argmax())  \n",
    "predict_classes_find=np.array(predict_classes_find)\n",
    "predictions_end=np.array(predictions_end)"
   ]
  },
  {
   "cell_type": "code",
   "execution_count": 15,
   "metadata": {
    "execution": {
     "iopub.execute_input": "2023-09-20T06:51:48.262135Z",
     "iopub.status.busy": "2023-09-20T06:51:48.261351Z",
     "iopub.status.idle": "2023-09-20T06:51:49.674071Z",
     "shell.execute_reply": "2023-09-20T06:51:49.672502Z",
     "shell.execute_reply.started": "2023-09-20T06:51:48.262094Z"
    }
   },
   "outputs": [
    {
     "name": "stdout",
     "output_type": "stream",
     "text": [
      "Accuracy: 0.9863\n",
      "Precision: 0.9733\n",
      "Recall: 1.0000\n",
      "F1 score: 0.9865\n",
      "Cohens kappa: 0.9726\n",
      "ROC AUC: 0.9863\n",
      "\n",
      "\n"
     ]
    },
    {
     "data": {
      "image/png": "[encoded data removed]",
      "text/plain": [
       "<Figure size 640x480 with 2 Axes>"
      ]
     },
     "metadata": {},
     "output_type": "display_data"
    },
    {
     "name": "stdout",
     "output_type": "stream",
     "text": [
      "\n",
      "\n",
      "\n",
      "\n",
      "Report : \n",
      "              precision    recall  f1-score   support\n",
      "\n",
      "     No Fire       1.00      0.97      0.99        73\n",
      "        Fire       0.97      1.00      0.99        73\n",
      "\n",
      "    accuracy                           0.99       146\n",
      "   macro avg       0.99      0.99      0.99       146\n",
      "weighted avg       0.99      0.99      0.99       146\n",
      "\n",
      "\n",
      "\n",
      "MSE: 0.0137\n",
      "RMSE: 0.1170\n",
      "\n",
      "\n"
     ]
    },
    {
     "data": {
      "image/png": "[encoded data removed]",
      "text/plain": [
       "<Figure size 640x480 with 1 Axes>"
      ]
     },
     "metadata": {},
     "output_type": "display_data"
    },
    {
     "name": "stdout",
     "output_type": "stream",
     "text": [
      "\n",
      "\n"
     ]
    }
   ],
   "source": [
    "statistc_analysis(actual, predict_classes_find)"
   ]
  },
  {
   "cell_type": "code",
   "execution_count": 20,
   "metadata": {
    "execution": {
     "iopub.execute_input": "2023-09-20T06:54:15.026816Z",
     "iopub.status.busy": "2023-09-20T06:54:15.026283Z",
     "iopub.status.idle": "2023-09-20T06:54:15.480095Z",
     "shell.execute_reply": "2023-09-20T06:54:15.478630Z",
     "shell.execute_reply.started": "2023-09-20T06:54:15.026779Z"
    }
   },
   "outputs": [],
   "source": [
    "pred_fire_image_split_carry(X_test, predict_classes_find, predictions_end)"
   ]
  },
  {
   "cell_type": "code",
   "execution_count": 21,
   "metadata": {
    "execution": {
     "iopub.execute_input": "2023-09-20T06:54:20.249727Z",
     "iopub.status.busy": "2023-09-20T06:54:20.249191Z",
     "iopub.status.idle": "2023-09-20T06:54:20.266465Z",
     "shell.execute_reply": "2023-09-20T06:54:20.264652Z",
     "shell.execute_reply.started": "2023-09-20T06:54:20.249689Z"
    }
   },
   "outputs": [
    {
     "name": "stdout",
     "output_type": "stream",
     "text": [
      "****************************** overall statistics start ******************************\n",
      "Predict  0        1        \n",
      "Actual\n",
      "0        71       2        \n",
      "\n",
      "1        0        73       \n",
      "\n",
      "\n",
      "\n",
      "\n",
      "\n",
      "Overall Statistics : \n",
      "\n",
      "95% CI                                                            (0.96745,1.00516)\n",
      "ACC Macro                                                         0.9863\n",
      "ARI                                                               0.94558\n",
      "AUNP                                                              0.9863\n",
      "AUNU                                                              0.9863\n",
      "Bangdiwala B                                                      0.97298\n",
      "Bennett S                                                         0.9726\n",
      "CBA                                                               0.97297\n",
      "CSI                                                               0.97297\n",
      "Chi-Squared                                                       138.21333\n",
      "Chi-Squared DF                                                    1\n",
      "Conditional Entropy                                               0.09058\n",
      "Cramer V                                                          0.97297\n",
      "Cross Entropy                                                     1.00054\n",
      "F1 Macro                                                          0.9863\n",
      "F1 Micro                                                          0.9863\n",
      "FNR Macro                                                         0.0137\n",
      "FNR Micro                                                         0.0137\n",
      "FPR Macro                                                         0.0137\n",
      "FPR Micro                                                         0.0137\n",
      "Gwet AC1                                                          0.97261\n",
      "Hamming Loss                                                      0.0137\n",
      "Joint Entropy                                                     1.09058\n",
      "KL Divergence                                                     0.00054\n",
      "Kappa                                                             0.9726\n",
      "Kappa 95% CI                                                      (0.93489,1.01031)\n",
      "Kappa No Prevalence                                               0.9726\n",
      "Kappa Standard Error                                              0.01924\n",
      "Kappa Unbiased                                                    0.9726\n",
      "Krippendorff Alpha                                                0.97269\n",
      "Lambda A                                                          0.9726\n",
      "Lambda B                                                          0.97183\n",
      "Mutual Information                                                0.90888\n",
      "NIR                                                               0.5\n",
      "NPV Macro                                                         0.98667\n",
      "NPV Micro                                                         0.9863\n",
      "Overall ACC                                                       0.9863\n",
      "Overall CEN                                                       0.08479\n",
      "Overall J                                                         (1.94594,0.97297)\n",
      "Overall MCC                                                       0.97297\n",
      "Overall MCEN                                                      0.07136\n",
      "Overall RACC                                                      0.5\n",
      "Overall RACCU                                                     0.50009\n",
      "P-Value                                                           0.0\n",
      "PPV Macro                                                         0.98667\n",
      "PPV Micro                                                         0.9863\n",
      "Pearson C                                                         0.69735\n",
      "Phi-Squared                                                       0.94667\n",
      "RCI                                                               0.90888\n",
      "RR                                                                73.0\n",
      "Reference Entropy                                                 1.0\n",
      "Response Entropy                                                  0.99946\n",
      "SOA1(Landis & Koch)                                               Almost Perfect\n",
      "SOA2(Fleiss)                                                      Excellent\n",
      "SOA3(Altman)                                                      Very Good\n",
      "SOA4(Cicchetti)                                                   Excellent\n",
      "SOA5(Cramer)                                                      Very Strong\n",
      "SOA6(Matthews)                                                    Very Strong\n",
      "SOA7(Lambda A)                                                    Very Strong\n",
      "SOA8(Lambda B)                                                    Very Strong\n",
      "SOA9(Krippendorff Alpha)                                          High\n",
      "SOA10(Pearson C)                                                  Strong\n",
      "Scott PI                                                          0.9726\n",
      "Standard Error                                                    0.00962\n",
      "TNR Macro                                                         0.9863\n",
      "TNR Micro                                                         0.9863\n",
      "TPR Macro                                                         0.9863\n",
      "TPR Micro                                                         0.9863\n",
      "Zero-one Loss                                                     2\n",
      "\n",
      "Class Statistics :\n",
      "\n",
      "Classes                                                           0             1             \n",
      "ACC(Accuracy)                                                     0.9863        0.9863        \n",
      "AGF(Adjusted F-score)                                             0.97826       0.99447       \n",
      "AGM(Adjusted geometric mean)                                      0.9908        0.98167       \n",
      "AM(Difference between automatic and manual classification)        -2            2             \n",
      "AUC(Area under the ROC curve)                                     0.9863        0.9863        \n",
      "AUCI(AUC value interpretation)                                    Excellent     Excellent     \n",
      "AUPR(Area under the PR curve)                                     0.9863        0.98667       \n",
      "BB(Braun-Blanquet similarity)                                     0.9726        0.97333       \n",
      "BCD(Bray-Curtis dissimilarity)                                    0.00685       0.00685       \n",
      "BM(Informedness or bookmaker informedness)                        0.9726        0.9726        \n",
      "CEN(Confusion entropy)                                            0.08569       0.08391       \n",
      "DOR(Diagnostic odds ratio)                                        None          None          \n",
      "DP(Discriminant power)                                            None          None          \n",
      "DPI(Discriminant power interpretation)                            None          None          \n",
      "ERR(Error rate)                                                   0.0137        0.0137        \n",
      "F0.5(F0.5 score)                                                  0.9944        0.97855       \n",
      "F1(F1 score - harmonic mean of precision and sensitivity)         0.98611       0.98649       \n",
      "F2(F2 score)                                                      0.97796       0.99455       \n",
      "FDR(False discovery rate)                                         0.0           0.02667       \n",
      "FN(False negative/miss/type 2 error)                              2             0             \n",
      "FNR(Miss rate or false negative rate)                             0.0274        0.0           \n",
      "FOR(False omission rate)                                          0.02667       0.0           \n",
      "FP(False positive/type 1 error/false alarm)                       0             2             \n",
      "FPR(Fall-out or false positive rate)                              0.0           0.0274        \n",
      "G(G-measure geometric mean of precision and sensitivity)          0.98621       0.98658       \n",
      "GI(Gini index)                                                    0.9726        0.9726        \n",
      "GM(G-mean geometric mean of specificity and sensitivity)          0.98621       0.98621       \n",
      "HD(Hamming distance)                                              2             2             \n",
      "IBA(Index of balanced accuracy)                                   0.94596       0.99925       \n",
      "ICSI(Individual classification success index)                     0.9726        0.97333       \n",
      "IS(Information score)                                             1.0           0.96101       \n",
      "J(Jaccard index)                                                  0.9726        0.97333       \n",
      "LS(Lift score)                                                    2.0           1.94667       \n",
      "MCC(Matthews correlation coefficient)                             0.97297       0.97297       \n",
      "MCCI(Matthews correlation coefficient interpretation)             Very Strong   Very Strong   \n",
      "MCEN(Modified confusion entropy)                                  0.14219       0.13944       \n",
      "MK(Markedness)                                                    0.97333       0.97333       \n",
      "N(Condition negative)                                             73            73            \n",
      "NLR(Negative likelihood ratio)                                    0.0274        0.0           \n",
      "NLRI(Negative likelihood ratio interpretation)                    Good          Good          \n",
      "NPV(Negative predictive value)                                    0.97333       1.0           \n",
      "OC(Overlap coefficient)                                           1.0           1.0           \n",
      "OOC(Otsuka-Ochiai coefficient)                                    0.98621       0.98658       \n",
      "OP(Optimized precision)                                           0.97241       0.97241       \n",
      "P(Condition positive or support)                                  73            73            \n",
      "PLR(Positive likelihood ratio)                                    None          36.5          \n",
      "PLRI(Positive likelihood ratio interpretation)                    None          Good          \n",
      "POP(Population)                                                   146           146           \n",
      "PPV(Precision or positive predictive value)                       1.0           0.97333       \n",
      "PRE(Prevalence)                                                   0.5           0.5           \n",
      "Q(Yule Q - coefficient of colligation)                            None          None          \n",
      "QI(Yule Q interpretation)                                         None          None          \n",
      "RACC(Random accuracy)                                             0.24315       0.25685       \n",
      "RACCU(Random accuracy unbiased)                                   0.2432        0.2569        \n",
      "TN(True negative/correct rejection)                               73            71            \n",
      "TNR(Specificity or true negative rate)                            1.0           0.9726        \n",
      "TON(Test outcome negative)                                        75            71            \n",
      "TOP(Test outcome positive)                                        71            75            \n",
      "TP(True positive/hit)                                             71            73            \n",
      "TPR(Sensitivity, recall, hit rate, or true positive rate)         0.9726        1.0           \n",
      "Y(Youden index)                                                   0.9726        0.9726        \n",
      "dInd(Distance index)                                              0.0274        0.0274        \n",
      "sInd(Similarity index)                                            0.98063       0.98063       \n",
      "\n",
      "****************************** overall statistics end ******************************\n"
     ]
    }
   ],
   "source": [
    "print(\"*\"*30,\"overall statistics start\",\"*\"*30)\n",
    "overall_statistics(actual, predict_classes_find)\n",
    "print(\"*\"*30,\"overall statistics end\",\"*\"*30)"
   ]
  },
  {
   "cell_type": "code",
   "execution_count": null,
   "metadata": {},
   "outputs": [],
   "source": []
  },
  {
   "cell_type": "code",
   "execution_count": null,
   "metadata": {},
   "outputs": [],
   "source": []
  },
  {
   "cell_type": "code",
   "execution_count": null,
   "metadata": {},
   "outputs": [],
   "source": []
  },
  {
   "cell_type": "code",
   "execution_count": null,
   "metadata": {},
   "outputs": [],
   "source": []
  },
  {
   "cell_type": "code",
   "execution_count": null,
   "metadata": {},
   "outputs": [],
   "source": []
  },
  {
   "cell_type": "code",
   "execution_count": null,
   "metadata": {},
   "outputs": [],
   "source": []
  },
  {
   "cell_type": "code",
   "execution_count": null,
   "metadata": {},
   "outputs": [],
   "source": []
  },
  {
   "cell_type": "code",
   "execution_count": null,
   "metadata": {},
   "outputs": [],
   "source": []
  },
  {
   "cell_type": "code",
   "execution_count": null,
   "metadata": {},
   "outputs": [],
   "source": []
  }
 ],
 "metadata": {
  "kernelspec": {
   "display_name": "Python 3 (ipykernel)",
   "language": "python",
   "name": "python3"
  },
  "language_info": {
   "codemirror_mode": {
    "name": "ipython",
    "version": 3
   },
   "file_extension": ".py",
   "mimetype": "text/x-python",
   "name": "python",
   "nbconvert_exporter": "python",
   "pygments_lexer": "ipython3",
   "version": "3.11.4"
  },
  "varInspector": {
   "cols": {
    "lenName": 16,
    "lenType": 16,
    "lenVar": 40
   },
   "kernels_config": {
    "python": {
     "delete_cmd_postfix": "",
     "delete_cmd_prefix": "del ",
     "library": "var_list.py",
     "varRefreshCmd": "print(var_dic_list())"
    },
    "r": {
     "delete_cmd_postfix": ") ",
     "delete_cmd_prefix": "rm(",
     "library": "var_list.r",
     "varRefreshCmd": "cat(var_dic_list()) "
    }
   },
   "types_to_exclude": [
    "module",
    "function",
    "builtin_function_or_method",
    "instance",
    "_Feature"
   ],
   "window_display": false
  }
 },
 "nbformat": 4,
 "nbformat_minor": 4
}
