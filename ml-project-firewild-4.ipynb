{
 "cells": [
  {
   "cell_type": "code",
   "execution_count": 1,
   "metadata": {
    "_cell_guid": "b1076dfc-b9ad-4769-8c92-a6c4dae69d19",
    "_uuid": "8f2839f25d086af736a60e9eeb907d3b93b6e0e5",
    "execution": {
     "iopub.execute_input": "2023-09-20T08:45:53.184969Z",
     "iopub.status.busy": "2023-09-20T08:45:53.184462Z",
     "iopub.status.idle": "2023-09-20T08:45:53.211416Z",
     "shell.execute_reply": "2023-09-20T08:45:53.210311Z",
     "shell.execute_reply.started": "2023-09-20T08:45:53.184939Z"
    }
   },
   "outputs": [],
   "source": [
    "# # This Python 3 environment comes with many helpful analytics libraries installed\n",
    "# # It is defined by the kaggle/python Docker image: https://github.com/kaggle/docker-python\n",
    "# # For example, here's several helpful packages to load\n",
    "\n",
    "# import numpy as np # linear algebra\n",
    "# import pandas as pd # data processing, CSV file I/O (e.g. pd.read_csv)\n",
    "\n",
    "# # Input data files are available in the read-only \"../input/\" directory\n",
    "# # For example, running this (by clicking run or pressing Shift+Enter) will list all files under the input directory\n",
    "\n",
    "# import os\n",
    "# for dirname, _, filenames in os.walk('/kaggle/input'):\n",
    "#     for filename in filenames:\n",
    "#         print(os.path.join(dirname, filename))\n",
    "\n",
    "# # You can write up to 20GB to the current directory (/kaggle/working/) that gets preserved as output when you create a version using \"Save & Run All\" \n",
    "# # You can also write temporary files to /kaggle/temp/, but they won't be saved outside of the current session"
   ]
  },
  {
   "cell_type": "markdown",
   "metadata": {},
   "source": [
    "# resnet50v2_transfer_learning"
   ]
  },
  {
   "cell_type": "code",
   "execution_count": 3,
   "metadata": {
    "execution": {
     "iopub.execute_input": "2023-09-20T08:47:25.353816Z",
     "iopub.status.busy": "2023-09-20T08:47:25.353409Z",
     "iopub.status.idle": "2023-09-20T08:47:25.359060Z",
     "shell.execute_reply": "2023-09-20T08:47:25.358088Z",
     "shell.execute_reply.started": "2023-09-20T08:47:25.353782Z"
    }
   },
   "outputs": [],
   "source": [
    "# pip install pycm"
   ]
  },
  {
   "cell_type": "code",
   "execution_count": 4,
   "metadata": {
    "execution": {
     "iopub.execute_input": "2023-09-20T08:47:30.805178Z",
     "iopub.status.busy": "2023-09-20T08:47:30.804814Z",
     "iopub.status.idle": "2023-09-20T08:47:40.361149Z",
     "shell.execute_reply": "2023-09-20T08:47:40.359930Z",
     "shell.execute_reply.started": "2023-09-20T08:47:30.805149Z"
    }
   },
   "outputs": [],
   "source": [
    "from sklearn.metrics import classification_report,accuracy_score,roc_auc_score,roc_curve, precision_score,recall_score,f1_score,cohen_kappa_score,confusion_matrix,mean_squared_error\n",
    "from sklearn.model_selection import train_test_split\n",
    "from tensorflow.keras.callbacks import ModelCheckpoint, ReduceLROnPlateau\n",
    "from tensorflow.keras.applications import ResNet50V2\n",
    "from tensorflow.keras.utils import to_categorical\n",
    "from tensorflow.keras.models import load_model\n",
    "from tensorflow.keras.models import load_model, Sequential\n",
    "from tensorflow.keras.layers import Dense\n",
    "from pycm import ConfusionMatrix\n",
    "from collections import Counter\n",
    "from os import listdir\n",
    "from math import sqrt\n",
    "\n",
    "import matplotlib.pyplot as plt\n",
    "import tensorflow as tf\n",
    "import numpy as np\n",
    "import itertools\n",
    "import os, shutil\n",
    "import cv2"
   ]
  },
  {
   "cell_type": "code",
   "execution_count": 5,
   "metadata": {
    "execution": {
     "iopub.execute_input": "2023-09-20T08:47:45.299485Z",
     "iopub.status.busy": "2023-09-20T08:47:45.298377Z",
     "iopub.status.idle": "2023-09-20T08:47:45.325695Z",
     "shell.execute_reply": "2023-09-20T08:47:45.324365Z",
     "shell.execute_reply.started": "2023-09-20T08:47:45.299446Z"
    }
   },
   "outputs": [
    {
     "name": "stdout",
     "output_type": "stream",
     "text": [
      "tf version: 2.12.0\n"
     ]
    }
   ],
   "source": [
    "os.environ[\"CUDA_DEVICE_ORDER\"] = \"PCI_BUS_ID\"\n",
    "os.environ[\"CUDA_VISIBLE_DEVICES\"]=\"0,2,3,4\"\n",
    "gpu_options = tf.compat.v1.GPUOptions(per_process_gpu_memory_fraction=0.99)\n",
    "tf.compat.v1.Session(config=tf.compat.v1.ConfigProto(gpu_options=gpu_options))\n",
    "\n",
    "print(\"tf version:\", tf.__version__)"
   ]
  },
  {
   "cell_type": "code",
   "execution_count": 6,
   "metadata": {
    "execution": {
     "iopub.execute_input": "2023-09-20T08:49:02.167698Z",
     "iopub.status.busy": "2023-09-20T08:49:02.167290Z",
     "iopub.status.idle": "2023-09-20T08:49:02.210309Z",
     "shell.execute_reply": "2023-09-20T08:49:02.209308Z",
     "shell.execute_reply.started": "2023-09-20T08:49:02.167668Z"
    }
   },
   "outputs": [],
   "source": [
    "def load_data(dir_list, image_size):\n",
    "    X = []\n",
    "    y = []\n",
    "    all_image_with_label = []\n",
    "    image_width, image_height = image_size\n",
    "    for directory in dir_list:\n",
    "        for filename in listdir(directory):\n",
    "            image = cv2.imread(directory+ \"/\"+ filename)\n",
    "            image = cv2.resize(image, dsize=(image_width, image_height), interpolation=cv2.INTER_CUBIC)\n",
    "            image = image / 255.\n",
    "            image_label_set_label = (0, 1)[directory[-4:] == 'fire']\n",
    "            image_name_with_label = filename, image_label_set_label\n",
    "            all_image_with_label.append(image_name_with_label)\n",
    "            np.savetxt(\"/results/resnet50v2_image_data_feature_save.csv\", all_image_with_label, delimiter=\",\", fmt='%s')\n",
    "            image_name_matrix_with_label = image, filename, image_label_set_label\n",
    "            X.append(image_name_matrix_with_label)\n",
    "            y.append((0, 1)[directory[-4:] == 'fire'])\n",
    "\n",
    "    X = np.array(X)\n",
    "    y = np.array(y)\n",
    "    \n",
    "    print(Counter(y))\n",
    "    \n",
    "    return X, y\n",
    "\n",
    "def image_split_folder(source, destination_fire, destination_no_blaze, all_data):\n",
    "    shutil.rmtree(destination_fire, ignore_errors=True)\n",
    "    shutil.rmtree(destination_no_blaze, ignore_errors=True)\n",
    "    os.makedirs(destination_fire)\n",
    "    os.makedirs(destination_no_blaze)\n",
    "    for directory_split_folder_name in source:\n",
    "        files_create = os.listdir(directory_split_folder_name)\n",
    "        for target, label in all_data:\n",
    "            for f_crt in files_create:\n",
    "                if target == f_crt:\n",
    "                    if label == 1:\n",
    "                        shutil.copy(directory_split_folder_name + f_crt, destination_fire + f_crt)\n",
    "                    elif label == 0:\n",
    "                        shutil.copy(directory_split_folder_name + f_crt, destination_no_blaze + f_crt)\n",
    "\n",
    "def pred_fire_image_split_carry(X_test_name, pred_class, predictions):\n",
    "    pred_target_with_label_01 = np.vstack((X_test_name[:,1], pred_class)).T\n",
    "    pred_target_with_label_possibility = np.vstack((X_test_name[:,1], predictions)).T\n",
    "    image_split_folder([\"/kaggle/input/dataset/wildfires/fire/\", \"/kaggle/input/dataset/wildfires/no_blaze/\"], \"/results/pred/fire/\", \"/results/pred/no_blaze/\", pred_target_with_label_01)\n",
    "    np.savetxt(\"/results/pred/resnet50v2_imagenet_fire_or_no_01.csv\", pred_target_with_label_01, delimiter=\",\", fmt='%s')\n",
    "    np.savetxt(\"/results/pred/resnet50v2_imagenet_fire_or_no_possibility.csv\", pred_target_with_label_possibility, delimiter=\",\", fmt='%s')\n",
    "\n",
    "def image_to_4d(datas):\n",
    "    list_to_4d_all_data = []\n",
    "    for data_list_find in datas[:,0]:\n",
    "        list_to_4d_all_data.append(data_list_find)\n",
    "    list_to_4d_all_data = np.array(list_to_4d_all_data)\n",
    "    \n",
    "    return list_to_4d_all_data\n",
    "\n",
    "def plot_metrics(history):\n",
    "    \n",
    "    train_loss = history['loss']\n",
    "    val_loss = history['val_loss']\n",
    "    train_acc = history['accuracy']\n",
    "    val_acc = history['val_accuracy'] \n",
    "    \n",
    "    np.savetxt('/results/resnet50v2_imagenet_training_loss.csv', train_loss, fmt=\"%1.16f\", delimiter=\",\")\n",
    "    np.savetxt('/results/resnet50v2_imagenet_validation_loss.csv', val_loss, fmt=\"%1.16f\", delimiter=\",\") \n",
    "\n",
    "    np.savetxt('/results/resnet50v2_imagenet_training_accuracy.csv', train_acc, fmt=\"%1.16f\", delimiter=\",\")\n",
    "    np.savetxt('/results/resnet50v2_imagenet_val_accuracy.csv', val_acc, fmt=\"%1.16f\", delimiter=\",\") \n",
    "        \n",
    "    plt.figure()\n",
    "    plt.plot(train_loss, label='Training Loss')\n",
    "    plt.plot(val_loss, label='Validation Loss')\n",
    "    plt.ylabel('Loss')\n",
    "    plt.xlabel('Epoch')\n",
    "    plt.legend(loc=\"best\")\n",
    "    plt.savefig('/results/resnet50v2_imagenet_loss.jpg', dpi=600, bbox_inches='tight')\n",
    "    plt.show()\n",
    "    \n",
    "    print(\"\\n\") \n",
    "\n",
    "    plt.figure()\n",
    "    plt.plot(train_acc, label='Training Accuracy')\n",
    "    plt.plot(val_acc, label='Validation Accuracy')\n",
    "    plt.ylabel('Accuracy')\n",
    "    plt.xlabel('Epoch')\n",
    "    plt.legend(loc=\"best\")\n",
    "    plt.savefig('/results/resnet50v2_imagenet_accuracy.jpg', dpi=600, bbox_inches='tight')\n",
    "    plt.show()\n",
    "\n",
    "def build_model(img_shape):\n",
    "    \n",
    "    model = Sequential()\n",
    "    \n",
    "    model.add(ResNet50V2(input_shape = (img_shape), include_top = False, weights=\"imagenet\", pooling=\"max\"))\n",
    "\n",
    "    model.add(Dense(2, activation=\"softmax\"))\n",
    "    \n",
    "    return model\n",
    "    \n",
    "def plot_confusion_matrix(cm, classes, normalize=False, title='Confusion matrix', cmap=plt.cm.Blues):\n",
    "    plt.imshow(cm, interpolation='nearest', cmap=cmap)\n",
    "    plt.title(title)\n",
    "    plt.colorbar()\n",
    "    tick_marks = np.arange(len(classes))\n",
    "    plt.xticks(tick_marks, classes)\n",
    "    plt.yticks(tick_marks, classes)\n",
    "    fmt = '.2f' if normalize else 'd'\n",
    "    thresh = cm.max() / 2.\n",
    "    for i, j in itertools.product(range(cm.shape[0]), range(cm.shape[1])):\n",
    "        plt.text(j, i, format(cm[i, j], fmt),\n",
    "                 horizontalalignment=\"center\",\n",
    "                 color=\"white\" if cm[i, j] > thresh else \"black\")\n",
    "    plt.tight_layout()\n",
    "    plt.ylabel('True label',labelpad = 5)\n",
    "    plt.xlabel('Predicted label', labelpad = 15)\n",
    "    plt.savefig(\"/results/resnet50v2_imagenet_plt_cm.jpg\", dpi=300, bbox_inches='tight')\n",
    "    plt.show()\n",
    "\n",
    "def statistc_analysis(actual,predict_classes_find):\n",
    "    \n",
    "    np.savetxt('/results/resnet50v2_imagenet_pred.csv', predict_classes_find, fmt=\"%d\", delimiter=\",\")\n",
    "    np.savetxt('/results/resnet50v2_imagenet_actual_test.csv', actual, fmt=\"%d\", delimiter=\",\")    \n",
    "    \n",
    "    accuracy = accuracy_score(actual, predict_classes_find)\n",
    "    print('Accuracy: %0.4f' % accuracy)\n",
    "    \n",
    "    precision = precision_score(actual, predict_classes_find)\n",
    "    print('Precision: %0.4f' % precision)\n",
    "    \n",
    "    recall = recall_score(actual, predict_classes_find)\n",
    "    print('Recall: %0.4f' % recall)\n",
    "    \n",
    "    f1 = f1_score(actual, predict_classes_find)\n",
    "    print('F1 score: %0.4f' % f1)\n",
    "    \n",
    "    kappa = cohen_kappa_score(actual, predict_classes_find)\n",
    "    print('Cohens kappa: %0.4f' % kappa)\n",
    "    \n",
    "    roc_auc_threshold = roc_auc_score(actual, predict_classes_find)\n",
    "    print('ROC AUC: %0.4f' % roc_auc_threshold)\n",
    "    print(\"\\n\")\n",
    "    \n",
    "    plt.figure()\n",
    "    cnf_matrix = confusion_matrix(actual, predict_classes_find, labels=[0,1])\n",
    "    plot_confusion_matrix(cnf_matrix, classes=['No Fire', 'Fire'], normalize= False,  title='Confusion matrix')\n",
    "    print(\"\\n\")\n",
    "        \n",
    "    print(\"\\n\")\n",
    "    print ('Report : ')\n",
    "    target_names = ['No Fire', 'Fire']\n",
    "    print (classification_report(actual, predict_classes_find,target_names=target_names, digits=2))\n",
    "    print(\"\\n\")\n",
    "    \n",
    "    mse = mean_squared_error(actual, predict_classes_find)\n",
    "    print('MSE: %0.4f' % mse)\n",
    "    \n",
    "    rmse = sqrt(mse)\n",
    "    print('RMSE: %0.4f' % rmse)\n",
    "    print(\"\\n\")    \n",
    "           \n",
    "    fpr, tpr, thresholds = roc_curve(actual, predict_classes_find)\n",
    "    roc_auc_threshold = 'ResNet50V2 = %.4f' % (roc_auc_threshold)\n",
    "    plt.plot(fpr, tpr,  color='#2626ff', label=roc_auc_threshold)\n",
    "    plt.plot([0, 1], [0, 1], color='red', linestyle='--', label='', linewidth=2)\n",
    "    plt.xlim([-0.05, 1.05])\n",
    "    plt.ylim([-0.05, 1.05])\n",
    "    plt.legend(loc=\"lower right\")\n",
    "    plt.xlabel('1-Specificity (False Positive Rate)')\n",
    "    plt.ylabel('Sensitivity (True Positive Rate)')\n",
    "    plt.savefig(\"/results/resnet50v2_imagenet_roc_curve.jpg\", dpi=300, bbox_inches='tight')\n",
    "    plt.show()    \n",
    "    print(\"\\n\") \n",
    "    \n",
    "def overall_statistics(actual, predict_classes_find):\n",
    "    \n",
    "    cm = ConfusionMatrix(actual_vector=actual,predict_vector=predict_classes_find)\n",
    "    \n",
    "    print(cm)\n",
    "\n",
    "def create_folder(directory):\n",
    "    try:\n",
    "        if not os.path.exists(directory):\n",
    "            os.makedirs(directory)\n",
    "    except OSError:\n",
    "        print ('Error:' +  directory)"
   ]
  },
  {
   "cell_type": "code",
   "execution_count": 7,
   "metadata": {
    "execution": {
     "iopub.execute_input": "2023-09-20T08:49:13.377984Z",
     "iopub.status.busy": "2023-09-20T08:49:13.377532Z",
     "iopub.status.idle": "2023-09-20T08:49:13.383295Z",
     "shell.execute_reply": "2023-09-20T08:49:13.382370Z",
     "shell.execute_reply.started": "2023-09-20T08:49:13.377950Z"
    }
   },
   "outputs": [],
   "source": [
    "create_folder('/results/')"
   ]
  },
  {
   "cell_type": "code",
   "execution_count": 9,
   "metadata": {
    "execution": {
     "iopub.execute_input": "2023-09-20T08:50:03.556772Z",
     "iopub.status.busy": "2023-09-20T08:50:03.556105Z",
     "iopub.status.idle": "2023-09-20T08:50:23.094915Z",
     "shell.execute_reply": "2023-09-20T08:50:23.093739Z",
     "shell.execute_reply.started": "2023-09-20T08:50:03.556725Z"
    }
   },
   "outputs": [
    {
     "name": "stdout",
     "output_type": "stream",
     "text": [
      "Counter({0: 732, 1: 720})\n"
     ]
    },
    {
     "name": "stderr",
     "output_type": "stream",
     "text": [
      "/tmp/ipykernel_33/3061990163.py:19: VisibleDeprecationWarning: Creating an ndarray from ragged nested sequences (which is a list-or-tuple of lists-or-tuples-or ndarrays with different lengths or shapes) is deprecated. If you meant to do this, you must specify 'dtype=object' when creating the ndarray.\n",
      "  X = np.array(X)\n"
     ]
    }
   ],
   "source": [
    "X, y = load_data([\"/kaggle/input/dataset/wildfires/no_blaze\", \"/kaggle/input/dataset/wildfires/fire\"], (224,224))\n",
    "\n",
    "X_train, X_test, y_train, y_test = train_test_split(X, y, test_size=0.10, random_state=0)"
   ]
  },
  {
   "cell_type": "code",
   "execution_count": 10,
   "metadata": {
    "execution": {
     "iopub.execute_input": "2023-09-20T08:50:26.478459Z",
     "iopub.status.busy": "2023-09-20T08:50:26.478059Z",
     "iopub.status.idle": "2023-09-20T08:50:33.904910Z",
     "shell.execute_reply": "2023-09-20T08:50:33.903778Z",
     "shell.execute_reply.started": "2023-09-20T08:50:26.478427Z"
    }
   },
   "outputs": [
    {
     "name": "stdout",
     "output_type": "stream",
     "text": [
      "Downloading data from https://storage.googleapis.com/tensorflow/keras-applications/resnet/resnet50v2_weights_tf_dim_ordering_tf_kernels_notop.h5\n",
      "94668760/94668760 [==============================] - 3s 0us/step\n",
      "Model: \"sequential\"\n",
      "_________________________________________________________________\n",
      " Layer (type)                Output Shape              Param #   \n",
      "=================================================================\n",
      " resnet50v2 (Functional)     (None, 2048)              23564800  \n",
      "                                                                 \n",
      " dense (Dense)               (None, 2)                 4098      \n",
      "                                                                 \n",
      "=================================================================\n",
      "Total params: 23,568,898\n",
      "Trainable params: 23,523,458\n",
      "Non-trainable params: 45,440\n",
      "_________________________________________________________________\n"
     ]
    }
   ],
   "source": [
    "X_train_list_to_4d = image_to_4d(X_train)\n",
    "X_test_list_to_4d = image_to_4d(X_test)\n",
    "\n",
    "actual=y_test\n",
    "\n",
    "y_train = to_categorical(y_train, 2)\n",
    "y_test = to_categorical(y_test, 2)\n",
    "\n",
    "img_shape = (224, 224, 3)\n",
    "model = build_model(img_shape)\n",
    "model.summary()\n",
    "\n",
    "model.compile(loss=\"categorical_crossentropy\", optimizer=\"adam\", metrics=['accuracy'])"
   ]
  },
  {
   "cell_type": "code",
   "execution_count": 11,
   "metadata": {
    "execution": {
     "iopub.execute_input": "2023-09-20T08:50:42.445641Z",
     "iopub.status.busy": "2023-09-20T08:50:42.445197Z",
     "iopub.status.idle": "2023-09-20T14:50:00.072173Z",
     "shell.execute_reply": "2023-09-20T14:50:00.070585Z",
     "shell.execute_reply.started": "2023-09-20T08:50:42.445606Z"
    }
   },
   "outputs": [
    {
     "name": "stdout",
     "output_type": "stream",
     "text": [
      "Epoch 1/50\n",
      "19/19 [==============================] - ETA: 0s - loss: 1.4493 - accuracy: 0.8596 \n",
      "Epoch 1: val_loss improved from inf to 50.90025, saving model to /results/resnet50v2_imagenet.hdf5\n",
      "19/19 [==============================] - 457s 23s/step - loss: 1.4493 - accuracy: 0.8596 - val_loss: 50.9002 - val_accuracy: 0.5191 - lr: 0.0010\n",
      "Epoch 2/50\n",
      "19/19 [==============================] - ETA: 0s - loss: 0.6109 - accuracy: 0.9302 \n",
      "Epoch 2: val_loss improved from 50.90025 to 22.10873, saving model to /results/resnet50v2_imagenet.hdf5\n",
      "19/19 [==============================] - 443s 23s/step - loss: 0.6109 - accuracy: 0.9302 - val_loss: 22.1087 - val_accuracy: 0.4809 - lr: 0.0010\n",
      "Epoch 3/50\n",
      "19/19 [==============================] - ETA: 0s - loss: 0.1816 - accuracy: 0.9404 \n",
      "Epoch 3: val_loss did not improve from 22.10873\n",
      "19/19 [==============================] - 420s 22s/step - loss: 0.1816 - accuracy: 0.9404 - val_loss: 95.7766 - val_accuracy: 0.4809 - lr: 0.0010\n",
      "Epoch 4/50\n",
      "19/19 [==============================] - ETA: 0s - loss: 0.0821 - accuracy: 0.9736 \n",
      "Epoch 4: val_loss did not improve from 22.10873\n",
      "19/19 [==============================] - 425s 22s/step - loss: 0.0821 - accuracy: 0.9736 - val_loss: 22.9038 - val_accuracy: 0.4962 - lr: 0.0010\n",
      "Epoch 5/50\n",
      "19/19 [==============================] - ETA: 0s - loss: 0.0366 - accuracy: 0.9847 \n",
      "Epoch 5: val_loss improved from 22.10873 to 4.23338, saving model to /results/resnet50v2_imagenet.hdf5\n",
      "19/19 [==============================] - 440s 23s/step - loss: 0.0366 - accuracy: 0.9847 - val_loss: 4.2334 - val_accuracy: 0.7328 - lr: 5.0000e-04\n",
      "Epoch 6/50\n",
      "19/19 [==============================] - ETA: 0s - loss: 0.0118 - accuracy: 0.9974 \n",
      "Epoch 6: val_loss improved from 4.23338 to 1.11976, saving model to /results/resnet50v2_imagenet.hdf5\n",
      "19/19 [==============================] - 435s 23s/step - loss: 0.0118 - accuracy: 0.9974 - val_loss: 1.1198 - val_accuracy: 0.8550 - lr: 5.0000e-04\n",
      "Epoch 7/50\n",
      "19/19 [==============================] - ETA: 0s - loss: 0.0037 - accuracy: 1.0000 \n",
      "Epoch 7: val_loss improved from 1.11976 to 0.66364, saving model to /results/resnet50v2_imagenet.hdf5\n",
      "19/19 [==============================] - 428s 23s/step - loss: 0.0037 - accuracy: 1.0000 - val_loss: 0.6636 - val_accuracy: 0.9008 - lr: 5.0000e-04\n",
      "Epoch 8/50\n",
      "19/19 [==============================] - ETA: 0s - loss: 0.0028 - accuracy: 1.0000 \n",
      "Epoch 8: val_loss improved from 0.66364 to 0.54668, saving model to /results/resnet50v2_imagenet.hdf5\n",
      "19/19 [==============================] - 425s 22s/step - loss: 0.0028 - accuracy: 1.0000 - val_loss: 0.5467 - val_accuracy: 0.9237 - lr: 5.0000e-04\n",
      "Epoch 9/50\n",
      "19/19 [==============================] - ETA: 0s - loss: 0.0014 - accuracy: 1.0000 \n",
      "Epoch 9: val_loss improved from 0.54668 to 0.39000, saving model to /results/resnet50v2_imagenet.hdf5\n",
      "19/19 [==============================] - 432s 23s/step - loss: 0.0014 - accuracy: 1.0000 - val_loss: 0.3900 - val_accuracy: 0.9389 - lr: 5.0000e-04\n",
      "Epoch 10/50\n",
      "19/19 [==============================] - ETA: 0s - loss: 8.2706e-04 - accuracy: 1.0000 \n",
      "Epoch 10: val_loss improved from 0.39000 to 0.31251, saving model to /results/resnet50v2_imagenet.hdf5\n",
      "19/19 [==============================] - 442s 23s/step - loss: 8.2706e-04 - accuracy: 1.0000 - val_loss: 0.3125 - val_accuracy: 0.9466 - lr: 5.0000e-04\n",
      "Epoch 11/50\n",
      "19/19 [==============================] - ETA: 0s - loss: 7.2322e-04 - accuracy: 1.0000 \n",
      "Epoch 11: val_loss improved from 0.31251 to 0.25487, saving model to /results/resnet50v2_imagenet.hdf5\n",
      "19/19 [==============================] - 436s 23s/step - loss: 7.2322e-04 - accuracy: 1.0000 - val_loss: 0.2549 - val_accuracy: 0.9466 - lr: 5.0000e-04\n",
      "Epoch 12/50\n",
      "19/19 [==============================] - ETA: 0s - loss: 4.8988e-04 - accuracy: 1.0000 \n",
      "Epoch 12: val_loss improved from 0.25487 to 0.21560, saving model to /results/resnet50v2_imagenet.hdf5\n",
      "19/19 [==============================] - 440s 23s/step - loss: 4.8988e-04 - accuracy: 1.0000 - val_loss: 0.2156 - val_accuracy: 0.9389 - lr: 5.0000e-04\n",
      "Epoch 13/50\n",
      "19/19 [==============================] - ETA: 0s - loss: 0.0011 - accuracy: 1.0000 \n",
      "Epoch 13: val_loss improved from 0.21560 to 0.18747, saving model to /results/resnet50v2_imagenet.hdf5\n",
      "19/19 [==============================] - 425s 22s/step - loss: 0.0011 - accuracy: 1.0000 - val_loss: 0.1875 - val_accuracy: 0.9389 - lr: 5.0000e-04\n",
      "Epoch 14/50\n",
      "19/19 [==============================] - ETA: 0s - loss: 3.4195e-04 - accuracy: 1.0000 \n",
      "Epoch 14: val_loss improved from 0.18747 to 0.17447, saving model to /results/resnet50v2_imagenet.hdf5\n",
      "19/19 [==============================] - 426s 22s/step - loss: 3.4195e-04 - accuracy: 1.0000 - val_loss: 0.1745 - val_accuracy: 0.9542 - lr: 5.0000e-04\n",
      "Epoch 15/50\n",
      "19/19 [==============================] - ETA: 0s - loss: 0.0025 - accuracy: 0.9983     \n",
      "Epoch 15: val_loss improved from 0.17447 to 0.15605, saving model to /results/resnet50v2_imagenet.hdf5\n",
      "19/19 [==============================] - 432s 23s/step - loss: 0.0025 - accuracy: 0.9983 - val_loss: 0.1560 - val_accuracy: 0.9466 - lr: 5.0000e-04\n",
      "Epoch 16/50\n",
      "19/19 [==============================] - ETA: 0s - loss: 0.0185 - accuracy: 0.9940 \n",
      "Epoch 16: val_loss did not improve from 0.15605\n",
      "19/19 [==============================] - 436s 23s/step - loss: 0.0185 - accuracy: 0.9940 - val_loss: 0.1944 - val_accuracy: 0.9542 - lr: 5.0000e-04\n",
      "Epoch 17/50\n",
      "19/19 [==============================] - ETA: 0s - loss: 0.0100 - accuracy: 0.9966 \n",
      "Epoch 17: val_loss improved from 0.15605 to 0.12449, saving model to /results/resnet50v2_imagenet.hdf5\n",
      "19/19 [==============================] - 456s 24s/step - loss: 0.0100 - accuracy: 0.9966 - val_loss: 0.1245 - val_accuracy: 0.9466 - lr: 5.0000e-04\n",
      "Epoch 18/50\n",
      "19/19 [==============================] - ETA: 0s - loss: 0.0012 - accuracy: 1.0000 \n",
      "Epoch 18: val_loss did not improve from 0.12449\n",
      "19/19 [==============================] - 443s 23s/step - loss: 0.0012 - accuracy: 1.0000 - val_loss: 0.1434 - val_accuracy: 0.9466 - lr: 5.0000e-04\n",
      "Epoch 19/50\n",
      "19/19 [==============================] - ETA: 0s - loss: 0.0139 - accuracy: 0.9966 \n",
      "Epoch 19: val_loss did not improve from 0.12449\n",
      "19/19 [==============================] - 422s 22s/step - loss: 0.0139 - accuracy: 0.9966 - val_loss: 0.1847 - val_accuracy: 0.9542 - lr: 5.0000e-04\n",
      "Epoch 20/50\n",
      "19/19 [==============================] - ETA: 0s - loss: 0.0098 - accuracy: 0.9983 \n",
      "Epoch 20: val_loss did not improve from 0.12449\n",
      "19/19 [==============================] - 427s 22s/step - loss: 0.0098 - accuracy: 0.9983 - val_loss: 0.1505 - val_accuracy: 0.9542 - lr: 2.5000e-04\n",
      "Epoch 21/50\n",
      "19/19 [==============================] - ETA: 0s - loss: 0.0024 - accuracy: 0.9991 \n",
      "Epoch 21: val_loss improved from 0.12449 to 0.08139, saving model to /results/resnet50v2_imagenet.hdf5\n",
      "19/19 [==============================] - 422s 22s/step - loss: 0.0024 - accuracy: 0.9991 - val_loss: 0.0814 - val_accuracy: 0.9771 - lr: 2.5000e-04\n",
      "Epoch 22/50\n",
      "19/19 [==============================] - ETA: 0s - loss: 0.0028 - accuracy: 1.0000 \n",
      "Epoch 22: val_loss improved from 0.08139 to 0.07183, saving model to /results/resnet50v2_imagenet.hdf5\n",
      "19/19 [==============================] - 452s 24s/step - loss: 0.0028 - accuracy: 1.0000 - val_loss: 0.0718 - val_accuracy: 0.9771 - lr: 2.5000e-04\n",
      "Epoch 23/50\n",
      "17/19 [=========================>....] - ETA: 44s - loss: 0.0010 - accuracy: 1.0000 \n",
      "Epoch 23: val_loss did not improve from 0.07183\n",
      "19/19 [==============================] - 417s 22s/step - loss: 0.0011 - accuracy: 1.0000 - val_loss: 0.0853 - val_accuracy: 0.9695 - lr: 2.5000e-04\n",
      "Epoch 24/50\n",
      "19/19 [==============================] - ETA: 0s - loss: 4.2607e-04 - accuracy: 1.0000 \n",
      "Epoch 24: val_loss did not improve from 0.07183\n",
      "19/19 [==============================] - 438s 23s/step - loss: 4.2607e-04 - accuracy: 1.0000 - val_loss: 0.0915 - val_accuracy: 0.9771 - lr: 2.5000e-04\n",
      "Epoch 25/50\n",
      "19/19 [==============================] - ETA: 0s - loss: 3.4704e-04 - accuracy: 1.0000 \n",
      "Epoch 25: val_loss did not improve from 0.07183\n",
      "19/19 [==============================] - 430s 23s/step - loss: 3.4704e-04 - accuracy: 1.0000 - val_loss: 0.0961 - val_accuracy: 0.9771 - lr: 1.2500e-04\n",
      "Epoch 26/50\n",
      "19/19 [==============================] - ETA: 0s - loss: 0.0036 - accuracy: 0.9991     \n",
      "Epoch 26: val_loss did not improve from 0.07183\n",
      "19/19 [==============================] - 426s 22s/step - loss: 0.0036 - accuracy: 0.9991 - val_loss: 0.0937 - val_accuracy: 0.9695 - lr: 1.2500e-04\n",
      "Epoch 27/50\n",
      "19/19 [==============================] - ETA: 0s - loss: 0.0041 - accuracy: 0.9991 \n",
      "Epoch 27: val_loss did not improve from 0.07183\n",
      "19/19 [==============================] - 432s 23s/step - loss: 0.0041 - accuracy: 0.9991 - val_loss: 0.1270 - val_accuracy: 0.9466 - lr: 1.0000e-04\n",
      "Epoch 28/50\n",
      "19/19 [==============================] - ETA: 0s - loss: 0.0033 - accuracy: 1.0000 \n",
      "Epoch 28: val_loss did not improve from 0.07183\n",
      "19/19 [==============================] - 421s 22s/step - loss: 0.0033 - accuracy: 1.0000 - val_loss: 0.1160 - val_accuracy: 0.9618 - lr: 1.0000e-04\n",
      "Epoch 29/50\n",
      "19/19 [==============================] - ETA: 0s - loss: 0.0013 - accuracy: 1.0000 \n",
      "Epoch 29: val_loss did not improve from 0.07183\n",
      "19/19 [==============================] - 427s 22s/step - loss: 0.0013 - accuracy: 1.0000 - val_loss: 0.1296 - val_accuracy: 0.9618 - lr: 1.0000e-04\n",
      "Epoch 30/50\n",
      "19/19 [==============================] - ETA: 0s - loss: 4.7755e-04 - accuracy: 1.0000 \n",
      "Epoch 30: val_loss did not improve from 0.07183\n",
      "19/19 [==============================] - 428s 23s/step - loss: 4.7755e-04 - accuracy: 1.0000 - val_loss: 0.1379 - val_accuracy: 0.9618 - lr: 1.0000e-04\n",
      "Epoch 31/50\n",
      "19/19 [==============================] - ETA: 0s - loss: 5.2773e-04 - accuracy: 1.0000 \n",
      "Epoch 31: val_loss did not improve from 0.07183\n",
      "19/19 [==============================] - 434s 23s/step - loss: 5.2773e-04 - accuracy: 1.0000 - val_loss: 0.1434 - val_accuracy: 0.9695 - lr: 1.0000e-04\n",
      "Epoch 32/50\n",
      "19/19 [==============================] - ETA: 0s - loss: 7.5826e-04 - accuracy: 1.0000 \n",
      "Epoch 32: val_loss did not improve from 0.07183\n",
      "19/19 [==============================] - 430s 23s/step - loss: 7.5826e-04 - accuracy: 1.0000 - val_loss: 0.1480 - val_accuracy: 0.9695 - lr: 1.0000e-04\n",
      "Epoch 33/50\n",
      "19/19 [==============================] - ETA: 0s - loss: 3.5187e-04 - accuracy: 1.0000 \n",
      "Epoch 33: val_loss did not improve from 0.07183\n",
      "19/19 [==============================] - 425s 22s/step - loss: 3.5187e-04 - accuracy: 1.0000 - val_loss: 0.1512 - val_accuracy: 0.9695 - lr: 1.0000e-04\n",
      "Epoch 34/50\n",
      "19/19 [==============================] - ETA: 0s - loss: 2.8801e-04 - accuracy: 1.0000 \n",
      "Epoch 34: val_loss did not improve from 0.07183\n",
      "19/19 [==============================] - 425s 22s/step - loss: 2.8801e-04 - accuracy: 1.0000 - val_loss: 0.1544 - val_accuracy: 0.9695 - lr: 1.0000e-04\n",
      "Epoch 35/50\n",
      "19/19 [==============================] - ETA: 0s - loss: 3.3113e-04 - accuracy: 1.0000 \n",
      "Epoch 35: val_loss did not improve from 0.07183\n",
      "19/19 [==============================] - 427s 23s/step - loss: 3.3113e-04 - accuracy: 1.0000 - val_loss: 0.1578 - val_accuracy: 0.9618 - lr: 1.0000e-04\n",
      "Epoch 36/50\n",
      "19/19 [==============================] - ETA: 0s - loss: 3.4635e-04 - accuracy: 1.0000 \n",
      "Epoch 36: val_loss did not improve from 0.07183\n",
      "19/19 [==============================] - 427s 22s/step - loss: 3.4635e-04 - accuracy: 1.0000 - val_loss: 0.1612 - val_accuracy: 0.9618 - lr: 1.0000e-04\n",
      "Epoch 37/50\n",
      "19/19 [==============================] - ETA: 0s - loss: 2.6067e-04 - accuracy: 1.0000 \n",
      "Epoch 37: val_loss did not improve from 0.07183\n",
      "19/19 [==============================] - 428s 23s/step - loss: 2.6067e-04 - accuracy: 1.0000 - val_loss: 0.1630 - val_accuracy: 0.9618 - lr: 1.0000e-04\n",
      "Epoch 38/50\n",
      "19/19 [==============================] - ETA: 0s - loss: 2.5640e-04 - accuracy: 1.0000 \n",
      "Epoch 38: val_loss did not improve from 0.07183\n",
      "19/19 [==============================] - 430s 23s/step - loss: 2.5640e-04 - accuracy: 1.0000 - val_loss: 0.1657 - val_accuracy: 0.9618 - lr: 1.0000e-04\n",
      "Epoch 39/50\n",
      "19/19 [==============================] - ETA: 0s - loss: 1.9090e-04 - accuracy: 1.0000 \n",
      "Epoch 39: val_loss did not improve from 0.07183\n",
      "19/19 [==============================] - 436s 23s/step - loss: 1.9090e-04 - accuracy: 1.0000 - val_loss: 0.1681 - val_accuracy: 0.9618 - lr: 1.0000e-04\n",
      "Epoch 40/50\n",
      "19/19 [==============================] - ETA: 0s - loss: 2.3433e-04 - accuracy: 1.0000 \n",
      "Epoch 40: val_loss did not improve from 0.07183\n",
      "19/19 [==============================] - 436s 23s/step - loss: 2.3433e-04 - accuracy: 1.0000 - val_loss: 0.1712 - val_accuracy: 0.9618 - lr: 1.0000e-04\n",
      "Epoch 41/50\n",
      "19/19 [==============================] - ETA: 0s - loss: 2.3529e-04 - accuracy: 1.0000 \n",
      "Epoch 41: val_loss did not improve from 0.07183\n",
      "19/19 [==============================] - 433s 23s/step - loss: 2.3529e-04 - accuracy: 1.0000 - val_loss: 0.1724 - val_accuracy: 0.9618 - lr: 1.0000e-04\n",
      "Epoch 42/50\n",
      "19/19 [==============================] - ETA: 0s - loss: 2.5947e-04 - accuracy: 1.0000 \n",
      "Epoch 42: val_loss did not improve from 0.07183\n",
      "19/19 [==============================] - 424s 22s/step - loss: 2.5947e-04 - accuracy: 1.0000 - val_loss: 0.1717 - val_accuracy: 0.9618 - lr: 1.0000e-04\n",
      "Epoch 43/50\n",
      "19/19 [==============================] - ETA: 0s - loss: 2.7641e-04 - accuracy: 1.0000 \n",
      "Epoch 43: val_loss did not improve from 0.07183\n",
      "19/19 [==============================] - 418s 22s/step - loss: 2.7641e-04 - accuracy: 1.0000 - val_loss: 0.1685 - val_accuracy: 0.9618 - lr: 1.0000e-04\n",
      "Epoch 44/50\n",
      "19/19 [==============================] - ETA: 0s - loss: 2.0083e-04 - accuracy: 1.0000 \n",
      "Epoch 44: val_loss did not improve from 0.07183\n",
      "19/19 [==============================] - 417s 22s/step - loss: 2.0083e-04 - accuracy: 1.0000 - val_loss: 0.1693 - val_accuracy: 0.9618 - lr: 1.0000e-04\n",
      "Epoch 45/50\n",
      "19/19 [==============================] - ETA: 0s - loss: 2.3873e-04 - accuracy: 1.0000 \n",
      "Epoch 45: val_loss did not improve from 0.07183\n",
      "19/19 [==============================] - 439s 23s/step - loss: 2.3873e-04 - accuracy: 1.0000 - val_loss: 0.1690 - val_accuracy: 0.9618 - lr: 1.0000e-04\n",
      "Epoch 46/50\n",
      "19/19 [==============================] - ETA: 0s - loss: 1.3656e-04 - accuracy: 1.0000 \n",
      "Epoch 46: val_loss did not improve from 0.07183\n",
      "19/19 [==============================] - 433s 23s/step - loss: 1.3656e-04 - accuracy: 1.0000 - val_loss: 0.1701 - val_accuracy: 0.9618 - lr: 1.0000e-04\n",
      "Epoch 47/50\n",
      "19/19 [==============================] - ETA: 0s - loss: 2.1417e-04 - accuracy: 1.0000 \n",
      "Epoch 47: val_loss did not improve from 0.07183\n",
      "19/19 [==============================] - 428s 22s/step - loss: 2.1417e-04 - accuracy: 1.0000 - val_loss: 0.1697 - val_accuracy: 0.9618 - lr: 1.0000e-04\n",
      "Epoch 48/50\n",
      "19/19 [==============================] - ETA: 0s - loss: 2.6041e-04 - accuracy: 1.0000 \n",
      "Epoch 48: val_loss did not improve from 0.07183\n",
      "19/19 [==============================] - 431s 23s/step - loss: 2.6041e-04 - accuracy: 1.0000 - val_loss: 0.1717 - val_accuracy: 0.9695 - lr: 1.0000e-04\n",
      "Epoch 49/50\n",
      "19/19 [==============================] - ETA: 0s - loss: 2.0735e-04 - accuracy: 1.0000 \n",
      "Epoch 49: val_loss did not improve from 0.07183\n",
      "19/19 [==============================] - 428s 23s/step - loss: 2.0735e-04 - accuracy: 1.0000 - val_loss: 0.1834 - val_accuracy: 0.9618 - lr: 1.0000e-04\n",
      "Epoch 50/50\n",
      "19/19 [==============================] - ETA: 0s - loss: 2.3040e-04 - accuracy: 1.0000 \n",
      "Epoch 50: val_loss did not improve from 0.07183\n",
      "19/19 [==============================] - 421s 22s/step - loss: 2.3040e-04 - accuracy: 1.0000 - val_loss: 0.1867 - val_accuracy: 0.9618 - lr: 1.0000e-04\n"
     ]
    },
    {
     "data": {
      "image/png": "[encoded data removed]",
      "text/plain": [
       "<Figure size 640x480 with 1 Axes>"
      ]
     },
     "metadata": {},
     "output_type": "display_data"
    },
    {
     "name": "stdout",
     "output_type": "stream",
     "text": [
      "\n",
      "\n"
     ]
    },
    {
     "data": {
      "image/png": "[encoded data removed]",
      "text/plain": [
       "<Figure size 640x480 with 1 Axes>"
      ]
     },
     "metadata": {},
     "output_type": "display_data"
    }
   ],
   "source": [
    "filepath=\"/results/resnet50v2_imagenet.hdf5\"\n",
    "checkpoint = ModelCheckpoint(filepath, monitor=\"val_loss\", verbose=1, save_best_only=True, mode='min')\n",
    "reduce_lr = ReduceLROnPlateau(monitor='val_loss', factor=0.5, patience=2, min_lr=0.0001, verbose=0)\n",
    "history = model.fit(X_train_list_to_4d, y_train, batch_size=64, epochs=50, validation_split=0.10, verbose=1, callbacks=[checkpoint, reduce_lr])\n",
    "history=history.history\n",
    " \n",
    "plot_metrics(history)"
   ]
  },
  {
   "cell_type": "code",
   "execution_count": 12,
   "metadata": {
    "execution": {
     "iopub.execute_input": "2023-09-20T14:50:31.960618Z",
     "iopub.status.busy": "2023-09-20T14:50:31.959618Z",
     "iopub.status.idle": "2023-09-20T14:50:49.044674Z",
     "shell.execute_reply": "2023-09-20T14:50:49.043625Z",
     "shell.execute_reply.started": "2023-09-20T14:50:31.960568Z"
    }
   },
   "outputs": [
    {
     "name": "stdout",
     "output_type": "stream",
     "text": [
      "Test loss : 0.1297, Test Accuracy: 0.9658\n",
      "\n",
      "\n"
     ]
    }
   ],
   "source": [
    "model = load_model('/results/resnet50v2_imagenet.hdf5')\n",
    "\n",
    "test_loss, test_acc = model.evaluate(X_test_list_to_4d, y_test, verbose=0)\n",
    "print(f\"Test loss : {test_loss:0.4}, Test Accuracy: {test_acc:0.4}\")\n",
    "\n",
    "print(\"\\n\")"
   ]
  },
  {
   "cell_type": "code",
   "execution_count": 13,
   "metadata": {
    "execution": {
     "iopub.execute_input": "2023-09-20T14:51:05.739200Z",
     "iopub.status.busy": "2023-09-20T14:51:05.738719Z",
     "iopub.status.idle": "2023-09-20T14:51:27.694782Z",
     "shell.execute_reply": "2023-09-20T14:51:27.693296Z",
     "shell.execute_reply.started": "2023-09-20T14:51:05.739162Z"
    }
   },
   "outputs": [],
   "source": [
    "predictions = model.predict(X_test_list_to_4d, verbose=0)\n",
    "predict_classes_find=[]\n",
    "predictions_end=[]\n",
    "for prd_clssv in predictions:\n",
    "    predictions_end.append(max(prd_clssv))\n",
    "    predict_classes_find.append(prd_clssv.argmax())  \n",
    "predict_classes_find=np.array(predict_classes_find)\n",
    "predictions_end=np.array(predictions_end)"
   ]
  },
  {
   "cell_type": "code",
   "execution_count": 14,
   "metadata": {
    "execution": {
     "iopub.execute_input": "2023-09-20T14:52:31.575591Z",
     "iopub.status.busy": "2023-09-20T14:52:31.575092Z",
     "iopub.status.idle": "2023-09-20T14:52:33.075866Z",
     "shell.execute_reply": "2023-09-20T14:52:33.074052Z",
     "shell.execute_reply.started": "2023-09-20T14:52:31.575557Z"
    }
   },
   "outputs": [
    {
     "name": "stdout",
     "output_type": "stream",
     "text": [
      "Accuracy: 0.9658\n",
      "Precision: 0.9474\n",
      "Recall: 0.9863\n",
      "F1 score: 0.9664\n",
      "Cohens kappa: 0.9315\n",
      "ROC AUC: 0.9658\n",
      "\n",
      "\n"
     ]
    },
    {
     "data": {
      "image/png": "[encoded data removed]",
      "text/plain": [
       "<Figure size 640x480 with 2 Axes>"
      ]
     },
     "metadata": {},
     "output_type": "display_data"
    },
    {
     "name": "stdout",
     "output_type": "stream",
     "text": [
      "\n",
      "\n",
      "\n",
      "\n",
      "Report : \n",
      "              precision    recall  f1-score   support\n",
      "\n",
      "     No Fire       0.99      0.95      0.97        73\n",
      "        Fire       0.95      0.99      0.97        73\n",
      "\n",
      "    accuracy                           0.97       146\n",
      "   macro avg       0.97      0.97      0.97       146\n",
      "weighted avg       0.97      0.97      0.97       146\n",
      "\n",
      "\n",
      "\n",
      "MSE: 0.0342\n",
      "RMSE: 0.1851\n",
      "\n",
      "\n"
     ]
    },
    {
     "data": {
      "image/png": "[encoded data removed]",
      "text/plain": [
       "<Figure size 640x480 with 1 Axes>"
      ]
     },
     "metadata": {},
     "output_type": "display_data"
    },
    {
     "name": "stdout",
     "output_type": "stream",
     "text": [
      "\n",
      "\n"
     ]
    }
   ],
   "source": [
    "statistc_analysis(actual, predict_classes_find)"
   ]
  },
  {
   "cell_type": "code",
   "execution_count": 15,
   "metadata": {
    "execution": {
     "iopub.execute_input": "2023-09-20T14:53:17.706432Z",
     "iopub.status.busy": "2023-09-20T14:53:17.705518Z",
     "iopub.status.idle": "2023-09-20T14:53:18.969520Z",
     "shell.execute_reply": "2023-09-20T14:53:18.967696Z",
     "shell.execute_reply.started": "2023-09-20T14:53:17.706381Z"
    }
   },
   "outputs": [],
   "source": [
    "pred_fire_image_split_carry(X_test, predict_classes_find, predictions_end)"
   ]
  },
  {
   "cell_type": "code",
   "execution_count": 16,
   "metadata": {
    "execution": {
     "iopub.execute_input": "2023-09-20T14:53:30.350934Z",
     "iopub.status.busy": "2023-09-20T14:53:30.350506Z",
     "iopub.status.idle": "2023-09-20T14:53:30.364653Z",
     "shell.execute_reply": "2023-09-20T14:53:30.363748Z",
     "shell.execute_reply.started": "2023-09-20T14:53:30.350898Z"
    }
   },
   "outputs": [
    {
     "name": "stdout",
     "output_type": "stream",
     "text": [
      "****************************** overall statistics start ******************************\n",
      "Predict  0        1        \n",
      "Actual\n",
      "0        69       4        \n",
      "\n",
      "1        1        72       \n",
      "\n",
      "\n",
      "\n",
      "\n",
      "\n",
      "Overall Statistics : \n",
      "\n",
      "95% CI                                                            (0.93625,0.99525)\n",
      "ACC Macro                                                         0.96575\n",
      "ARI                                                               0.86679\n",
      "AUNP                                                              0.96575\n",
      "AUNU                                                              0.96575\n",
      "Bangdiwala B                                                      0.9331\n",
      "Bennett S                                                         0.93151\n",
      "CBA                                                               0.94629\n",
      "CSI                                                               0.93229\n",
      "Chi-Squared                                                       126.89925\n",
      "Chi-Squared DF                                                    1\n",
      "Conditional Entropy                                               0.20542\n",
      "Cramer V                                                          0.93229\n",
      "Cross Entropy                                                     1.00122\n",
      "F1 Macro                                                          0.96574\n",
      "F1 Micro                                                          0.96575\n",
      "FNR Macro                                                         0.03425\n",
      "FNR Micro                                                         0.03425\n",
      "FPR Macro                                                         0.03425\n",
      "FPR Micro                                                         0.03425\n",
      "Gwet AC1                                                          0.93154\n",
      "Hamming Loss                                                      0.03425\n",
      "Joint Entropy                                                     1.20542\n",
      "KL Divergence                                                     0.00122\n",
      "Kappa                                                             0.93151\n",
      "Kappa 95% CI                                                      (0.87251,0.99051)\n",
      "Kappa No Prevalence                                               0.93151\n",
      "Kappa Standard Error                                              0.0301\n",
      "Kappa Unbiased                                                    0.93148\n",
      "Krippendorff Alpha                                                0.93171\n",
      "Lambda A                                                          0.93151\n",
      "Lambda B                                                          0.92857\n",
      "Mutual Information                                                0.79336\n",
      "NIR                                                               0.5\n",
      "NPV Macro                                                         0.96654\n",
      "NPV Micro                                                         0.96575\n",
      "Overall ACC                                                       0.96575\n",
      "Overall CEN                                                       0.19142\n",
      "Overall J                                                         (1.8675,0.93375)\n",
      "Overall MCC                                                       0.93229\n",
      "Overall MCEN                                                      0.15884\n",
      "Overall RACC                                                      0.5\n",
      "Overall RACCU                                                     0.50021\n",
      "P-Value                                                           0.0\n",
      "PPV Macro                                                         0.96654\n",
      "PPV Micro                                                         0.96575\n",
      "Pearson C                                                         0.68191\n",
      "Phi-Squared                                                       0.86917\n",
      "RCI                                                               0.79336\n",
      "RR                                                                73.0\n",
      "Reference Entropy                                                 1.0\n",
      "Response Entropy                                                  0.99878\n",
      "SOA1(Landis & Koch)                                               Almost Perfect\n",
      "SOA2(Fleiss)                                                      Excellent\n",
      "SOA3(Altman)                                                      Very Good\n",
      "SOA4(Cicchetti)                                                   Excellent\n",
      "SOA5(Cramer)                                                      Very Strong\n",
      "SOA6(Matthews)                                                    Very Strong\n",
      "SOA7(Lambda A)                                                    Very Strong\n",
      "SOA8(Lambda B)                                                    Very Strong\n",
      "SOA9(Krippendorff Alpha)                                          High\n",
      "SOA10(Pearson C)                                                  Strong\n",
      "Scott PI                                                          0.93148\n",
      "Standard Error                                                    0.01505\n",
      "TNR Macro                                                         0.96575\n",
      "TNR Micro                                                         0.96575\n",
      "TPR Macro                                                         0.96575\n",
      "TPR Micro                                                         0.96575\n",
      "Zero-one Loss                                                     5\n",
      "\n",
      "Class Statistics :\n",
      "\n",
      "Classes                                                           0             1             \n",
      "ACC(Accuracy)                                                     0.96575       0.96575       \n",
      "AGF(Adjusted F-score)                                             0.95397       0.9778        \n",
      "AGM(Adjusted geometric mean)                                      0.97246       0.95876       \n",
      "AM(Difference between automatic and manual classification)        -3            3             \n",
      "AUC(Area under the ROC curve)                                     0.96575       0.96575       \n",
      "AUCI(AUC value interpretation)                                    Excellent     Excellent     \n",
      "AUPR(Area under the PR curve)                                     0.96546       0.96683       \n",
      "BB(Braun-Blanquet similarity)                                     0.94521       0.94737       \n",
      "BCD(Bray-Curtis dissimilarity)                                    0.01027       0.01027       \n",
      "BM(Informedness or bookmaker informedness)                        0.93151       0.93151       \n",
      "CEN(Confusion entropy)                                            0.1944        0.18856       \n",
      "DOR(Diagnostic odds ratio)                                        1242.0        1242.0        \n",
      "DP(Discriminant power)                                            1.70588       1.70588       \n",
      "DPI(Discriminant power interpretation)                            Limited       Limited       \n",
      "ERR(Error rate)                                                   0.03425       0.03425       \n",
      "F0.5(F0.5 score)                                                  0.97734       0.95491       \n",
      "F1(F1 score - harmonic mean of precision and sensitivity)         0.96503       0.96644       \n",
      "F2(F2 score)                                                      0.95304       0.97826       \n",
      "FDR(False discovery rate)                                         0.01429       0.05263       \n",
      "FN(False negative/miss/type 2 error)                              4             1             \n",
      "FNR(Miss rate or false negative rate)                             0.05479       0.0137        \n",
      "FOR(False omission rate)                                          0.05263       0.01429       \n",
      "FP(False positive/type 1 error/false alarm)                       1             4             \n",
      "FPR(Fall-out or false positive rate)                              0.0137        0.05479       \n",
      "G(G-measure geometric mean of precision and sensitivity)          0.96525       0.96664       \n",
      "GI(Gini index)                                                    0.93151       0.93151       \n",
      "GM(G-mean geometric mean of specificity and sensitivity)          0.96553       0.96553       \n",
      "HD(Hamming distance)                                              5             5             \n",
      "IBA(Index of balanced accuracy)                                   0.89395       0.97057       \n",
      "ICSI(Individual classification success index)                     0.93092       0.93367       \n",
      "IS(Information score)                                             0.97924       0.922         \n",
      "J(Jaccard index)                                                  0.93243       0.93506       \n",
      "LS(Lift score)                                                    1.97143       1.89474       \n",
      "MCC(Matthews correlation coefficient)                             0.93229       0.93229       \n",
      "MCCI(Matthews correlation coefficient interpretation)             Very Strong   Very Strong   \n",
      "MCEN(Modified confusion entropy)                                  0.31145       0.30304       \n",
      "MK(Markedness)                                                    0.93308       0.93308       \n",
      "N(Condition negative)                                             73            73            \n",
      "NLR(Negative likelihood ratio)                                    0.05556       0.01449       \n",
      "NLRI(Negative likelihood ratio interpretation)                    Good          Good          \n",
      "NPV(Negative predictive value)                                    0.94737       0.98571       \n",
      "OC(Overlap coefficient)                                           0.98571       0.9863        \n",
      "OOC(Otsuka-Ochiai coefficient)                                    0.96525       0.96664       \n",
      "OP(Optimized precision)                                           0.94448       0.94448       \n",
      "P(Condition positive or support)                                  73            73            \n",
      "PLR(Positive likelihood ratio)                                    69.0          18.0          \n",
      "PLRI(Positive likelihood ratio interpretation)                    Good          Good          \n",
      "POP(Population)                                                   146           146           \n",
      "PPV(Precision or positive predictive value)                       0.98571       0.94737       \n",
      "PRE(Prevalence)                                                   0.5           0.5           \n",
      "Q(Yule Q - coefficient of colligation)                            0.99839       0.99839       \n",
      "QI(Yule Q interpretation)                                         Strong        Strong        \n",
      "RACC(Random accuracy)                                             0.23973       0.26027       \n",
      "RACCU(Random accuracy unbiased)                                   0.23983       0.26038       \n",
      "TN(True negative/correct rejection)                               72            69            \n",
      "TNR(Specificity or true negative rate)                            0.9863        0.94521       \n",
      "TON(Test outcome negative)                                        76            70            \n",
      "TOP(Test outcome positive)                                        70            76            \n",
      "TP(True positive/hit)                                             69            72            \n",
      "TPR(Sensitivity, recall, hit rate, or true positive rate)         0.94521       0.9863        \n",
      "Y(Youden index)                                                   0.93151       0.93151       \n",
      "dInd(Distance index)                                              0.05648       0.05648       \n",
      "sInd(Similarity index)                                            0.96006       0.96006       \n",
      "\n",
      "****************************** overall statistics end ******************************\n"
     ]
    }
   ],
   "source": [
    "print(\"*\"*30,\"overall statistics start\",\"*\"*30)\n",
    "overall_statistics(actual, predict_classes_find)\n",
    "print(\"*\"*30,\"overall statistics end\",\"*\"*30)"
   ]
  },
  {
   "cell_type": "code",
   "execution_count": null,
   "metadata": {},
   "outputs": [],
   "source": []
  },
  {
   "cell_type": "code",
   "execution_count": null,
   "metadata": {},
   "outputs": [],
   "source": []
  },
  {
   "cell_type": "code",
   "execution_count": null,
   "metadata": {},
   "outputs": [],
   "source": []
  },
  {
   "cell_type": "code",
   "execution_count": null,
   "metadata": {},
   "outputs": [],
   "source": []
  },
  {
   "cell_type": "code",
   "execution_count": null,
   "metadata": {},
   "outputs": [],
   "source": []
  },
  {
   "cell_type": "code",
   "execution_count": null,
   "metadata": {},
   "outputs": [],
   "source": []
  },
  {
   "cell_type": "code",
   "execution_count": null,
   "metadata": {},
   "outputs": [],
   "source": []
  },
  {
   "cell_type": "code",
   "execution_count": null,
   "metadata": {},
   "outputs": [],
   "source": []
  },
  {
   "cell_type": "code",
   "execution_count": null,
   "metadata": {},
   "outputs": [],
   "source": []
  },
  {
   "cell_type": "code",
   "execution_count": null,
   "metadata": {},
   "outputs": [],
   "source": []
  },
  {
   "cell_type": "code",
   "execution_count": null,
   "metadata": {},
   "outputs": [],
   "source": []
  },
  {
   "cell_type": "code",
   "execution_count": null,
   "metadata": {},
   "outputs": [],
   "source": []
  },
  {
   "cell_type": "code",
   "execution_count": null,
   "metadata": {},
   "outputs": [],
   "source": []
  },
  {
   "cell_type": "code",
   "execution_count": null,
   "metadata": {},
   "outputs": [],
   "source": []
  },
  {
   "cell_type": "code",
   "execution_count": null,
   "metadata": {},
   "outputs": [],
   "source": []
  },
  {
   "cell_type": "code",
   "execution_count": null,
   "metadata": {},
   "outputs": [],
   "source": []
  },
  {
   "cell_type": "code",
   "execution_count": null,
   "metadata": {},
   "outputs": [],
   "source": []
  },
  {
   "cell_type": "code",
   "execution_count": null,
   "metadata": {},
   "outputs": [],
   "source": []
  }
 ],
 "metadata": {
  "kernelspec": {
   "display_name": "Python 3 (ipykernel)",
   "language": "python",
   "name": "python3"
  },
  "language_info": {
   "codemirror_mode": {
    "name": "ipython",
    "version": 3
   },
   "file_extension": ".py",
   "mimetype": "text/x-python",
   "name": "python",
   "nbconvert_exporter": "python",
   "pygments_lexer": "ipython3",
   "version": "3.11.4"
  },
  "varInspector": {
   "cols": {
    "lenName": 16,
    "lenType": 16,
    "lenVar": 40
   },
   "kernels_config": {
    "python": {
     "delete_cmd_postfix": "",
     "delete_cmd_prefix": "del ",
     "library": "var_list.py",
     "varRefreshCmd": "print(var_dic_list())"
    },
    "r": {
     "delete_cmd_postfix": ") ",
     "delete_cmd_prefix": "rm(",
     "library": "var_list.r",
     "varRefreshCmd": "cat(var_dic_list()) "
    }
   },
   "types_to_exclude": [
    "module",
    "function",
    "builtin_function_or_method",
    "instance",
    "_Feature"
   ],
   "window_display": false
  }
 },
 "nbformat": 4,
 "nbformat_minor": 4
}
