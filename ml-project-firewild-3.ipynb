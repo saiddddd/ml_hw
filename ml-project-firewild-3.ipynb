{
 "cells": [
  {
   "cell_type": "code",
   "execution_count": 1,
   "metadata": {
    "_cell_guid": "b1076dfc-b9ad-4769-8c92-a6c4dae69d19",
    "_uuid": "8f2839f25d086af736a60e9eeb907d3b93b6e0e5",
    "execution": {
     "iopub.execute_input": "2023-09-20T05:26:30.078459Z",
     "iopub.status.busy": "2023-09-20T05:26:30.077724Z",
     "iopub.status.idle": "2023-09-20T05:26:30.108914Z",
     "shell.execute_reply": "2023-09-20T05:26:30.107583Z",
     "shell.execute_reply.started": "2023-09-20T05:26:30.078420Z"
    }
   },
   "outputs": [],
   "source": [
    "# # This Python 3 environment comes with many helpful analytics libraries installed\n",
    "# # It is defined by the kaggle/python Docker image: https://github.com/kaggle/docker-python\n",
    "# # For example, here's several helpful packages to load\n",
    "\n",
    "# import numpy as np # linear algebra\n",
    "# import pandas as pd # data processing, CSV file I/O (e.g. pd.read_csv)\n",
    "\n",
    "# # Input data files are available in the read-only \"../input/\" directory\n",
    "# # For example, running this (by clicking run or pressing Shift+Enter) will list all files under the input directory\n",
    "\n",
    "# import os\n",
    "# for dirname, _, filenames in os.walk('/kaggle/input'):\n",
    "#     for filename in filenames:\n",
    "#         print(os.path.join(dirname, filename))\n",
    "\n",
    "# # You can write up to 20GB to the current directory (/kaggle/working/) that gets preserved as output when you create a version using \"Save & Run All\" \n",
    "# # You can also write temporary files to /kaggle/temp/, but they won't be saved outside of the current session"
   ]
  },
  {
   "cell_type": "markdown",
   "metadata": {},
   "source": [
    "# nasnetmobile_transfer_learning"
   ]
  },
  {
   "cell_type": "code",
   "execution_count": 3,
   "metadata": {
    "execution": {
     "iopub.execute_input": "2023-09-20T05:30:32.919186Z",
     "iopub.status.busy": "2023-09-20T05:30:32.918717Z",
     "iopub.status.idle": "2023-09-20T05:30:32.925267Z",
     "shell.execute_reply": "2023-09-20T05:30:32.924130Z",
     "shell.execute_reply.started": "2023-09-20T05:30:32.919149Z"
    }
   },
   "outputs": [],
   "source": [
    "# pip install pycm"
   ]
  },
  {
   "cell_type": "code",
   "execution_count": 4,
   "metadata": {
    "execution": {
     "iopub.execute_input": "2023-09-20T05:30:49.029917Z",
     "iopub.status.busy": "2023-09-20T05:30:49.029447Z",
     "iopub.status.idle": "2023-09-20T05:31:00.418990Z",
     "shell.execute_reply": "2023-09-20T05:31:00.417626Z",
     "shell.execute_reply.started": "2023-09-20T05:30:49.029884Z"
    }
   },
   "outputs": [],
   "source": [
    "from sklearn.metrics import classification_report,accuracy_score,roc_auc_score,roc_curve, precision_score,recall_score,f1_score,cohen_kappa_score,confusion_matrix,mean_squared_error\n",
    "from sklearn.model_selection import train_test_split\n",
    "from tensorflow.keras.callbacks import ModelCheckpoint, ReduceLROnPlateau\n",
    "from tensorflow.keras.applications import NASNetMobile\n",
    "from tensorflow.keras.utils import to_categorical\n",
    "from tensorflow.keras.models import load_model, Sequential\n",
    "from tensorflow.keras.layers import Dense\n",
    "from pycm import ConfusionMatrix\n",
    "from collections import Counter\n",
    "from os import listdir\n",
    "from math import sqrt\n",
    "\n",
    "import matplotlib.pyplot as plt\n",
    "import tensorflow as tf\n",
    "import numpy as np\n",
    "import itertools\n",
    "import os, shutil\n",
    "import cv2"
   ]
  },
  {
   "cell_type": "code",
   "execution_count": 5,
   "metadata": {
    "execution": {
     "iopub.execute_input": "2023-09-20T05:31:12.585040Z",
     "iopub.status.busy": "2023-09-20T05:31:12.584063Z",
     "iopub.status.idle": "2023-09-20T05:31:12.613972Z",
     "shell.execute_reply": "2023-09-20T05:31:12.612961Z",
     "shell.execute_reply.started": "2023-09-20T05:31:12.584995Z"
    }
   },
   "outputs": [
    {
     "name": "stdout",
     "output_type": "stream",
     "text": [
      "tf version: 2.12.0\n"
     ]
    }
   ],
   "source": [
    "os.environ[\"CUDA_DEVICE_ORDER\"] = \"PCI_BUS_ID\"\n",
    "os.environ[\"CUDA_VISIBLE_DEVICES\"]=\"0,2,3,4\"\n",
    "gpu_options = tf.compat.v1.GPUOptions(per_process_gpu_memory_fraction=0.99)\n",
    "tf.compat.v1.Session(config=tf.compat.v1.ConfigProto(gpu_options=gpu_options))\n",
    "\n",
    "print(\"tf version:\", tf.__version__)"
   ]
  },
  {
   "cell_type": "code",
   "execution_count": 15,
   "metadata": {
    "execution": {
     "iopub.execute_input": "2023-09-20T08:42:19.751866Z",
     "iopub.status.busy": "2023-09-20T08:42:19.750998Z",
     "iopub.status.idle": "2023-09-20T08:42:19.798132Z",
     "shell.execute_reply": "2023-09-20T08:42:19.796715Z",
     "shell.execute_reply.started": "2023-09-20T08:42:19.751816Z"
    }
   },
   "outputs": [],
   "source": [
    "def load_data(dir_list, image_size):\n",
    "    X = []\n",
    "    y = []\n",
    "    all_image_with_label = []\n",
    "    image_width, image_height = image_size\n",
    "    for directory in dir_list:\n",
    "        for filename in listdir(directory):\n",
    "            image = cv2.imread(directory+ \"/\"+ filename)\n",
    "            image = cv2.resize(image, dsize=(image_width, image_height), interpolation=cv2.INTER_CUBIC)\n",
    "            image = image / 255.\n",
    "            image_label_set_label = (0, 1)[directory[-4:] == 'fire']\n",
    "            image_name_with_label = filename, image_label_set_label\n",
    "            all_image_with_label.append(image_name_with_label)\n",
    "            np.savetxt(\"/results/nasnetmobile_image_data_feature_save.csv\", all_image_with_label, delimiter=\",\", fmt='%s')\n",
    "            image_name_matrix_with_label = image, filename, image_label_set_label\n",
    "            X.append(image_name_matrix_with_label)\n",
    "            y.append((0, 1)[directory[-4:] == 'fire'])\n",
    "\n",
    "    X = np.array(X)\n",
    "    y = np.array(y)\n",
    "    \n",
    "    print(Counter(y))\n",
    "    \n",
    "    return X, y\n",
    "\n",
    "def image_split_folder(source, destination_fire, destination_no_blaze, all_data):\n",
    "    shutil.rmtree(destination_fire, ignore_errors=True)\n",
    "    shutil.rmtree(destination_no_blaze, ignore_errors=True)\n",
    "    os.makedirs(destination_fire)\n",
    "    os.makedirs(destination_no_blaze)\n",
    "    for directory_split_folder_name in source:\n",
    "        files_create = os.listdir(directory_split_folder_name)\n",
    "        for target, label in all_data:\n",
    "            for f_crt in files_create:\n",
    "                if target == f_crt:\n",
    "                    if label == 1:\n",
    "                        shutil.copy(directory_split_folder_name + f_crt, destination_fire + f_crt)\n",
    "                    elif label == 0:\n",
    "                        shutil.copy(directory_split_folder_name + f_crt, destination_no_blaze + f_crt)\n",
    "\n",
    "def pred_fire_image_split_carry(X_test_name, pred_class, predictions):\n",
    "    pred_target_with_label_01 = np.vstack((X_test_name[:,1], pred_class)).T\n",
    "    pred_target_with_label_possibility = np.vstack((X_test_name[:,1], predictions)).T\n",
    "    image_split_folder([\"/kaggle/input/dataset/wildfires/fire/\", \"/kaggle/input/dataset/wildfires/no_blaze/\"], \"/results/pred/fire/\", \"/results/pred/no_blaze/\", pred_target_with_label_01)\n",
    "    np.savetxt(\"/results/pred/nasnetmobile_imagenet_fire_or_no_01.csv\", pred_target_with_label_01, delimiter=\",\", fmt='%s')\n",
    "    np.savetxt(\"/results/pred/nasnetmobile_imagenet_fire_or_no_possibility.csv\", pred_target_with_label_possibility, delimiter=\",\", fmt='%s')\n",
    "\n",
    "def image_to_4d(datas):\n",
    "    list_to_4d_all_data = []\n",
    "    for data_list_find in datas[:,0]:\n",
    "        list_to_4d_all_data.append(data_list_find)\n",
    "    list_to_4d_all_data = np.array(list_to_4d_all_data)\n",
    "    \n",
    "    return list_to_4d_all_data\n",
    "\n",
    "def plot_metrics(history):\n",
    "    \n",
    "    train_loss = history['loss']\n",
    "    val_loss = history['val_loss']\n",
    "    train_acc = history['accuracy']\n",
    "    val_acc = history['val_accuracy'] \n",
    "    \n",
    "    np.savetxt('/results/nasnetmobile_imagenet_training_loss.csv', train_loss, fmt=\"%1.16f\", delimiter=\",\")\n",
    "    np.savetxt('/results/nasnetmobile_imagenet_validation_loss.csv', val_loss, fmt=\"%1.16f\", delimiter=\",\") \n",
    "\n",
    "    np.savetxt('/results/nasnetmobile_imagenet_training_accuracy.csv', train_acc, fmt=\"%1.16f\", delimiter=\",\")\n",
    "    np.savetxt('/results/nasnetmobile_imagenet_val_accuracy.csv', val_acc, fmt=\"%1.16f\", delimiter=\",\") \n",
    "        \n",
    "    plt.figure()\n",
    "    plt.plot(train_loss, label='Training Loss')\n",
    "    plt.plot(val_loss, label='Validation Loss')\n",
    "    plt.ylabel('Loss')\n",
    "    plt.xlabel('Epoch')\n",
    "    plt.legend(loc=\"best\")\n",
    "    plt.savefig('/results/nasnetmobile_imagenet_loss.jpg', dpi=600, bbox_inches='tight')\n",
    "    plt.show()\n",
    "    \n",
    "    print(\"\\n\") \n",
    "\n",
    "    plt.figure()\n",
    "    plt.plot(train_acc, label='Training Accuracy')\n",
    "    plt.plot(val_acc, label='Validation Accuracy')\n",
    "    plt.ylabel('Accuracy')\n",
    "    plt.xlabel('Epoch')\n",
    "    plt.legend(loc=\"best\")\n",
    "    plt.savefig('/results/nasnetmobile_imagenet_accuracy.jpg', dpi=600, bbox_inches='tight')\n",
    "    plt.show()\n",
    "\n",
    "def build_model(img_shape):\n",
    "    \n",
    "    model = Sequential()\n",
    "    \n",
    "    model.add(NASNetMobile(input_shape = (img_shape), include_top = False, weights=\"imagenet\", pooling=\"max\"))\n",
    "\n",
    "    model.add(Dense(2, activation=\"softmax\"))\n",
    "    \n",
    "    return model\n",
    "    \n",
    "def plot_confusion_matrix(cm, classes, normalize=False, title='Confusion matrix', cmap=plt.cm.Blues):\n",
    "    plt.imshow(cm, interpolation='nearest', cmap=cmap)\n",
    "    plt.title(title)\n",
    "    plt.colorbar()\n",
    "    tick_marks = np.arange(len(classes))\n",
    "    plt.xticks(tick_marks, classes)\n",
    "    plt.yticks(tick_marks, classes)\n",
    "    fmt = '.2f' if normalize else 'd'\n",
    "    thresh = cm.max() / 2.\n",
    "    for i, j in itertools.product(range(cm.shape[0]), range(cm.shape[1])):\n",
    "        plt.text(j, i, format(cm[i, j], fmt),\n",
    "                 horizontalalignment=\"center\",\n",
    "                 color=\"white\" if cm[i, j] > thresh else \"black\")\n",
    "    plt.tight_layout()\n",
    "    plt.ylabel('True label',labelpad = 5)\n",
    "    plt.xlabel('Predicted label', labelpad = 15)\n",
    "    plt.savefig(\"/results/nasnetmobile_imagenet_plt_cm.jpg\", dpi=300, bbox_inches='tight')\n",
    "    plt.show()\n",
    "\n",
    "def statistc_analysis(actual,predict_classes_find):\n",
    "    \n",
    "    np.savetxt('/results/nasnetmobile_imagenet_pred.csv', predict_classes_find, fmt=\"%d\", delimiter=\",\")\n",
    "    np.savetxt('/results/nasnetmobile_imagenet_actual_test.csv', actual, fmt=\"%d\", delimiter=\",\")    \n",
    "    \n",
    "    accuracy = accuracy_score(actual, predict_classes_find)\n",
    "    print('Accuracy: %0.4f' % accuracy)\n",
    "    \n",
    "    precision = precision_score(actual, predict_classes_find)\n",
    "    print('Precision: %0.4f' % precision)\n",
    "    \n",
    "    recall = recall_score(actual, predict_classes_find)\n",
    "    print('Recall: %0.4f' % recall)\n",
    "    \n",
    "    f1 = f1_score(actual, predict_classes_find)\n",
    "    print('F1 score: %0.4f' % f1)\n",
    "    \n",
    "    kappa = cohen_kappa_score(actual, predict_classes_find)\n",
    "    print('Cohens kappa: %0.4f' % kappa)\n",
    "    \n",
    "    roc_auc_threshold = roc_auc_score(actual, predict_classes_find)\n",
    "    print('ROC AUC: %0.4f' % roc_auc_threshold)\n",
    "    print(\"\\n\")\n",
    "    \n",
    "    plt.figure()\n",
    "    cnf_matrix = confusion_matrix(actual, predict_classes_find, labels=[0,1])\n",
    "    plot_confusion_matrix(cnf_matrix, classes=['No Fire', 'Fire'], normalize= False,  title='Confusion matrix')\n",
    "    print(\"\\n\")\n",
    "        \n",
    "    print(\"\\n\")\n",
    "    print ('Report : ')\n",
    "    target_names = ['No Fire', 'Fire']\n",
    "    print (classification_report(actual, predict_classes_find,target_names=target_names, digits=2))\n",
    "    print(\"\\n\")\n",
    "    \n",
    "    mse = mean_squared_error(actual, predict_classes_find)\n",
    "    print('MSE: %0.4f' % mse)\n",
    "    \n",
    "    rmse = sqrt(mse)\n",
    "    print('RMSE: %0.4f' % rmse)\n",
    "    print(\"\\n\")    \n",
    "           \n",
    "    fpr, tpr, thresholds = roc_curve(actual, predict_classes_find)\n",
    "    roc_auc_threshold = 'NASNetMobile = %.4f' % (roc_auc_threshold)\n",
    "    plt.plot(fpr, tpr,  color='#2626ff', label=roc_auc_threshold)\n",
    "    plt.plot([0, 1], [0, 1], color='red', linestyle='--', label='', linewidth=2)\n",
    "    plt.xlim([-0.05, 1.05])\n",
    "    plt.ylim([-0.05, 1.05])\n",
    "    plt.legend(loc=\"lower right\")\n",
    "    plt.xlabel('1-Specificity (False Positive Rate)')\n",
    "    plt.ylabel('Sensitivity (True Positive Rate)')\n",
    "    plt.savefig(\"/results/nasnetmobile_imagenet_roc_curve.jpg\", dpi=300, bbox_inches='tight')\n",
    "    plt.show()    \n",
    "    print(\"\\n\") \n",
    "    \n",
    "def overall_statistics(actual, predict_classes_find):\n",
    "    \n",
    "    cm = ConfusionMatrix(actual_vector=actual,predict_vector=predict_classes_find)\n",
    "    \n",
    "    print(cm)\n",
    "\n",
    "def create_folder(directory):\n",
    "    try:\n",
    "        if not os.path.exists(directory):\n",
    "            os.makedirs(directory)\n",
    "    except OSError:\n",
    "        print ('Error:' +  directory)"
   ]
  },
  {
   "cell_type": "code",
   "execution_count": 7,
   "metadata": {
    "execution": {
     "iopub.execute_input": "2023-09-20T05:32:31.387020Z",
     "iopub.status.busy": "2023-09-20T05:32:31.386571Z",
     "iopub.status.idle": "2023-09-20T05:32:31.393075Z",
     "shell.execute_reply": "2023-09-20T05:32:31.391888Z",
     "shell.execute_reply.started": "2023-09-20T05:32:31.386989Z"
    }
   },
   "outputs": [],
   "source": [
    "create_folder('/results/')"
   ]
  },
  {
   "cell_type": "code",
   "execution_count": 8,
   "metadata": {
    "execution": {
     "iopub.execute_input": "2023-09-20T05:32:43.607804Z",
     "iopub.status.busy": "2023-09-20T05:32:43.607292Z",
     "iopub.status.idle": "2023-09-20T05:33:06.650731Z",
     "shell.execute_reply": "2023-09-20T05:33:06.649475Z",
     "shell.execute_reply.started": "2023-09-20T05:32:43.607766Z"
    }
   },
   "outputs": [
    {
     "name": "stdout",
     "output_type": "stream",
     "text": [
      "Counter({0: 732, 1: 720})\n"
     ]
    },
    {
     "name": "stderr",
     "output_type": "stream",
     "text": [
      "/tmp/ipykernel_32/84312075.py:19: VisibleDeprecationWarning: Creating an ndarray from ragged nested sequences (which is a list-or-tuple of lists-or-tuples-or ndarrays with different lengths or shapes) is deprecated. If you meant to do this, you must specify 'dtype=object' when creating the ndarray.\n",
      "  X = np.array(X)\n"
     ]
    }
   ],
   "source": [
    "X, y = load_data([\"/kaggle/input/dataset/wildfires/no_blaze\", \"/kaggle/input/dataset/wildfires/fire\"], (224,224))\n",
    "\n",
    "X_train, X_test, y_train, y_test = train_test_split(X, y, test_size=0.10, random_state=0)"
   ]
  },
  {
   "cell_type": "code",
   "execution_count": 9,
   "metadata": {
    "execution": {
     "iopub.execute_input": "2023-09-20T05:33:27.750255Z",
     "iopub.status.busy": "2023-09-20T05:33:27.749641Z",
     "iopub.status.idle": "2023-09-20T05:33:39.197771Z",
     "shell.execute_reply": "2023-09-20T05:33:39.196612Z",
     "shell.execute_reply.started": "2023-09-20T05:33:27.750206Z"
    }
   },
   "outputs": [
    {
     "name": "stdout",
     "output_type": "stream",
     "text": [
      "Downloading data from https://storage.googleapis.com/tensorflow/keras-applications/nasnet/NASNet-mobile-no-top.h5\n",
      "19993432/19993432 [==============================] - 0s 0us/step\n",
      "Model: \"sequential\"\n",
      "_________________________________________________________________\n",
      " Layer (type)                Output Shape              Param #   \n",
      "=================================================================\n",
      " NASNet (Functional)         (None, 1056)              4269716   \n",
      "                                                                 \n",
      " dense (Dense)               (None, 2)                 2114      \n",
      "                                                                 \n",
      "=================================================================\n",
      "Total params: 4,271,830\n",
      "Trainable params: 4,235,092\n",
      "Non-trainable params: 36,738\n",
      "_________________________________________________________________\n"
     ]
    }
   ],
   "source": [
    "X_train_list_to_4d = image_to_4d(X_train)\n",
    "X_test_list_to_4d = image_to_4d(X_test)\n",
    "\n",
    "actual=y_test\n",
    "\n",
    "y_train = to_categorical(y_train, 2)\n",
    "y_test = to_categorical(y_test, 2)\n",
    "\n",
    "img_shape = (224, 224, 3)\n",
    "model = build_model(img_shape)\n",
    "model.summary()\n",
    "\n",
    "model.compile(loss=\"categorical_crossentropy\", optimizer=\"adam\", metrics=['accuracy'])"
   ]
  },
  {
   "cell_type": "code",
   "execution_count": 10,
   "metadata": {
    "execution": {
     "iopub.execute_input": "2023-09-20T05:33:54.351259Z",
     "iopub.status.busy": "2023-09-20T05:33:54.350776Z",
     "iopub.status.idle": "2023-09-20T08:38:45.074886Z",
     "shell.execute_reply": "2023-09-20T08:38:45.073625Z",
     "shell.execute_reply.started": "2023-09-20T05:33:54.351225Z"
    }
   },
   "outputs": [
    {
     "name": "stdout",
     "output_type": "stream",
     "text": [
      "Epoch 1/50\n",
      "19/19 [==============================] - ETA: 0s - loss: 0.4757 - accuracy: 0.9055 \n",
      "Epoch 1: val_loss improved from inf to 0.95262, saving model to /results/nasnetmobile_imagenet.hdf5\n",
      "19/19 [==============================] - 321s 12s/step - loss: 0.4757 - accuracy: 0.9055 - val_loss: 0.9526 - val_accuracy: 0.7328 - lr: 0.0010\n",
      "Epoch 2/50\n",
      "19/19 [==============================] - ETA: 0s - loss: 0.1087 - accuracy: 0.9804 \n",
      "Epoch 2: val_loss did not improve from 0.95262\n",
      "19/19 [==============================] - 221s 12s/step - loss: 0.1087 - accuracy: 0.9804 - val_loss: 2.3427 - val_accuracy: 0.6794 - lr: 0.0010\n",
      "Epoch 3/50\n",
      "19/19 [==============================] - ETA: 0s - loss: 0.0876 - accuracy: 0.9847 \n",
      "Epoch 3: val_loss did not improve from 0.95262\n",
      "19/19 [==============================] - 224s 12s/step - loss: 0.0876 - accuracy: 0.9847 - val_loss: 1.4994 - val_accuracy: 0.8321 - lr: 0.0010\n",
      "Epoch 4/50\n",
      "19/19 [==============================] - ETA: 0s - loss: 0.0185 - accuracy: 0.9940 \n",
      "Epoch 4: val_loss did not improve from 0.95262\n",
      "19/19 [==============================] - 224s 12s/step - loss: 0.0185 - accuracy: 0.9940 - val_loss: 1.7969 - val_accuracy: 0.8244 - lr: 5.0000e-04\n",
      "Epoch 5/50\n",
      "19/19 [==============================] - ETA: 0s - loss: 0.0280 - accuracy: 0.9949 \n",
      "Epoch 5: val_loss did not improve from 0.95262\n",
      "19/19 [==============================] - 220s 12s/step - loss: 0.0280 - accuracy: 0.9949 - val_loss: 2.9701 - val_accuracy: 0.7557 - lr: 5.0000e-04\n",
      "Epoch 6/50\n",
      "19/19 [==============================] - ETA: 0s - loss: 0.0013 - accuracy: 0.9991 \n",
      "Epoch 6: val_loss did not improve from 0.95262\n",
      "19/19 [==============================] - 220s 12s/step - loss: 0.0013 - accuracy: 0.9991 - val_loss: 2.9635 - val_accuracy: 0.7328 - lr: 2.5000e-04\n",
      "Epoch 7/50\n",
      "19/19 [==============================] - ETA: 0s - loss: 3.3887e-04 - accuracy: 1.0000 \n",
      "Epoch 7: val_loss did not improve from 0.95262\n",
      "19/19 [==============================] - 219s 12s/step - loss: 3.3887e-04 - accuracy: 1.0000 - val_loss: 2.8535 - val_accuracy: 0.7328 - lr: 2.5000e-04\n",
      "Epoch 8/50\n",
      "19/19 [==============================] - ETA: 0s - loss: 1.6147e-04 - accuracy: 1.0000 \n",
      "Epoch 8: val_loss did not improve from 0.95262\n",
      "19/19 [==============================] - 219s 12s/step - loss: 1.6147e-04 - accuracy: 1.0000 - val_loss: 2.7723 - val_accuracy: 0.7405 - lr: 1.2500e-04\n",
      "Epoch 9/50\n",
      "19/19 [==============================] - ETA: 0s - loss: 9.9339e-04 - accuracy: 0.9991\n",
      "Epoch 9: val_loss did not improve from 0.95262\n",
      "19/19 [==============================] - 219s 12s/step - loss: 9.9339e-04 - accuracy: 0.9991 - val_loss: 2.7765 - val_accuracy: 0.7252 - lr: 1.2500e-04\n",
      "Epoch 10/50\n",
      "19/19 [==============================] - ETA: 0s - loss: 2.0413e-04 - accuracy: 1.0000 \n",
      "Epoch 10: val_loss did not improve from 0.95262\n",
      "19/19 [==============================] - 224s 12s/step - loss: 2.0413e-04 - accuracy: 1.0000 - val_loss: 2.7171 - val_accuracy: 0.7252 - lr: 1.0000e-04\n",
      "Epoch 11/50\n",
      "19/19 [==============================] - ETA: 0s - loss: 1.6062e-04 - accuracy: 1.0000 \n",
      "Epoch 11: val_loss did not improve from 0.95262\n",
      "19/19 [==============================] - 220s 12s/step - loss: 1.6062e-04 - accuracy: 1.0000 - val_loss: 2.6206 - val_accuracy: 0.7328 - lr: 1.0000e-04\n",
      "Epoch 12/50\n",
      "19/19 [==============================] - ETA: 0s - loss: 1.7162e-04 - accuracy: 1.0000 \n",
      "Epoch 12: val_loss did not improve from 0.95262\n",
      "19/19 [==============================] - 220s 12s/step - loss: 1.7162e-04 - accuracy: 1.0000 - val_loss: 2.5427 - val_accuracy: 0.7405 - lr: 1.0000e-04\n",
      "Epoch 13/50\n",
      "19/19 [==============================] - ETA: 0s - loss: 0.0051 - accuracy: 0.9991 \n",
      "Epoch 13: val_loss did not improve from 0.95262\n",
      "19/19 [==============================] - 221s 12s/step - loss: 0.0051 - accuracy: 0.9991 - val_loss: 2.4711 - val_accuracy: 0.7481 - lr: 1.0000e-04\n",
      "Epoch 14/50\n",
      "19/19 [==============================] - ETA: 0s - loss: 1.8783e-04 - accuracy: 1.0000 \n",
      "Epoch 14: val_loss did not improve from 0.95262\n",
      "19/19 [==============================] - 220s 12s/step - loss: 1.8783e-04 - accuracy: 1.0000 - val_loss: 2.4045 - val_accuracy: 0.7634 - lr: 1.0000e-04\n",
      "Epoch 15/50\n",
      "19/19 [==============================] - ETA: 0s - loss: 0.0015 - accuracy: 0.9991 \n",
      "Epoch 15: val_loss did not improve from 0.95262\n",
      "19/19 [==============================] - 220s 12s/step - loss: 0.0015 - accuracy: 0.9991 - val_loss: 2.1563 - val_accuracy: 0.7557 - lr: 1.0000e-04\n",
      "Epoch 16/50\n",
      "19/19 [==============================] - ETA: 0s - loss: 4.0372e-05 - accuracy: 1.0000 \n",
      "Epoch 16: val_loss did not improve from 0.95262\n",
      "19/19 [==============================] - 220s 12s/step - loss: 4.0372e-05 - accuracy: 1.0000 - val_loss: 2.0610 - val_accuracy: 0.7634 - lr: 1.0000e-04\n",
      "Epoch 17/50\n",
      "19/19 [==============================] - ETA: 0s - loss: 1.9170e-05 - accuracy: 1.0000 \n",
      "Epoch 17: val_loss did not improve from 0.95262\n",
      "19/19 [==============================] - 224s 12s/step - loss: 1.9170e-05 - accuracy: 1.0000 - val_loss: 1.9993 - val_accuracy: 0.7710 - lr: 1.0000e-04\n",
      "Epoch 18/50\n",
      "19/19 [==============================] - ETA: 0s - loss: 3.6393e-05 - accuracy: 1.0000 \n",
      "Epoch 18: val_loss did not improve from 0.95262\n",
      "19/19 [==============================] - 218s 11s/step - loss: 3.6393e-05 - accuracy: 1.0000 - val_loss: 1.9463 - val_accuracy: 0.7786 - lr: 1.0000e-04\n",
      "Epoch 19/50\n",
      "19/19 [==============================] - ETA: 0s - loss: 4.0505e-05 - accuracy: 1.0000 \n",
      "Epoch 19: val_loss did not improve from 0.95262\n",
      "19/19 [==============================] - 218s 11s/step - loss: 4.0505e-05 - accuracy: 1.0000 - val_loss: 1.8929 - val_accuracy: 0.7939 - lr: 1.0000e-04\n",
      "Epoch 20/50\n",
      "19/19 [==============================] - ETA: 0s - loss: 2.5064e-05 - accuracy: 1.0000 \n",
      "Epoch 20: val_loss did not improve from 0.95262\n",
      "19/19 [==============================] - 219s 11s/step - loss: 2.5064e-05 - accuracy: 1.0000 - val_loss: 1.8401 - val_accuracy: 0.8015 - lr: 1.0000e-04\n",
      "Epoch 21/50\n",
      "19/19 [==============================] - ETA: 0s - loss: 1.2084e-04 - accuracy: 1.0000 \n",
      "Epoch 21: val_loss did not improve from 0.95262\n",
      "19/19 [==============================] - 219s 12s/step - loss: 1.2084e-04 - accuracy: 1.0000 - val_loss: 1.7932 - val_accuracy: 0.8015 - lr: 1.0000e-04\n",
      "Epoch 22/50\n",
      "19/19 [==============================] - ETA: 0s - loss: 1.9592e-04 - accuracy: 1.0000 \n",
      "Epoch 22: val_loss did not improve from 0.95262\n",
      "19/19 [==============================] - 223s 12s/step - loss: 1.9592e-04 - accuracy: 1.0000 - val_loss: 1.7455 - val_accuracy: 0.8092 - lr: 1.0000e-04\n",
      "Epoch 23/50\n",
      "19/19 [==============================] - ETA: 0s - loss: 2.3408e-05 - accuracy: 1.0000 \n",
      "Epoch 23: val_loss did not improve from 0.95262\n",
      "19/19 [==============================] - 219s 12s/step - loss: 2.3408e-05 - accuracy: 1.0000 - val_loss: 1.6968 - val_accuracy: 0.8092 - lr: 1.0000e-04\n",
      "Epoch 24/50\n",
      "19/19 [==============================] - ETA: 0s - loss: 2.9531e-05 - accuracy: 1.0000 \n",
      "Epoch 24: val_loss did not improve from 0.95262\n",
      "19/19 [==============================] - 218s 11s/step - loss: 2.9531e-05 - accuracy: 1.0000 - val_loss: 1.6508 - val_accuracy: 0.8092 - lr: 1.0000e-04\n",
      "Epoch 25/50\n",
      "19/19 [==============================] - ETA: 0s - loss: 2.5728e-05 - accuracy: 1.0000 \n",
      "Epoch 25: val_loss did not improve from 0.95262\n",
      "19/19 [==============================] - 218s 11s/step - loss: 2.5728e-05 - accuracy: 1.0000 - val_loss: 1.6065 - val_accuracy: 0.8092 - lr: 1.0000e-04\n",
      "Epoch 26/50\n",
      "19/19 [==============================] - ETA: 0s - loss: 2.3180e-04 - accuracy: 1.0000 \n",
      "Epoch 26: val_loss did not improve from 0.95262\n",
      "19/19 [==============================] - 219s 12s/step - loss: 2.3180e-04 - accuracy: 1.0000 - val_loss: 1.5361 - val_accuracy: 0.8092 - lr: 1.0000e-04\n",
      "Epoch 27/50\n",
      "19/19 [==============================] - ETA: 0s - loss: 3.1042e-05 - accuracy: 1.0000 \n",
      "Epoch 27: val_loss did not improve from 0.95262\n",
      "19/19 [==============================] - 218s 11s/step - loss: 3.1042e-05 - accuracy: 1.0000 - val_loss: 1.3010 - val_accuracy: 0.8092 - lr: 1.0000e-04\n",
      "Epoch 28/50\n",
      "19/19 [==============================] - ETA: 0s - loss: 1.1749e-05 - accuracy: 1.0000 \n",
      "Epoch 28: val_loss did not improve from 0.95262\n",
      "19/19 [==============================] - 223s 12s/step - loss: 1.1749e-05 - accuracy: 1.0000 - val_loss: 1.2364 - val_accuracy: 0.8168 - lr: 1.0000e-04\n",
      "Epoch 29/50\n",
      "19/19 [==============================] - ETA: 0s - loss: 9.8235e-06 - accuracy: 1.0000 \n",
      "Epoch 29: val_loss did not improve from 0.95262\n",
      "19/19 [==============================] - 218s 11s/step - loss: 9.8235e-06 - accuracy: 1.0000 - val_loss: 1.1955 - val_accuracy: 0.8244 - lr: 1.0000e-04\n",
      "Epoch 30/50\n",
      "19/19 [==============================] - ETA: 0s - loss: 2.5170e-04 - accuracy: 1.0000 \n",
      "Epoch 30: val_loss did not improve from 0.95262\n",
      "19/19 [==============================] - 218s 11s/step - loss: 2.5170e-04 - accuracy: 1.0000 - val_loss: 1.1448 - val_accuracy: 0.8321 - lr: 1.0000e-04\n",
      "Epoch 31/50\n",
      "19/19 [==============================] - ETA: 0s - loss: 1.4792e-05 - accuracy: 1.0000 \n",
      "Epoch 31: val_loss did not improve from 0.95262\n",
      "19/19 [==============================] - 217s 11s/step - loss: 1.4792e-05 - accuracy: 1.0000 - val_loss: 1.0668 - val_accuracy: 0.8321 - lr: 1.0000e-04\n",
      "Epoch 32/50\n",
      "19/19 [==============================] - ETA: 0s - loss: 5.0423e-05 - accuracy: 1.0000 \n",
      "Epoch 32: val_loss did not improve from 0.95262\n",
      "19/19 [==============================] - 218s 11s/step - loss: 5.0423e-05 - accuracy: 1.0000 - val_loss: 1.0481 - val_accuracy: 0.8473 - lr: 1.0000e-04\n",
      "Epoch 33/50\n",
      "19/19 [==============================] - ETA: 0s - loss: 1.7673e-05 - accuracy: 1.0000 \n",
      "Epoch 33: val_loss did not improve from 0.95262\n",
      "19/19 [==============================] - 218s 11s/step - loss: 1.7673e-05 - accuracy: 1.0000 - val_loss: 1.0260 - val_accuracy: 0.8550 - lr: 1.0000e-04\n",
      "Epoch 34/50\n",
      "19/19 [==============================] - ETA: 0s - loss: 1.0083e-05 - accuracy: 1.0000 \n",
      "Epoch 34: val_loss did not improve from 0.95262\n",
      "19/19 [==============================] - 218s 11s/step - loss: 1.0083e-05 - accuracy: 1.0000 - val_loss: 0.9975 - val_accuracy: 0.8626 - lr: 1.0000e-04\n",
      "Epoch 35/50\n",
      "19/19 [==============================] - ETA: 0s - loss: 1.3230e-05 - accuracy: 1.0000 \n",
      "Epoch 35: val_loss did not improve from 0.95262\n",
      "19/19 [==============================] - 218s 11s/step - loss: 1.3230e-05 - accuracy: 1.0000 - val_loss: 0.9680 - val_accuracy: 0.8702 - lr: 1.0000e-04\n",
      "Epoch 36/50\n",
      "19/19 [==============================] - ETA: 0s - loss: 2.0734e-05 - accuracy: 1.0000 \n",
      "Epoch 36: val_loss improved from 0.95262 to 0.94022, saving model to /results/nasnetmobile_imagenet.hdf5\n",
      "19/19 [==============================] - 220s 12s/step - loss: 2.0734e-05 - accuracy: 1.0000 - val_loss: 0.9402 - val_accuracy: 0.8779 - lr: 1.0000e-04\n",
      "Epoch 37/50\n",
      "19/19 [==============================] - ETA: 0s - loss: 2.2983e-05 - accuracy: 1.0000 \n",
      "Epoch 37: val_loss improved from 0.94022 to 0.91524, saving model to /results/nasnetmobile_imagenet.hdf5\n",
      "19/19 [==============================] - 220s 12s/step - loss: 2.2983e-05 - accuracy: 1.0000 - val_loss: 0.9152 - val_accuracy: 0.8779 - lr: 1.0000e-04\n",
      "Epoch 38/50\n",
      "19/19 [==============================] - ETA: 0s - loss: 1.3295e-05 - accuracy: 1.0000 \n",
      "Epoch 38: val_loss improved from 0.91524 to 0.89663, saving model to /results/nasnetmobile_imagenet.hdf5\n",
      "19/19 [==============================] - 219s 12s/step - loss: 1.3295e-05 - accuracy: 1.0000 - val_loss: 0.8966 - val_accuracy: 0.8779 - lr: 1.0000e-04\n",
      "Epoch 39/50\n",
      "19/19 [==============================] - ETA: 0s - loss: 1.0429e-05 - accuracy: 1.0000 \n",
      "Epoch 39: val_loss improved from 0.89663 to 0.87215, saving model to /results/nasnetmobile_imagenet.hdf5\n",
      "19/19 [==============================] - 219s 12s/step - loss: 1.0429e-05 - accuracy: 1.0000 - val_loss: 0.8721 - val_accuracy: 0.8855 - lr: 1.0000e-04\n",
      "Epoch 40/50\n",
      "19/19 [==============================] - ETA: 0s - loss: 5.2513e-05 - accuracy: 1.0000 \n",
      "Epoch 40: val_loss improved from 0.87215 to 0.84180, saving model to /results/nasnetmobile_imagenet.hdf5\n",
      "19/19 [==============================] - 220s 12s/step - loss: 5.2513e-05 - accuracy: 1.0000 - val_loss: 0.8418 - val_accuracy: 0.8931 - lr: 1.0000e-04\n",
      "Epoch 41/50\n",
      "19/19 [==============================] - ETA: 0s - loss: 9.5649e-06 - accuracy: 1.0000 \n",
      "Epoch 41: val_loss improved from 0.84180 to 0.81613, saving model to /results/nasnetmobile_imagenet.hdf5\n",
      "19/19 [==============================] - 220s 12s/step - loss: 9.5649e-06 - accuracy: 1.0000 - val_loss: 0.8161 - val_accuracy: 0.9008 - lr: 1.0000e-04\n",
      "Epoch 42/50\n",
      "19/19 [==============================] - ETA: 0s - loss: 1.6352e-05 - accuracy: 1.0000 \n",
      "Epoch 42: val_loss improved from 0.81613 to 0.79231, saving model to /results/nasnetmobile_imagenet.hdf5\n",
      "19/19 [==============================] - 220s 12s/step - loss: 1.6352e-05 - accuracy: 1.0000 - val_loss: 0.7923 - val_accuracy: 0.9160 - lr: 1.0000e-04\n",
      "Epoch 43/50\n",
      "19/19 [==============================] - ETA: 0s - loss: 1.1625e-05 - accuracy: 1.0000 \n",
      "Epoch 43: val_loss improved from 0.79231 to 0.77014, saving model to /results/nasnetmobile_imagenet.hdf5\n",
      "19/19 [==============================] - 219s 12s/step - loss: 1.1625e-05 - accuracy: 1.0000 - val_loss: 0.7701 - val_accuracy: 0.9160 - lr: 1.0000e-04\n",
      "Epoch 44/50\n",
      "19/19 [==============================] - ETA: 0s - loss: 8.9514e-06 - accuracy: 1.0000 \n",
      "Epoch 44: val_loss improved from 0.77014 to 0.74863, saving model to /results/nasnetmobile_imagenet.hdf5\n",
      "19/19 [==============================] - 219s 12s/step - loss: 8.9514e-06 - accuracy: 1.0000 - val_loss: 0.7486 - val_accuracy: 0.9237 - lr: 1.0000e-04\n",
      "Epoch 45/50\n",
      "19/19 [==============================] - ETA: 0s - loss: 8.3472e-06 - accuracy: 1.0000 \n",
      "Epoch 45: val_loss improved from 0.74863 to 0.72860, saving model to /results/nasnetmobile_imagenet.hdf5\n",
      "19/19 [==============================] - 219s 12s/step - loss: 8.3472e-06 - accuracy: 1.0000 - val_loss: 0.7286 - val_accuracy: 0.9237 - lr: 1.0000e-04\n",
      "Epoch 46/50\n",
      "19/19 [==============================] - ETA: 0s - loss: 9.5677e-06 - accuracy: 1.0000 \n",
      "Epoch 46: val_loss improved from 0.72860 to 0.71115, saving model to /results/nasnetmobile_imagenet.hdf5\n",
      "19/19 [==============================] - 220s 12s/step - loss: 9.5677e-06 - accuracy: 1.0000 - val_loss: 0.7112 - val_accuracy: 0.9313 - lr: 1.0000e-04\n",
      "Epoch 47/50\n",
      "19/19 [==============================] - ETA: 0s - loss: 5.7463e-05 - accuracy: 1.0000 \n",
      "Epoch 47: val_loss improved from 0.71115 to 0.69176, saving model to /results/nasnetmobile_imagenet.hdf5\n",
      "19/19 [==============================] - 219s 12s/step - loss: 5.7463e-05 - accuracy: 1.0000 - val_loss: 0.6918 - val_accuracy: 0.9313 - lr: 1.0000e-04\n",
      "Epoch 48/50\n",
      "19/19 [==============================] - ETA: 0s - loss: 1.1272e-05 - accuracy: 1.0000 \n",
      "Epoch 48: val_loss improved from 0.69176 to 0.65547, saving model to /results/nasnetmobile_imagenet.hdf5\n",
      "19/19 [==============================] - 220s 12s/step - loss: 1.1272e-05 - accuracy: 1.0000 - val_loss: 0.6555 - val_accuracy: 0.9313 - lr: 1.0000e-04\n",
      "Epoch 49/50\n",
      "19/19 [==============================] - ETA: 0s - loss: 1.1477e-05 - accuracy: 1.0000 \n",
      "Epoch 49: val_loss improved from 0.65547 to 0.63641, saving model to /results/nasnetmobile_imagenet.hdf5\n",
      "19/19 [==============================] - 220s 12s/step - loss: 1.1477e-05 - accuracy: 1.0000 - val_loss: 0.6364 - val_accuracy: 0.9313 - lr: 1.0000e-04\n",
      "Epoch 50/50\n",
      "19/19 [==============================] - ETA: 0s - loss: 2.0118e-05 - accuracy: 1.0000 \n",
      "Epoch 50: val_loss improved from 0.63641 to 0.61707, saving model to /results/nasnetmobile_imagenet.hdf5\n",
      "19/19 [==============================] - 220s 12s/step - loss: 2.0118e-05 - accuracy: 1.0000 - val_loss: 0.6171 - val_accuracy: 0.9313 - lr: 1.0000e-04\n"
     ]
    },
    {
     "data": {
      "image/png": "[encoded data removed]",
      "text/plain": [
       "<Figure size 640x480 with 1 Axes>"
      ]
     },
     "metadata": {},
     "output_type": "display_data"
    },
    {
     "name": "stdout",
     "output_type": "stream",
     "text": [
      "\n",
      "\n"
     ]
    },
    {
     "data": {
      "image/png": "[encoded data removed]",
      "text/plain": [
       "<Figure size 640x480 with 1 Axes>"
      ]
     },
     "metadata": {},
     "output_type": "display_data"
    }
   ],
   "source": [
    "filepath=\"/results/nasnetmobile_imagenet.hdf5\"\n",
    "checkpoint = ModelCheckpoint(filepath, monitor=\"val_loss\", verbose=1, save_best_only=True, mode='min')\n",
    "reduce_lr = ReduceLROnPlateau(monitor='val_loss', factor=0.5, patience=2, min_lr=0.0001, verbose=0)\n",
    "history = model.fit(X_train_list_to_4d, y_train, batch_size=64, epochs=50, validation_split=0.10, verbose=1, callbacks=[checkpoint, reduce_lr])\n",
    "history=history.history\n",
    " \n",
    "plot_metrics(history)"
   ]
  },
  {
   "cell_type": "code",
   "execution_count": 11,
   "metadata": {
    "execution": {
     "iopub.execute_input": "2023-09-20T08:39:23.417983Z",
     "iopub.status.busy": "2023-09-20T08:39:23.417403Z",
     "iopub.status.idle": "2023-09-20T08:39:53.255171Z",
     "shell.execute_reply": "2023-09-20T08:39:53.253903Z",
     "shell.execute_reply.started": "2023-09-20T08:39:23.417945Z"
    }
   },
   "outputs": [
    {
     "name": "stdout",
     "output_type": "stream",
     "text": [
      "Test loss : 1.402, Test Accuracy: 0.8767\n",
      "\n",
      "\n"
     ]
    }
   ],
   "source": [
    "model = load_model('/results/nasnetmobile_imagenet.hdf5')\n",
    "\n",
    "test_loss, test_acc = model.evaluate(X_test_list_to_4d, y_test, verbose=0)\n",
    "print(f\"Test loss : {test_loss:0.4}, Test Accuracy: {test_acc:0.4}\")\n",
    "\n",
    "print(\"\\n\")"
   ]
  },
  {
   "cell_type": "code",
   "execution_count": 12,
   "metadata": {
    "execution": {
     "iopub.execute_input": "2023-09-20T08:40:24.830903Z",
     "iopub.status.busy": "2023-09-20T08:40:24.830404Z",
     "iopub.status.idle": "2023-09-20T08:40:34.978797Z",
     "shell.execute_reply": "2023-09-20T08:40:34.977519Z",
     "shell.execute_reply.started": "2023-09-20T08:40:24.830867Z"
    }
   },
   "outputs": [],
   "source": [
    "predictions = model.predict(X_test_list_to_4d, verbose=0)\n",
    "predict_classes_find=[]\n",
    "predictions_end=[]\n",
    "for prd_clssv in predictions:\n",
    "    predictions_end.append(max(prd_clssv))\n",
    "    predict_classes_find.append(prd_clssv.argmax())  \n",
    "predict_classes_find=np.array(predict_classes_find)\n",
    "predictions_end=np.array(predictions_end)"
   ]
  },
  {
   "cell_type": "code",
   "execution_count": 13,
   "metadata": {
    "execution": {
     "iopub.execute_input": "2023-09-20T08:40:41.501917Z",
     "iopub.status.busy": "2023-09-20T08:40:41.500907Z",
     "iopub.status.idle": "2023-09-20T08:40:42.933733Z",
     "shell.execute_reply": "2023-09-20T08:40:42.932445Z",
     "shell.execute_reply.started": "2023-09-20T08:40:41.501863Z"
    }
   },
   "outputs": [
    {
     "name": "stdout",
     "output_type": "stream",
     "text": [
      "Accuracy: 0.8767\n",
      "Precision: 0.8161\n",
      "Recall: 0.9726\n",
      "F1 score: 0.8875\n",
      "Cohens kappa: 0.7534\n",
      "ROC AUC: 0.8767\n",
      "\n",
      "\n"
     ]
    },
    {
     "data": {
      "image/png": "[encoded data removed]",
      "text/plain": [
       "<Figure size 640x480 with 2 Axes>"
      ]
     },
     "metadata": {},
     "output_type": "display_data"
    },
    {
     "name": "stdout",
     "output_type": "stream",
     "text": [
      "\n",
      "\n",
      "\n",
      "\n",
      "Report : \n",
      "              precision    recall  f1-score   support\n",
      "\n",
      "     No Fire       0.97      0.78      0.86        73\n",
      "        Fire       0.82      0.97      0.89        73\n",
      "\n",
      "    accuracy                           0.88       146\n",
      "   macro avg       0.89      0.88      0.88       146\n",
      "weighted avg       0.89      0.88      0.88       146\n",
      "\n",
      "\n",
      "\n",
      "MSE: 0.1233\n",
      "RMSE: 0.3511\n",
      "\n",
      "\n"
     ]
    },
    {
     "data": {
      "image/png": "[encoded data removed]",
      "text/plain": [
       "<Figure size 640x480 with 1 Axes>"
      ]
     },
     "metadata": {},
     "output_type": "display_data"
    },
    {
     "name": "stdout",
     "output_type": "stream",
     "text": [
      "\n",
      "\n"
     ]
    }
   ],
   "source": [
    "statistc_analysis(actual, predict_classes_find)"
   ]
  },
  {
   "cell_type": "code",
   "execution_count": 16,
   "metadata": {
    "execution": {
     "iopub.execute_input": "2023-09-20T08:42:28.084186Z",
     "iopub.status.busy": "2023-09-20T08:42:28.083654Z",
     "iopub.status.idle": "2023-09-20T08:42:28.499372Z",
     "shell.execute_reply": "2023-09-20T08:42:28.498205Z",
     "shell.execute_reply.started": "2023-09-20T08:42:28.084146Z"
    }
   },
   "outputs": [],
   "source": [
    "pred_fire_image_split_carry(X_test, predict_classes_find, predictions_end)"
   ]
  },
  {
   "cell_type": "code",
   "execution_count": 18,
   "metadata": {
    "execution": {
     "iopub.execute_input": "2023-09-20T08:42:33.943173Z",
     "iopub.status.busy": "2023-09-20T08:42:33.942640Z",
     "iopub.status.idle": "2023-09-20T08:42:33.956864Z",
     "shell.execute_reply": "2023-09-20T08:42:33.955668Z",
     "shell.execute_reply.started": "2023-09-20T08:42:33.943127Z"
    }
   },
   "outputs": [
    {
     "name": "stdout",
     "output_type": "stream",
     "text": [
      "****************************** overall statistics start ******************************\n",
      "Predict  0        1        \n",
      "Actual\n",
      "0        57       16       \n",
      "\n",
      "1        2        71       \n",
      "\n",
      "\n",
      "\n",
      "\n",
      "\n",
      "Overall Statistics : \n",
      "\n",
      "95% CI                                                            (0.82338,0.93004)\n",
      "ACC Macro                                                         0.87671\n",
      "ARI                                                               0.56476\n",
      "AUNP                                                              0.87671\n",
      "AUNU                                                              0.87671\n",
      "Bangdiwala B                                                      0.77782\n",
      "Bennett S                                                         0.75342\n",
      "CBA                                                               0.79846\n",
      "CSI                                                               0.76781\n",
      "Chi-Squared                                                       86.0413\n",
      "Chi-Squared DF                                                    1\n",
      "Conditional Entropy                                               0.46992\n",
      "Cramer V                                                          0.76767\n",
      "Cross Entropy                                                     1.02703\n",
      "F1 Macro                                                          0.87557\n",
      "F1 Micro                                                          0.87671\n",
      "FNR Macro                                                         0.12329\n",
      "FNR Micro                                                         0.12329\n",
      "FPR Macro                                                         0.12329\n",
      "FPR Micro                                                         0.12329\n",
      "Gwet AC1                                                          0.75567\n",
      "Hamming Loss                                                      0.12329\n",
      "Joint Entropy                                                     1.46992\n",
      "KL Divergence                                                     0.02703\n",
      "Kappa                                                             0.75342\n",
      "Kappa 95% CI                                                      (0.64677,0.86008)\n",
      "Kappa No Prevalence                                               0.75342\n",
      "Kappa Standard Error                                              0.05442\n",
      "Kappa Unbiased                                                    0.75114\n",
      "Krippendorff Alpha                                                0.75199\n",
      "Lambda A                                                          0.75342\n",
      "Lambda B                                                          0.69492\n",
      "Mutual Information                                                0.50339\n",
      "NIR                                                               0.5\n",
      "NPV Macro                                                         0.8911\n",
      "NPV Micro                                                         0.87671\n",
      "Overall ACC                                                       0.87671\n",
      "Overall CEN                                                       0.43354\n",
      "Overall J                                                         (1.55775,0.77888)\n",
      "Overall MCC                                                       0.76767\n",
      "Overall MCEN                                                      0.3311\n",
      "Overall RACC                                                      0.5\n",
      "Overall RACCU                                                     0.5046\n",
      "P-Value                                                           0.0\n",
      "PPV Macro                                                         0.8911\n",
      "PPV Micro                                                         0.87671\n",
      "Pearson C                                                         0.60893\n",
      "Phi-Squared                                                       0.58932\n",
      "RCI                                                               0.50339\n",
      "RR                                                                73.0\n",
      "Reference Entropy                                                 1.0\n",
      "Response Entropy                                                  0.9733\n",
      "SOA1(Landis & Koch)                                               Substantial\n",
      "SOA2(Fleiss)                                                      Excellent\n",
      "SOA3(Altman)                                                      Good\n",
      "SOA4(Cicchetti)                                                   Excellent\n",
      "SOA5(Cramer)                                                      Strong\n",
      "SOA6(Matthews)                                                    Strong\n",
      "SOA7(Lambda A)                                                    Strong\n",
      "SOA8(Lambda B)                                                    Strong\n",
      "SOA9(Krippendorff Alpha)                                          Tentative\n",
      "SOA10(Pearson C)                                                  Strong\n",
      "Scott PI                                                          0.75114\n",
      "Standard Error                                                    0.02721\n",
      "TNR Macro                                                         0.87671\n",
      "TNR Micro                                                         0.87671\n",
      "TPR Macro                                                         0.87671\n",
      "TPR Micro                                                         0.87671\n",
      "Zero-one Loss                                                     18\n",
      "\n",
      "Class Statistics :\n",
      "\n",
      "Classes                                                           0             1             \n",
      "ACC(Accuracy)                                                     0.87671       0.87671       \n",
      "AGF(Adjusted F-score)                                             0.82745       0.92948       \n",
      "AGM(Adjusted geometric mean)                                      0.90517       0.84124       \n",
      "AM(Difference between automatic and manual classification)        -14           14            \n",
      "AUC(Area under the ROC curve)                                     0.87671       0.87671       \n",
      "AUCI(AUC value interpretation)                                    Very Good     Very Good     \n",
      "AUPR(Area under the PR curve)                                     0.87346       0.89435       \n",
      "BB(Braun-Blanquet similarity)                                     0.78082       0.81609       \n",
      "BCD(Bray-Curtis dissimilarity)                                    0.04795       0.04795       \n",
      "BM(Informedness or bookmaker informedness)                        0.75342       0.75342       \n",
      "CEN(Confusion entropy)                                            0.4606        0.41122       \n",
      "DOR(Diagnostic odds ratio)                                        126.46875     126.46875     \n",
      "DP(Discriminant power)                                            1.15888       1.15888       \n",
      "DPI(Discriminant power interpretation)                            Limited       Limited       \n",
      "ERR(Error rate)                                                   0.12329       0.12329       \n",
      "F0.5(F0.5 score)                                                  0.92233       0.84323       \n",
      "F1(F1 score - harmonic mean of precision and sensitivity)         0.86364       0.8875        \n",
      "F2(F2 score)                                                      0.81197       0.93668       \n",
      "FDR(False discovery rate)                                         0.0339        0.18391       \n",
      "FN(False negative/miss/type 2 error)                              16            2             \n",
      "FNR(Miss rate or false negative rate)                             0.21918       0.0274        \n",
      "FOR(False omission rate)                                          0.18391       0.0339        \n",
      "FP(False positive/type 1 error/false alarm)                       2             16            \n",
      "FPR(Fall-out or false positive rate)                              0.0274        0.21918       \n",
      "G(G-measure geometric mean of precision and sensitivity)          0.86854       0.89092       \n",
      "GI(Gini index)                                                    0.75342       0.75342       \n",
      "GM(G-mean geometric mean of specificity and sensitivity)          0.87145       0.87145       \n",
      "HD(Hamming distance)                                              18            18            \n",
      "IBA(Index of balanced accuracy)                                   0.61379       0.90507       \n",
      "ICSI(Individual classification success index)                     0.74692       0.78869       \n",
      "IS(Information score)                                             0.95025       0.7068        \n",
      "J(Jaccard index)                                                  0.76          0.79775       \n",
      "LS(Lift score)                                                    1.9322        1.63218       \n",
      "MCC(Matthews correlation coefficient)                             0.76767       0.76767       \n",
      "MCCI(Matthews correlation coefficient interpretation)             Strong        Strong        \n",
      "MCEN(Modified confusion entropy)                                  0.61492       0.56813       \n",
      "MK(Markedness)                                                    0.78219       0.78219       \n",
      "N(Condition negative)                                             73            73            \n",
      "NLR(Negative likelihood ratio)                                    0.22535       0.03509       \n",
      "NLRI(Negative likelihood ratio interpretation)                    Poor          Good          \n",
      "NPV(Negative predictive value)                                    0.81609       0.9661        \n",
      "OC(Overlap coefficient)                                           0.9661        0.9726        \n",
      "OOC(Otsuka-Ochiai coefficient)                                    0.86854       0.89092       \n",
      "OP(Optimized precision)                                           0.76734       0.76734       \n",
      "P(Condition positive or support)                                  73            73            \n",
      "PLR(Positive likelihood ratio)                                    28.5          4.4375        \n",
      "PLRI(Positive likelihood ratio interpretation)                    Good          Poor          \n",
      "POP(Population)                                                   146           146           \n",
      "PPV(Precision or positive predictive value)                       0.9661        0.81609       \n",
      "PRE(Prevalence)                                                   0.5           0.5           \n",
      "Q(Yule Q - coefficient of colligation)                            0.98431       0.98431       \n",
      "QI(Yule Q interpretation)                                         Strong        Strong        \n",
      "RACC(Random accuracy)                                             0.20205       0.29795       \n",
      "RACCU(Random accuracy unbiased)                                   0.20435       0.30024       \n",
      "TN(True negative/correct rejection)                               71            57            \n",
      "TNR(Specificity or true negative rate)                            0.9726        0.78082       \n",
      "TON(Test outcome negative)                                        87            59            \n",
      "TOP(Test outcome positive)                                        59            87            \n",
      "TP(True positive/hit)                                             57            71            \n",
      "TPR(Sensitivity, recall, hit rate, or true positive rate)         0.78082       0.9726        \n",
      "Y(Youden index)                                                   0.75342       0.75342       \n",
      "dInd(Distance index)                                              0.22088       0.22088       \n",
      "sInd(Similarity index)                                            0.84381       0.84381       \n",
      "\n",
      "****************************** overall statistics end ******************************\n"
     ]
    }
   ],
   "source": [
    "print(\"*\"*30,\"overall statistics start\",\"*\"*30)\n",
    "overall_statistics(actual, predict_classes_find)\n",
    "print(\"*\"*30,\"overall statistics end\",\"*\"*30)"
   ]
  },
  {
   "cell_type": "code",
   "execution_count": null,
   "metadata": {},
   "outputs": [],
   "source": []
  },
  {
   "cell_type": "code",
   "execution_count": null,
   "metadata": {},
   "outputs": [],
   "source": []
  },
  {
   "cell_type": "code",
   "execution_count": null,
   "metadata": {},
   "outputs": [],
   "source": []
  }
 ],
 "metadata": {
  "kernelspec": {
   "display_name": "Python 3 (ipykernel)",
   "language": "python",
   "name": "python3"
  },
  "language_info": {
   "codemirror_mode": {
    "name": "ipython",
    "version": 3
   },
   "file_extension": ".py",
   "mimetype": "text/x-python",
   "name": "python",
   "nbconvert_exporter": "python",
   "pygments_lexer": "ipython3",
   "version": "3.11.4"
  },
  "varInspector": {
   "cols": {
    "lenName": 16,
    "lenType": 16,
    "lenVar": 40
   },
   "kernels_config": {
    "python": {
     "delete_cmd_postfix": "",
     "delete_cmd_prefix": "del ",
     "library": "var_list.py",
     "varRefreshCmd": "print(var_dic_list())"
    },
    "r": {
     "delete_cmd_postfix": ") ",
     "delete_cmd_prefix": "rm(",
     "library": "var_list.r",
     "varRefreshCmd": "cat(var_dic_list()) "
    }
   },
   "types_to_exclude": [
    "module",
    "function",
    "builtin_function_or_method",
    "instance",
    "_Feature"
   ],
   "window_display": false
  }
 },
 "nbformat": 4,
 "nbformat_minor": 4
}
