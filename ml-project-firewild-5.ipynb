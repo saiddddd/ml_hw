{
 "cells": [
  {
   "cell_type": "code",
   "execution_count": 6,
   "metadata": {
    "_cell_guid": "b1076dfc-b9ad-4769-8c92-a6c4dae69d19",
    "_uuid": "8f2839f25d086af736a60e9eeb907d3b93b6e0e5",
    "execution": {
     "iopub.execute_input": "2023-09-20T15:49:23.108181Z",
     "iopub.status.busy": "2023-09-20T15:49:23.107276Z",
     "iopub.status.idle": "2023-09-20T15:49:23.113687Z",
     "shell.execute_reply": "2023-09-20T15:49:23.112674Z",
     "shell.execute_reply.started": "2023-09-20T15:49:23.108138Z"
    }
   },
   "outputs": [],
   "source": [
    "# # This Python 3 environment comes with many helpful analytics libraries installed\n",
    "# # It is defined by the kaggle/python Docker image: https://github.com/kaggle/docker-python\n",
    "# # For example, here's several helpful packages to load\n",
    "\n",
    "# import numpy as np # linear algebra\n",
    "# import pandas as pd # data processing, CSV file I/O (e.g. pd.read_csv)\n",
    "\n",
    "# # Input data files are available in the read-only \"../input/\" directory\n",
    "# # For example, running this (by clicking run or pressing Shift+Enter) will list all files under the input directory\n",
    "\n",
    "# import os\n",
    "# for dirname, _, filenames in os.walk('/kaggle/input'):\n",
    "#     for filename in filenames:\n",
    "#         print(os.path.join(dirname, filename))\n",
    "\n",
    "# # You can write up to 20GB to the current directory (/kaggle/working/) that gets preserved as output when you create a version using \"Save & Run All\" \n",
    "# # You can also write temporary files to /kaggle/temp/, but they won't be saved outside of the current session"
   ]
  },
  {
   "cell_type": "code",
   "execution_count": 1,
   "metadata": {
    "execution": {
     "iopub.execute_input": "2023-09-20T19:04:27.696786Z",
     "iopub.status.busy": "2023-09-20T19:04:27.696439Z",
     "iopub.status.idle": "2023-09-20T19:04:41.841615Z",
     "shell.execute_reply": "2023-09-20T19:04:41.840470Z",
     "shell.execute_reply.started": "2023-09-20T19:04:27.696758Z"
    }
   },
   "outputs": [
    {
     "name": "stdout",
     "output_type": "stream",
     "text": [
      "Collecting pycm\n",
      "  Downloading pycm-4.0-py3-none-any.whl (70 kB)\n",
      "\u001b[2K     \u001b[90m━━━━━━━━━━━━━━━━━━━━━━━━━━━━━━━━━━━━━━━━\u001b[0m \u001b[32m70.3/70.3 kB\u001b[0m \u001b[31m2.4 MB/s\u001b[0m eta \u001b[36m0:00:00\u001b[0m\n",
      "\u001b[?25hCollecting art>=1.8 (from pycm)\n",
      "  Downloading art-6.1-py3-none-any.whl (599 kB)\n",
      "\u001b[2K     \u001b[90m━━━━━━━━━━━━━━━━━━━━━━━━━━━━━━━━━━━━━━\u001b[0m \u001b[32m599.8/599.8 kB\u001b[0m \u001b[31m14.3 MB/s\u001b[0m eta \u001b[36m0:00:00\u001b[0m00:01\u001b[0m\n",
      "\u001b[?25hRequirement already satisfied: numpy>=1.9.0 in /opt/conda/lib/python3.10/site-packages (from pycm) (1.23.5)\n",
      "Installing collected packages: art, pycm\n",
      "Successfully installed art-6.1 pycm-4.0\n",
      "Note: you may need to restart the kernel to use updated packages.\n"
     ]
    }
   ],
   "source": [
    "pip install pycm"
   ]
  },
  {
   "cell_type": "markdown",
   "metadata": {},
   "source": [
    "# vgg19_transfer_learning"
   ]
  },
  {
   "cell_type": "code",
   "execution_count": 2,
   "metadata": {
    "execution": {
     "iopub.execute_input": "2023-09-20T19:05:07.606270Z",
     "iopub.status.busy": "2023-09-20T19:05:07.605916Z",
     "iopub.status.idle": "2023-09-20T19:05:17.571927Z",
     "shell.execute_reply": "2023-09-20T19:05:17.570918Z",
     "shell.execute_reply.started": "2023-09-20T19:05:07.606242Z"
    }
   },
   "outputs": [
    {
     "name": "stderr",
     "output_type": "stream",
     "text": [
      "/opt/conda/lib/python3.10/site-packages/scipy/__init__.py:146: UserWarning: A NumPy version >=1.16.5 and <1.23.0 is required for this version of SciPy (detected version 1.23.5\n",
      "  warnings.warn(f\"A NumPy version >={np_minversion} and <{np_maxversion}\"\n"
     ]
    }
   ],
   "source": [
    "from sklearn.metrics import classification_report,accuracy_score,roc_auc_score,roc_curve, precision_score,recall_score,f1_score,cohen_kappa_score,confusion_matrix,mean_squared_error\n",
    "from sklearn.model_selection import train_test_split\n",
    "from tensorflow.keras.callbacks import ModelCheckpoint, ReduceLROnPlateau\n",
    "from tensorflow.keras.applications import VGG19\n",
    "from tensorflow.keras.utils import to_categorical\n",
    "from tensorflow.keras.models import load_model, Sequential\n",
    "from tensorflow.keras.layers import Dense\n",
    "from pycm import ConfusionMatrix\n",
    "from collections import Counter\n",
    "from os import listdir\n",
    "from math import sqrt\n",
    "\n",
    "import matplotlib.pyplot as plt\n",
    "import tensorflow as tf\n",
    "import numpy as np\n",
    "import itertools\n",
    "import os, shutil\n",
    "import cv2"
   ]
  },
  {
   "cell_type": "code",
   "execution_count": 3,
   "metadata": {
    "execution": {
     "iopub.execute_input": "2023-09-20T19:05:19.909356Z",
     "iopub.status.busy": "2023-09-20T19:05:19.908001Z",
     "iopub.status.idle": "2023-09-20T19:05:23.111127Z",
     "shell.execute_reply": "2023-09-20T19:05:23.110089Z",
     "shell.execute_reply.started": "2023-09-20T19:05:19.909314Z"
    }
   },
   "outputs": [
    {
     "name": "stdout",
     "output_type": "stream",
     "text": [
      "tf version: 2.12.0\n"
     ]
    }
   ],
   "source": [
    "os.environ[\"CUDA_DEVICE_ORDER\"] = \"PCI_BUS_ID\"\n",
    "os.environ[\"CUDA_VISIBLE_DEVICES\"]=\"0,2,3,4\"\n",
    "gpu_options = tf.compat.v1.GPUOptions(per_process_gpu_memory_fraction=0.99)\n",
    "tf.compat.v1.Session(config=tf.compat.v1.ConfigProto(gpu_options=gpu_options))\n",
    "\n",
    "print(\"tf version:\", tf.__version__)"
   ]
  },
  {
   "cell_type": "code",
   "execution_count": 13,
   "metadata": {
    "execution": {
     "iopub.execute_input": "2023-09-20T19:23:53.251435Z",
     "iopub.status.busy": "2023-09-20T19:23:53.251008Z",
     "iopub.status.idle": "2023-09-20T19:23:53.289107Z",
     "shell.execute_reply": "2023-09-20T19:23:53.288112Z",
     "shell.execute_reply.started": "2023-09-20T19:23:53.251393Z"
    }
   },
   "outputs": [],
   "source": [
    "def load_data(dir_list, image_size):\n",
    "    X = []\n",
    "    y = []\n",
    "    all_image_with_label = []\n",
    "    image_width, image_height = image_size\n",
    "    for directory in dir_list:\n",
    "        for filename in listdir(directory):\n",
    "            image = cv2.imread(directory+ \"/\"+ filename)\n",
    "            image = cv2.resize(image, dsize=(image_width, image_height), interpolation=cv2.INTER_CUBIC)\n",
    "            image = image / 255.\n",
    "            image_label_set_label = (0, 1)[directory[-4:] == 'fire']\n",
    "            image_name_with_label = filename, image_label_set_label\n",
    "            all_image_with_label.append(image_name_with_label)\n",
    "            np.savetxt(\"/results/vgg19_image_data_feature_save.csv\", all_image_with_label, delimiter=\",\", fmt='%s')\n",
    "            image_name_matrix_with_label = image, filename, image_label_set_label\n",
    "            X.append(image_name_matrix_with_label)\n",
    "            y.append((0, 1)[directory[-4:] == 'fire'])\n",
    "\n",
    "    X = np.array(X)\n",
    "    y = np.array(y)\n",
    "    \n",
    "    print(Counter(y))\n",
    "    \n",
    "    return X, y\n",
    "\n",
    "def image_split_folder(source, destination_fire, destination_no_blaze, all_data):\n",
    "    shutil.rmtree(destination_fire, ignore_errors=True)\n",
    "    shutil.rmtree(destination_no_blaze, ignore_errors=True)\n",
    "    os.makedirs(destination_fire)\n",
    "    os.makedirs(destination_no_blaze)\n",
    "    for directory_split_folder_name in source:\n",
    "        files_create = os.listdir(directory_split_folder_name)\n",
    "        for target, label in all_data:\n",
    "            for f_crt in files_create:\n",
    "                if target == f_crt:\n",
    "                    if label == 1:\n",
    "                        shutil.copy(directory_split_folder_name + f_crt, destination_fire + f_crt)\n",
    "                    elif label == 0:\n",
    "                        shutil.copy(directory_split_folder_name + f_crt, destination_no_blaze + f_crt)\n",
    "\n",
    "def pred_fire_image_split_carry(X_test_name, pred_class, predictions):\n",
    "    pred_target_with_label_01 = np.vstack((X_test_name[:,1], pred_class)).T\n",
    "    pred_target_with_label_possibility = np.vstack((X_test_name[:,1], predictions)).T\n",
    "    image_split_folder([\"/kaggle/input/dataset/wildfires/fire/\", \"/kaggle/input/dataset/wildfires/no_blaze/\"], \"/results/pred/fire/\", \"/results/pred/no_blaze/\", pred_target_with_label_01)\n",
    "    np.savetxt(\"/results/pred/vgg19_imagenet_fire_or_no_01.csv\", pred_target_with_label_01, delimiter=\",\", fmt='%s')\n",
    "    np.savetxt(\"/results/pred/vgg19_imagenet_fire_or_no_possibility.csv\", pred_target_with_label_possibility, delimiter=\",\", fmt='%s')\n",
    "\n",
    "def image_to_4d(datas):\n",
    "    list_to_4d_all_data = []\n",
    "    for data_list_find in datas[:,0]:\n",
    "        list_to_4d_all_data.append(data_list_find)\n",
    "    list_to_4d_all_data = np.array(list_to_4d_all_data)\n",
    "    \n",
    "    return list_to_4d_all_data\n",
    "\n",
    "def plot_metrics(history):\n",
    "    \n",
    "    train_loss = history['loss']\n",
    "    val_loss = history['val_loss']\n",
    "    train_acc = history['accuracy']\n",
    "    val_acc = history['val_accuracy'] \n",
    "    \n",
    "    np.savetxt('/results/vgg19_imagenet_training_loss.csv', train_loss, fmt=\"%1.16f\", delimiter=\",\")\n",
    "    np.savetxt('/results/vgg19_imagenet_validation_loss.csv', val_loss, fmt=\"%1.16f\", delimiter=\",\") \n",
    "\n",
    "    np.savetxt('/results/vgg19_imagenet_training_accuracy.csv', train_acc, fmt=\"%1.16f\", delimiter=\",\")\n",
    "    np.savetxt('/results/vgg19_imagenet_val_accuracy.csv', val_acc, fmt=\"%1.16f\", delimiter=\",\") \n",
    "        \n",
    "    plt.figure()\n",
    "    plt.plot(train_loss, label='Training Loss')\n",
    "    plt.plot(val_loss, label='Validation Loss')\n",
    "    plt.ylabel('Loss')\n",
    "    plt.xlabel('Epoch')\n",
    "    plt.legend(loc=\"best\")\n",
    "    plt.savefig('/results/vgg19_imagenet_loss.jpg', dpi=600, bbox_inches='tight')\n",
    "    plt.show()\n",
    "    \n",
    "    print(\"\\n\") \n",
    "\n",
    "    plt.figure()\n",
    "    plt.plot(train_acc, label='Training Accuracy')\n",
    "    plt.plot(val_acc, label='Validation Accuracy')\n",
    "    plt.ylabel('Accuracy')\n",
    "    plt.xlabel('Epoch')\n",
    "    plt.legend(loc=\"best\")\n",
    "    plt.savefig('/results/vgg19_imagenet_accuracy.jpg', dpi=600, bbox_inches='tight')\n",
    "    plt.show()\n",
    "\n",
    "def build_model(img_shape):\n",
    "    \n",
    "    model = Sequential()\n",
    "    \n",
    "    model.add(VGG19(input_shape = (img_shape), include_top = False, weights=\"imagenet\", pooling=\"max\"))\n",
    "\n",
    "    model.add(Dense(2, activation=\"softmax\"))\n",
    "    \n",
    "    return model\n",
    "    \n",
    "def plot_confusion_matrix(cm, classes, normalize=False, title='Confusion matrix', cmap=plt.cm.Blues):\n",
    "    plt.imshow(cm, interpolation='nearest', cmap=cmap)\n",
    "    plt.title(title)\n",
    "    plt.colorbar()\n",
    "    tick_marks = np.arange(len(classes))\n",
    "    plt.xticks(tick_marks, classes)\n",
    "    plt.yticks(tick_marks, classes)\n",
    "    fmt = '.2f' if normalize else 'd'\n",
    "    thresh = cm.max() / 2.\n",
    "    for i, j in itertools.product(range(cm.shape[0]), range(cm.shape[1])):\n",
    "        plt.text(j, i, format(cm[i, j], fmt),\n",
    "                 horizontalalignment=\"center\",\n",
    "                 color=\"white\" if cm[i, j] > thresh else \"black\")\n",
    "    plt.tight_layout()\n",
    "    plt.ylabel('True label',labelpad = 5)\n",
    "    plt.xlabel('Predicted label', labelpad = 15)\n",
    "    plt.savefig(\"/results/vgg19_imagenet_plt_cm.jpg\", dpi=300, bbox_inches='tight')\n",
    "    plt.show()\n",
    "\n",
    "def statistc_analysis(actual,predict_classes_find):\n",
    "    \n",
    "    np.savetxt('/results/vgg19_imagenet_pred.csv', predict_classes_find, fmt=\"%d\", delimiter=\",\")\n",
    "    np.savetxt('/results/vgg19_imagenet_actual_test.csv', actual, fmt=\"%d\", delimiter=\",\")    \n",
    "    \n",
    "    accuracy = accuracy_score(actual, predict_classes_find)\n",
    "    print('Accuracy: %0.4f' % accuracy)\n",
    "    \n",
    "    precision = precision_score(actual, predict_classes_find)\n",
    "    print('Precision: %0.4f' % precision)\n",
    "    \n",
    "    recall = recall_score(actual, predict_classes_find)\n",
    "    print('Recall: %0.4f' % recall)\n",
    "    \n",
    "    f1 = f1_score(actual, predict_classes_find)\n",
    "    print('F1 score: %0.4f' % f1)\n",
    "    \n",
    "    kappa = cohen_kappa_score(actual, predict_classes_find)\n",
    "    print('Cohens kappa: %0.4f' % kappa)\n",
    "    \n",
    "    roc_auc_threshold = roc_auc_score(actual, predict_classes_find)\n",
    "    print('ROC AUC: %0.4f' % roc_auc_threshold)\n",
    "    print(\"\\n\")\n",
    "    \n",
    "    plt.figure()\n",
    "    cnf_matrix = confusion_matrix(actual, predict_classes_find, labels=[0,1])\n",
    "    plot_confusion_matrix(cnf_matrix, classes=['No Fire', 'Fire'], normalize= False,  title='Confusion matrix')\n",
    "    print(\"\\n\")\n",
    "        \n",
    "    print(\"\\n\")\n",
    "    print ('Report : ')\n",
    "    target_names = ['No Fire', 'Fire']\n",
    "    print (classification_report(actual, predict_classes_find,target_names=target_names, digits=2))\n",
    "    print(\"\\n\")\n",
    "    \n",
    "    mse = mean_squared_error(actual, predict_classes_find)\n",
    "    print('MSE: %0.4f' % mse)\n",
    "    \n",
    "    rmse = sqrt(mse)\n",
    "    print('RMSE: %0.4f' % rmse)\n",
    "    print(\"\\n\")    \n",
    "           \n",
    "    fpr, tpr, thresholds = roc_curve(actual, predict_classes_find)\n",
    "    roc_auc_threshold = 'VGG19 = %.4f' % (roc_auc_threshold)\n",
    "    plt.plot(fpr, tpr,  color='#2626ff', label=roc_auc_threshold)\n",
    "    plt.plot([0, 1], [0, 1], color='red', linestyle='--', label='', linewidth=2)\n",
    "    plt.xlim([-0.05, 1.05])\n",
    "    plt.ylim([-0.05, 1.05])\n",
    "    plt.legend(loc=\"lower right\")\n",
    "    plt.xlabel('1-Specificity (False Positive Rate)')\n",
    "    plt.ylabel('Sensitivity (True Positive Rate)')\n",
    "    plt.savefig(\"/results/vgg19_imagenet_roc_curve.jpg\", dpi=300, bbox_inches='tight')\n",
    "    plt.show()    \n",
    "    print(\"\\n\") \n",
    "    \n",
    "def overall_statistics(actual, predict_classes_find):\n",
    "    \n",
    "    cm = ConfusionMatrix(actual_vector=actual,predict_vector=predict_classes_find)\n",
    "    \n",
    "    print(cm)\n",
    "\n",
    "def create_folder(directory):\n",
    "    try:\n",
    "        if not os.path.exists(directory):\n",
    "            os.makedirs(directory)\n",
    "    except OSError:\n",
    "        print ('Error:' +  directory)"
   ]
  },
  {
   "cell_type": "code",
   "execution_count": 5,
   "metadata": {
    "execution": {
     "iopub.execute_input": "2023-09-20T19:05:26.894218Z",
     "iopub.status.busy": "2023-09-20T19:05:26.893858Z",
     "iopub.status.idle": "2023-09-20T19:05:26.900233Z",
     "shell.execute_reply": "2023-09-20T19:05:26.898454Z",
     "shell.execute_reply.started": "2023-09-20T19:05:26.894190Z"
    }
   },
   "outputs": [],
   "source": [
    "create_folder('/results/')"
   ]
  },
  {
   "cell_type": "code",
   "execution_count": 6,
   "metadata": {
    "execution": {
     "iopub.execute_input": "2023-09-20T19:05:28.049887Z",
     "iopub.status.busy": "2023-09-20T19:05:28.049522Z",
     "iopub.status.idle": "2023-09-20T19:05:46.217128Z",
     "shell.execute_reply": "2023-09-20T19:05:46.216084Z",
     "shell.execute_reply.started": "2023-09-20T19:05:28.049859Z"
    }
   },
   "outputs": [
    {
     "name": "stdout",
     "output_type": "stream",
     "text": [
      "Counter({0: 732, 1: 720})\n"
     ]
    },
    {
     "name": "stderr",
     "output_type": "stream",
     "text": [
      "/tmp/ipykernel_28/2975772101.py:19: VisibleDeprecationWarning: Creating an ndarray from ragged nested sequences (which is a list-or-tuple of lists-or-tuples-or ndarrays with different lengths or shapes) is deprecated. If you meant to do this, you must specify 'dtype=object' when creating the ndarray.\n",
      "  X = np.array(X)\n"
     ]
    }
   ],
   "source": [
    "X, y = load_data([\"/kaggle/input/dataset/wildfires/no_blaze\", \"/kaggle/input/dataset/wildfires/fire\"], (224,224))\n",
    "\n",
    "X_train, X_test, y_train, y_test = train_test_split(X, y, test_size=0.10, random_state=0)"
   ]
  },
  {
   "cell_type": "code",
   "execution_count": 7,
   "metadata": {
    "execution": {
     "iopub.execute_input": "2023-09-20T19:05:46.220073Z",
     "iopub.status.busy": "2023-09-20T19:05:46.219073Z",
     "iopub.status.idle": "2023-09-20T19:05:48.272047Z",
     "shell.execute_reply": "2023-09-20T19:05:48.271063Z",
     "shell.execute_reply.started": "2023-09-20T19:05:46.220035Z"
    }
   },
   "outputs": [
    {
     "name": "stdout",
     "output_type": "stream",
     "text": [
      "Downloading data from https://storage.googleapis.com/tensorflow/keras-applications/vgg19/vgg19_weights_tf_dim_ordering_tf_kernels_notop.h5\n",
      "80134624/80134624 [==============================] - 0s 0us/step\n",
      "Model: \"sequential\"\n",
      "_________________________________________________________________\n",
      " Layer (type)                Output Shape              Param #   \n",
      "=================================================================\n",
      " vgg19 (Functional)          (None, 512)               20024384  \n",
      "                                                                 \n",
      " dense (Dense)               (None, 2)                 1026      \n",
      "                                                                 \n",
      "=================================================================\n",
      "Total params: 20,025,410\n",
      "Trainable params: 20,025,410\n",
      "Non-trainable params: 0\n",
      "_________________________________________________________________\n"
     ]
    }
   ],
   "source": [
    "X_train_list_to_4d = image_to_4d(X_train)\n",
    "X_test_list_to_4d = image_to_4d(X_test)\n",
    "\n",
    "actual=y_test\n",
    "\n",
    "y_train = to_categorical(y_train, 2)\n",
    "y_test = to_categorical(y_test, 2)\n",
    "\n",
    "img_shape = (224, 224, 3)\n",
    "model = build_model(img_shape)\n",
    "model.summary()\n",
    "\n",
    "model.compile(loss=\"categorical_crossentropy\", optimizer=\"adam\", metrics=['accuracy'])"
   ]
  },
  {
   "cell_type": "code",
   "execution_count": 8,
   "metadata": {
    "execution": {
     "iopub.execute_input": "2023-09-20T19:05:48.274015Z",
     "iopub.status.busy": "2023-09-20T19:05:48.273602Z",
     "iopub.status.idle": "2023-09-20T19:22:16.128714Z",
     "shell.execute_reply": "2023-09-20T19:22:16.127742Z",
     "shell.execute_reply.started": "2023-09-20T19:05:48.273979Z"
    }
   },
   "outputs": [
    {
     "name": "stdout",
     "output_type": "stream",
     "text": [
      "Epoch 1/50\n",
      "19/19 [==============================] - ETA: 0s - loss: 28.4763 - accuracy: 0.4791\n",
      "Epoch 1: val_loss improved from inf to 0.73792, saving model to /results/vgg19_imagenet.hdf5\n",
      "19/19 [==============================] - 62s 1s/step - loss: 28.4763 - accuracy: 0.4791 - val_loss: 0.7379 - val_accuracy: 0.4809 - lr: 0.0010\n",
      "Epoch 2/50\n",
      "19/19 [==============================] - ETA: 0s - loss: 0.7066 - accuracy: 0.4817\n",
      "Epoch 2: val_loss improved from 0.73792 to 0.68966, saving model to /results/vgg19_imagenet.hdf5\n",
      "19/19 [==============================] - 18s 926ms/step - loss: 0.7066 - accuracy: 0.4817 - val_loss: 0.6897 - val_accuracy: 0.4351 - lr: 0.0010\n",
      "Epoch 3/50\n",
      "19/19 [==============================] - ETA: 0s - loss: 0.6934 - accuracy: 0.5038\n",
      "Epoch 3: val_loss did not improve from 0.68966\n",
      "19/19 [==============================] - 18s 926ms/step - loss: 0.6934 - accuracy: 0.5038 - val_loss: 0.6995 - val_accuracy: 0.4809 - lr: 0.0010\n",
      "Epoch 4/50\n",
      "19/19 [==============================] - ETA: 0s - loss: 0.6918 - accuracy: 0.5132\n",
      "Epoch 4: val_loss did not improve from 0.68966\n",
      "19/19 [==============================] - 18s 942ms/step - loss: 0.6918 - accuracy: 0.5132 - val_loss: 0.7399 - val_accuracy: 0.5191 - lr: 0.0010\n",
      "Epoch 5/50\n",
      "19/19 [==============================] - ETA: 0s - loss: 0.7008 - accuracy: 0.5217\n",
      "Epoch 5: val_loss improved from 0.68966 to 0.68085, saving model to /results/vgg19_imagenet.hdf5\n",
      "19/19 [==============================] - 19s 1s/step - loss: 0.7008 - accuracy: 0.5217 - val_loss: 0.6809 - val_accuracy: 0.6412 - lr: 5.0000e-04\n",
      "Epoch 6/50\n",
      "19/19 [==============================] - ETA: 0s - loss: 0.6825 - accuracy: 0.5864\n",
      "Epoch 6: val_loss did not improve from 0.68085\n",
      "19/19 [==============================] - 18s 929ms/step - loss: 0.6825 - accuracy: 0.5864 - val_loss: 0.6932 - val_accuracy: 0.4809 - lr: 5.0000e-04\n",
      "Epoch 7/50\n",
      "19/19 [==============================] - ETA: 0s - loss: 0.6781 - accuracy: 0.5804\n",
      "Epoch 7: val_loss improved from 0.68085 to 0.67146, saving model to /results/vgg19_imagenet.hdf5\n",
      "19/19 [==============================] - 19s 999ms/step - loss: 0.6781 - accuracy: 0.5804 - val_loss: 0.6715 - val_accuracy: 0.5191 - lr: 5.0000e-04\n",
      "Epoch 8/50\n",
      "19/19 [==============================] - ETA: 0s - loss: 0.6800 - accuracy: 0.5506\n",
      "Epoch 8: val_loss did not improve from 0.67146\n",
      "19/19 [==============================] - 17s 904ms/step - loss: 0.6800 - accuracy: 0.5506 - val_loss: 0.6937 - val_accuracy: 0.5191 - lr: 5.0000e-04\n",
      "Epoch 9/50\n",
      "19/19 [==============================] - ETA: 0s - loss: 0.6969 - accuracy: 0.4894\n",
      "Epoch 9: val_loss did not improve from 0.67146\n",
      "19/19 [==============================] - 18s 950ms/step - loss: 0.6969 - accuracy: 0.4894 - val_loss: 0.6921 - val_accuracy: 0.4885 - lr: 5.0000e-04\n",
      "Epoch 10/50\n",
      "19/19 [==============================] - ETA: 0s - loss: 0.6937 - accuracy: 0.4996\n",
      "Epoch 10: val_loss did not improve from 0.67146\n",
      "19/19 [==============================] - 18s 955ms/step - loss: 0.6937 - accuracy: 0.4996 - val_loss: 0.6978 - val_accuracy: 0.4809 - lr: 2.5000e-04\n",
      "Epoch 11/50\n",
      "19/19 [==============================] - ETA: 0s - loss: 0.6934 - accuracy: 0.4996\n",
      "Epoch 11: val_loss did not improve from 0.67146\n",
      "19/19 [==============================] - 18s 956ms/step - loss: 0.6934 - accuracy: 0.4996 - val_loss: 0.6919 - val_accuracy: 0.4962 - lr: 2.5000e-04\n",
      "Epoch 12/50\n",
      "19/19 [==============================] - ETA: 0s - loss: 0.6920 - accuracy: 0.5166\n",
      "Epoch 12: val_loss did not improve from 0.67146\n",
      "19/19 [==============================] - 18s 954ms/step - loss: 0.6920 - accuracy: 0.5166 - val_loss: 0.6934 - val_accuracy: 0.4885 - lr: 1.2500e-04\n",
      "Epoch 13/50\n",
      "19/19 [==============================] - ETA: 0s - loss: 0.6918 - accuracy: 0.5243\n",
      "Epoch 13: val_loss did not improve from 0.67146\n",
      "19/19 [==============================] - 18s 953ms/step - loss: 0.6918 - accuracy: 0.5243 - val_loss: 0.6916 - val_accuracy: 0.5038 - lr: 1.2500e-04\n",
      "Epoch 14/50\n",
      "19/19 [==============================] - ETA: 0s - loss: 0.6917 - accuracy: 0.5370\n",
      "Epoch 14: val_loss did not improve from 0.67146\n",
      "19/19 [==============================] - 18s 922ms/step - loss: 0.6917 - accuracy: 0.5370 - val_loss: 0.6922 - val_accuracy: 0.5115 - lr: 1.0000e-04\n",
      "Epoch 15/50\n",
      "19/19 [==============================] - ETA: 0s - loss: 0.6912 - accuracy: 0.5540\n",
      "Epoch 15: val_loss did not improve from 0.67146\n",
      "19/19 [==============================] - 17s 920ms/step - loss: 0.6912 - accuracy: 0.5540 - val_loss: 0.6924 - val_accuracy: 0.5573 - lr: 1.0000e-04\n",
      "Epoch 16/50\n",
      "19/19 [==============================] - ETA: 0s - loss: 0.6909 - accuracy: 0.5685\n",
      "Epoch 16: val_loss did not improve from 0.67146\n",
      "19/19 [==============================] - 18s 923ms/step - loss: 0.6909 - accuracy: 0.5685 - val_loss: 0.6914 - val_accuracy: 0.5267 - lr: 1.0000e-04\n",
      "Epoch 17/50\n",
      "19/19 [==============================] - ETA: 0s - loss: 0.6905 - accuracy: 0.5345\n",
      "Epoch 17: val_loss did not improve from 0.67146\n",
      "19/19 [==============================] - 18s 922ms/step - loss: 0.6905 - accuracy: 0.5345 - val_loss: 0.6915 - val_accuracy: 0.5191 - lr: 1.0000e-04\n",
      "Epoch 18/50\n",
      "19/19 [==============================] - ETA: 0s - loss: 0.6904 - accuracy: 0.5626\n",
      "Epoch 18: val_loss did not improve from 0.67146\n",
      "19/19 [==============================] - 18s 954ms/step - loss: 0.6904 - accuracy: 0.5626 - val_loss: 0.6916 - val_accuracy: 0.5649 - lr: 1.0000e-04\n",
      "Epoch 19/50\n",
      "19/19 [==============================] - ETA: 0s - loss: 0.6893 - accuracy: 0.5677\n",
      "Epoch 19: val_loss did not improve from 0.67146\n",
      "19/19 [==============================] - 18s 954ms/step - loss: 0.6893 - accuracy: 0.5677 - val_loss: 0.6910 - val_accuracy: 0.5344 - lr: 1.0000e-04\n",
      "Epoch 20/50\n",
      "19/19 [==============================] - ETA: 0s - loss: 0.6887 - accuracy: 0.5557\n",
      "Epoch 20: val_loss did not improve from 0.67146\n",
      "19/19 [==============================] - 18s 958ms/step - loss: 0.6887 - accuracy: 0.5557 - val_loss: 0.6885 - val_accuracy: 0.5496 - lr: 1.0000e-04\n",
      "Epoch 21/50\n",
      "19/19 [==============================] - ETA: 0s - loss: 0.6873 - accuracy: 0.5711\n",
      "Epoch 21: val_loss did not improve from 0.67146\n",
      "19/19 [==============================] - 18s 957ms/step - loss: 0.6873 - accuracy: 0.5711 - val_loss: 0.6895 - val_accuracy: 0.5649 - lr: 1.0000e-04\n",
      "Epoch 22/50\n",
      "19/19 [==============================] - ETA: 0s - loss: 0.6865 - accuracy: 0.5651\n",
      "Epoch 22: val_loss did not improve from 0.67146\n",
      "19/19 [==============================] - 18s 954ms/step - loss: 0.6865 - accuracy: 0.5651 - val_loss: 0.6879 - val_accuracy: 0.5344 - lr: 1.0000e-04\n",
      "Epoch 23/50\n",
      "19/19 [==============================] - ETA: 0s - loss: 0.6855 - accuracy: 0.5915\n",
      "Epoch 23: val_loss did not improve from 0.67146\n",
      "19/19 [==============================] - 17s 921ms/step - loss: 0.6855 - accuracy: 0.5915 - val_loss: 0.6902 - val_accuracy: 0.4809 - lr: 1.0000e-04\n",
      "Epoch 24/50\n",
      "19/19 [==============================] - ETA: 0s - loss: 0.6850 - accuracy: 0.5464\n",
      "Epoch 24: val_loss did not improve from 0.67146\n",
      "19/19 [==============================] - 18s 921ms/step - loss: 0.6850 - accuracy: 0.5464 - val_loss: 0.6814 - val_accuracy: 0.5725 - lr: 1.0000e-04\n",
      "Epoch 25/50\n",
      "19/19 [==============================] - ETA: 0s - loss: 0.6798 - accuracy: 0.5872\n",
      "Epoch 25: val_loss did not improve from 0.67146\n",
      "19/19 [==============================] - 18s 956ms/step - loss: 0.6798 - accuracy: 0.5872 - val_loss: 0.6766 - val_accuracy: 0.6107 - lr: 1.0000e-04\n",
      "Epoch 26/50\n",
      "19/19 [==============================] - ETA: 0s - loss: 0.6775 - accuracy: 0.6085\n",
      "Epoch 26: val_loss did not improve from 0.67146\n",
      "19/19 [==============================] - 18s 954ms/step - loss: 0.6775 - accuracy: 0.6085 - val_loss: 0.6782 - val_accuracy: 0.5802 - lr: 1.0000e-04\n",
      "Epoch 27/50\n",
      "19/19 [==============================] - ETA: 0s - loss: 0.6686 - accuracy: 0.6315\n",
      "Epoch 27: val_loss improved from 0.67146 to 0.66590, saving model to /results/vgg19_imagenet.hdf5\n",
      "19/19 [==============================] - 19s 1s/step - loss: 0.6686 - accuracy: 0.6315 - val_loss: 0.6659 - val_accuracy: 0.6183 - lr: 1.0000e-04\n",
      "Epoch 28/50\n",
      "19/19 [==============================] - ETA: 0s - loss: 0.6531 - accuracy: 0.6477\n",
      "Epoch 28: val_loss improved from 0.66590 to 0.65239, saving model to /results/vgg19_imagenet.hdf5\n",
      "19/19 [==============================] - 19s 1s/step - loss: 0.6531 - accuracy: 0.6477 - val_loss: 0.6524 - val_accuracy: 0.6260 - lr: 1.0000e-04\n",
      "Epoch 29/50\n",
      "19/19 [==============================] - ETA: 0s - loss: 0.6346 - accuracy: 0.6655\n",
      "Epoch 29: val_loss did not improve from 0.65239\n",
      "19/19 [==============================] - 17s 918ms/step - loss: 0.6346 - accuracy: 0.6655 - val_loss: 0.6529 - val_accuracy: 0.6183 - lr: 1.0000e-04\n",
      "Epoch 30/50\n",
      "19/19 [==============================] - ETA: 0s - loss: 0.6459 - accuracy: 0.5983\n",
      "Epoch 30: val_loss improved from 0.65239 to 0.62474, saving model to /results/vgg19_imagenet.hdf5\n",
      "19/19 [==============================] - 19s 1s/step - loss: 0.6459 - accuracy: 0.5983 - val_loss: 0.6247 - val_accuracy: 0.6489 - lr: 1.0000e-04\n",
      "Epoch 31/50\n",
      "19/19 [==============================] - ETA: 0s - loss: 0.6000 - accuracy: 0.6928\n",
      "Epoch 31: val_loss improved from 0.62474 to 0.61733, saving model to /results/vgg19_imagenet.hdf5\n",
      "19/19 [==============================] - 18s 970ms/step - loss: 0.6000 - accuracy: 0.6928 - val_loss: 0.6173 - val_accuracy: 0.6870 - lr: 1.0000e-04\n",
      "Epoch 32/50\n",
      "19/19 [==============================] - ETA: 0s - loss: 0.5298 - accuracy: 0.7549\n",
      "Epoch 32: val_loss improved from 0.61733 to 0.60882, saving model to /results/vgg19_imagenet.hdf5\n",
      "19/19 [==============================] - 19s 1s/step - loss: 0.5298 - accuracy: 0.7549 - val_loss: 0.6088 - val_accuracy: 0.7023 - lr: 1.0000e-04\n",
      "Epoch 33/50\n",
      "19/19 [==============================] - ETA: 0s - loss: 0.4778 - accuracy: 0.7915\n",
      "Epoch 33: val_loss improved from 0.60882 to 0.57610, saving model to /results/vgg19_imagenet.hdf5\n",
      "19/19 [==============================] - 19s 999ms/step - loss: 0.4778 - accuracy: 0.7915 - val_loss: 0.5761 - val_accuracy: 0.6870 - lr: 1.0000e-04\n",
      "Epoch 34/50\n",
      "19/19 [==============================] - ETA: 0s - loss: 0.4691 - accuracy: 0.7855\n",
      "Epoch 34: val_loss improved from 0.57610 to 0.56660, saving model to /results/vgg19_imagenet.hdf5\n",
      "19/19 [==============================] - 19s 998ms/step - loss: 0.4691 - accuracy: 0.7855 - val_loss: 0.5666 - val_accuracy: 0.7023 - lr: 1.0000e-04\n",
      "Epoch 35/50\n",
      "19/19 [==============================] - ETA: 0s - loss: 0.4591 - accuracy: 0.7821\n",
      "Epoch 35: val_loss improved from 0.56660 to 0.52577, saving model to /results/vgg19_imagenet.hdf5\n",
      "19/19 [==============================] - 18s 964ms/step - loss: 0.4591 - accuracy: 0.7821 - val_loss: 0.5258 - val_accuracy: 0.7328 - lr: 1.0000e-04\n",
      "Epoch 36/50\n",
      "19/19 [==============================] - ETA: 0s - loss: 0.4405 - accuracy: 0.8170\n",
      "Epoch 36: val_loss did not improve from 0.52577\n",
      "19/19 [==============================] - 18s 955ms/step - loss: 0.4405 - accuracy: 0.8170 - val_loss: 0.5473 - val_accuracy: 0.7557 - lr: 1.0000e-04\n",
      "Epoch 37/50\n",
      "19/19 [==============================] - ETA: 0s - loss: 0.4203 - accuracy: 0.8247\n",
      "Epoch 37: val_loss did not improve from 0.52577\n",
      "19/19 [==============================] - 17s 920ms/step - loss: 0.4203 - accuracy: 0.8247 - val_loss: 0.5312 - val_accuracy: 0.7786 - lr: 1.0000e-04\n",
      "Epoch 38/50\n",
      "19/19 [==============================] - ETA: 0s - loss: 0.4051 - accuracy: 0.8264\n",
      "Epoch 38: val_loss improved from 0.52577 to 0.46763, saving model to /results/vgg19_imagenet.hdf5\n",
      "19/19 [==============================] - 18s 962ms/step - loss: 0.4051 - accuracy: 0.8264 - val_loss: 0.4676 - val_accuracy: 0.8092 - lr: 1.0000e-04\n",
      "Epoch 39/50\n",
      "19/19 [==============================] - ETA: 0s - loss: 0.3850 - accuracy: 0.8451\n",
      "Epoch 39: val_loss did not improve from 0.46763\n",
      "19/19 [==============================] - 18s 957ms/step - loss: 0.3850 - accuracy: 0.8451 - val_loss: 0.4927 - val_accuracy: 0.8015 - lr: 1.0000e-04\n",
      "Epoch 40/50\n",
      "19/19 [==============================] - ETA: 0s - loss: 0.4265 - accuracy: 0.8136\n",
      "Epoch 40: val_loss did not improve from 0.46763\n",
      "19/19 [==============================] - 18s 955ms/step - loss: 0.4265 - accuracy: 0.8136 - val_loss: 0.5289 - val_accuracy: 0.8244 - lr: 1.0000e-04\n",
      "Epoch 41/50\n",
      "19/19 [==============================] - ETA: 0s - loss: 0.4199 - accuracy: 0.8153\n",
      "Epoch 41: val_loss improved from 0.46763 to 0.44911, saving model to /results/vgg19_imagenet.hdf5\n",
      "19/19 [==============================] - 19s 995ms/step - loss: 0.4199 - accuracy: 0.8153 - val_loss: 0.4491 - val_accuracy: 0.8092 - lr: 1.0000e-04\n",
      "Epoch 42/50\n",
      "19/19 [==============================] - ETA: 0s - loss: 0.3736 - accuracy: 0.8400\n",
      "Epoch 42: val_loss improved from 0.44911 to 0.44610, saving model to /results/vgg19_imagenet.hdf5\n",
      "19/19 [==============================] - 18s 965ms/step - loss: 0.3736 - accuracy: 0.8400 - val_loss: 0.4461 - val_accuracy: 0.8092 - lr: 1.0000e-04\n",
      "Epoch 43/50\n",
      "19/19 [==============================] - ETA: 0s - loss: 0.3535 - accuracy: 0.8553\n",
      "Epoch 43: val_loss improved from 0.44610 to 0.38290, saving model to /results/vgg19_imagenet.hdf5\n",
      "19/19 [==============================] - 19s 1s/step - loss: 0.3535 - accuracy: 0.8553 - val_loss: 0.3829 - val_accuracy: 0.8092 - lr: 1.0000e-04\n",
      "Epoch 44/50\n",
      "19/19 [==============================] - ETA: 0s - loss: 0.3306 - accuracy: 0.8681\n",
      "Epoch 44: val_loss did not improve from 0.38290\n",
      "19/19 [==============================] - 18s 957ms/step - loss: 0.3306 - accuracy: 0.8681 - val_loss: 0.5101 - val_accuracy: 0.8168 - lr: 1.0000e-04\n",
      "Epoch 45/50\n",
      "19/19 [==============================] - ETA: 0s - loss: 0.3344 - accuracy: 0.8553\n",
      "Epoch 45: val_loss improved from 0.38290 to 0.33193, saving model to /results/vgg19_imagenet.hdf5\n",
      "19/19 [==============================] - 18s 975ms/step - loss: 0.3344 - accuracy: 0.8553 - val_loss: 0.3319 - val_accuracy: 0.8779 - lr: 1.0000e-04\n",
      "Epoch 46/50\n",
      "19/19 [==============================] - ETA: 0s - loss: 0.2980 - accuracy: 0.8723\n",
      "Epoch 46: val_loss did not improve from 0.33193\n",
      "19/19 [==============================] - 18s 922ms/step - loss: 0.2980 - accuracy: 0.8723 - val_loss: 0.3654 - val_accuracy: 0.8397 - lr: 1.0000e-04\n",
      "Epoch 47/50\n",
      "19/19 [==============================] - ETA: 0s - loss: 0.3338 - accuracy: 0.8613\n",
      "Epoch 47: val_loss did not improve from 0.33193\n",
      "19/19 [==============================] - 18s 922ms/step - loss: 0.3338 - accuracy: 0.8613 - val_loss: 0.4311 - val_accuracy: 0.8550 - lr: 1.0000e-04\n",
      "Epoch 48/50\n",
      "19/19 [==============================] - ETA: 0s - loss: 0.2862 - accuracy: 0.8834\n",
      "Epoch 48: val_loss improved from 0.33193 to 0.29500, saving model to /results/vgg19_imagenet.hdf5\n",
      "19/19 [==============================] - 19s 995ms/step - loss: 0.2862 - accuracy: 0.8834 - val_loss: 0.2950 - val_accuracy: 0.9008 - lr: 1.0000e-04\n",
      "Epoch 49/50\n",
      "19/19 [==============================] - ETA: 0s - loss: 0.2792 - accuracy: 0.8902\n",
      "Epoch 49: val_loss improved from 0.29500 to 0.28903, saving model to /results/vgg19_imagenet.hdf5\n",
      "19/19 [==============================] - 19s 999ms/step - loss: 0.2792 - accuracy: 0.8902 - val_loss: 0.2890 - val_accuracy: 0.9160 - lr: 1.0000e-04\n",
      "Epoch 50/50\n",
      "19/19 [==============================] - ETA: 0s - loss: 0.2736 - accuracy: 0.8868\n",
      "Epoch 50: val_loss did not improve from 0.28903\n",
      "19/19 [==============================] - 18s 956ms/step - loss: 0.2736 - accuracy: 0.8868 - val_loss: 0.4796 - val_accuracy: 0.8550 - lr: 1.0000e-04\n"
     ]
    },
    {
     "data": {
      "image/png": "[encoded data removed]",
      "text/plain": [
       "<Figure size 640x480 with 1 Axes>"
      ]
     },
     "metadata": {},
     "output_type": "display_data"
    },
    {
     "name": "stdout",
     "output_type": "stream",
     "text": [
      "\n",
      "\n"
     ]
    },
    {
     "data": {
      "image/png": "[encoded data removed]",
      "text/plain": [
       "<Figure size 640x480 with 1 Axes>"
      ]
     },
     "metadata": {},
     "output_type": "display_data"
    }
   ],
   "source": [
    "filepath=\"/results/vgg19_imagenet.hdf5\"\n",
    "checkpoint = ModelCheckpoint(filepath, monitor=\"val_loss\", verbose=1, save_best_only=True, mode='min')\n",
    "reduce_lr = ReduceLROnPlateau(monitor='val_loss', factor=0.5, patience=2, min_lr=0.0001, verbose=0)\n",
    "history = model.fit(X_train_list_to_4d, y_train, batch_size=64, epochs=50, validation_split=0.10, verbose=1, callbacks=[checkpoint, reduce_lr])\n",
    "history=history.history\n",
    " \n",
    "plot_metrics(history)"
   ]
  },
  {
   "cell_type": "code",
   "execution_count": 9,
   "metadata": {
    "execution": {
     "iopub.execute_input": "2023-09-20T19:22:16.137474Z",
     "iopub.status.busy": "2023-09-20T19:22:16.134975Z",
     "iopub.status.idle": "2023-09-20T19:22:25.678569Z",
     "shell.execute_reply": "2023-09-20T19:22:25.677567Z",
     "shell.execute_reply.started": "2023-09-20T19:22:16.137436Z"
    }
   },
   "outputs": [
    {
     "name": "stdout",
     "output_type": "stream",
     "text": [
      "Test loss : 0.2802, Test Accuracy: 0.8836\n",
      "\n",
      "\n"
     ]
    }
   ],
   "source": [
    "model = load_model('/results/vgg19_imagenet.hdf5')\n",
    "\n",
    "test_loss, test_acc = model.evaluate(X_test_list_to_4d, y_test, verbose=0)\n",
    "print(f\"Test loss : {test_loss:0.4}, Test Accuracy: {test_acc:0.4}\")\n",
    "\n",
    "print(\"\\n\")"
   ]
  },
  {
   "cell_type": "code",
   "execution_count": 10,
   "metadata": {
    "execution": {
     "iopub.execute_input": "2023-09-20T19:22:25.680864Z",
     "iopub.status.busy": "2023-09-20T19:22:25.679889Z",
     "iopub.status.idle": "2023-09-20T19:22:27.406065Z",
     "shell.execute_reply": "2023-09-20T19:22:27.404975Z",
     "shell.execute_reply.started": "2023-09-20T19:22:25.680830Z"
    }
   },
   "outputs": [],
   "source": [
    "predictions = model.predict(X_test_list_to_4d, verbose=0)\n",
    "predict_classes_find=[]\n",
    "predictions_end=[]\n",
    "for prd_clssv in predictions:\n",
    "    predictions_end.append(max(prd_clssv))\n",
    "    predict_classes_find.append(prd_clssv.argmax())  \n",
    "predict_classes_find=np.array(predict_classes_find)\n",
    "predictions_end=np.array(predictions_end)"
   ]
  },
  {
   "cell_type": "code",
   "execution_count": 11,
   "metadata": {
    "execution": {
     "iopub.execute_input": "2023-09-20T19:22:27.408088Z",
     "iopub.status.busy": "2023-09-20T19:22:27.407713Z",
     "iopub.status.idle": "2023-09-20T19:22:28.678610Z",
     "shell.execute_reply": "2023-09-20T19:22:28.677671Z",
     "shell.execute_reply.started": "2023-09-20T19:22:27.408053Z"
    }
   },
   "outputs": [
    {
     "name": "stdout",
     "output_type": "stream",
     "text": [
      "Accuracy: 0.8836\n",
      "Precision: 0.8684\n",
      "Recall: 0.9041\n",
      "F1 score: 0.8859\n",
      "Cohens kappa: 0.7671\n",
      "ROC AUC: 0.8836\n",
      "\n",
      "\n"
     ]
    },
    {
     "data": {
      "image/png": "[encoded data removed]",
      "text/plain": [
       "<Figure size 640x480 with 2 Axes>"
      ]
     },
     "metadata": {},
     "output_type": "display_data"
    },
    {
     "name": "stdout",
     "output_type": "stream",
     "text": [
      "\n",
      "\n",
      "\n",
      "\n",
      "Report : \n",
      "              precision    recall  f1-score   support\n",
      "\n",
      "     No Fire       0.90      0.86      0.88        73\n",
      "        Fire       0.87      0.90      0.89        73\n",
      "\n",
      "    accuracy                           0.88       146\n",
      "   macro avg       0.88      0.88      0.88       146\n",
      "weighted avg       0.88      0.88      0.88       146\n",
      "\n",
      "\n",
      "\n",
      "MSE: 0.1164\n",
      "RMSE: 0.3412\n",
      "\n",
      "\n"
     ]
    },
    {
     "data": {
      "image/png": "[encoded data removed]",
      "text/plain": [
       "<Figure size 640x480 with 1 Axes>"
      ]
     },
     "metadata": {},
     "output_type": "display_data"
    },
    {
     "name": "stdout",
     "output_type": "stream",
     "text": [
      "\n",
      "\n"
     ]
    }
   ],
   "source": [
    "statistc_analysis(actual, predict_classes_find)"
   ]
  },
  {
   "cell_type": "code",
   "execution_count": 14,
   "metadata": {
    "execution": {
     "iopub.execute_input": "2023-09-20T19:23:59.284254Z",
     "iopub.status.busy": "2023-09-20T19:23:59.283228Z",
     "iopub.status.idle": "2023-09-20T19:23:59.796983Z",
     "shell.execute_reply": "2023-09-20T19:23:59.795921Z",
     "shell.execute_reply.started": "2023-09-20T19:23:59.284219Z"
    }
   },
   "outputs": [],
   "source": [
    "pred_fire_image_split_carry(X_test, predict_classes_find, predictions_end)"
   ]
  },
  {
   "cell_type": "code",
   "execution_count": 15,
   "metadata": {
    "execution": {
     "iopub.execute_input": "2023-09-20T19:24:32.930457Z",
     "iopub.status.busy": "2023-09-20T19:24:32.930057Z",
     "iopub.status.idle": "2023-09-20T19:24:32.942060Z",
     "shell.execute_reply": "2023-09-20T19:24:32.941145Z",
     "shell.execute_reply.started": "2023-09-20T19:24:32.930426Z"
    }
   },
   "outputs": [
    {
     "name": "stdout",
     "output_type": "stream",
     "text": [
      "****************************** overall statistics start ******************************\n",
      "Predict  0        1        \n",
      "Actual\n",
      "0        63       10       \n",
      "\n",
      "1        7        66       \n",
      "\n",
      "\n",
      "\n",
      "\n",
      "\n",
      "Overall Statistics : \n",
      "\n",
      "95% CI                                                            (0.83153,0.93559)\n",
      "ACC Macro                                                         0.88356\n",
      "ARI                                                               0.58563\n",
      "AUNP                                                              0.88356\n",
      "AUNU                                                              0.88356\n",
      "Bangdiwala B                                                      0.7811\n",
      "Bennett S                                                         0.76712\n",
      "CBA                                                               0.86572\n",
      "CSI                                                               0.76777\n",
      "Chi-Squared                                                       86.06316\n",
      "Chi-Squared DF                                                    1\n",
      "Conditional Entropy                                               0.51606\n",
      "Cramer V                                                          0.76777\n",
      "Cross Entropy                                                     1.00122\n",
      "F1 Macro                                                          0.88351\n",
      "F1 Micro                                                          0.88356\n",
      "FNR Macro                                                         0.11644\n",
      "FNR Micro                                                         0.11644\n",
      "FPR Macro                                                         0.11644\n",
      "FPR Micro                                                         0.11644\n",
      "Gwet AC1                                                          0.76722\n",
      "Hamming Loss                                                      0.11644\n",
      "Joint Entropy                                                     1.51606\n",
      "KL Divergence                                                     0.00122\n",
      "Kappa                                                             0.76712\n",
      "Kappa 95% CI                                                      (0.66307,0.87118)\n",
      "Kappa No Prevalence                                               0.76712\n",
      "Kappa Standard Error                                              0.05309\n",
      "Kappa Unbiased                                                    0.76702\n",
      "Krippendorff Alpha                                                0.76782\n",
      "Lambda A                                                          0.76712\n",
      "Lambda B                                                          0.75714\n",
      "Mutual Information                                                0.48272\n",
      "NIR                                                               0.5\n",
      "NPV Macro                                                         0.88421\n",
      "NPV Micro                                                         0.88356\n",
      "Overall ACC                                                       0.88356\n",
      "Overall CEN                                                       0.47501\n",
      "Overall J                                                         (1.58268,0.79134)\n",
      "Overall MCC                                                       0.76777\n",
      "Overall MCEN                                                      0.37708\n",
      "Overall RACC                                                      0.5\n",
      "Overall RACCU                                                     0.50021\n",
      "P-Value                                                           0.0\n",
      "PPV Macro                                                         0.88421\n",
      "PPV Micro                                                         0.88356\n",
      "Pearson C                                                         0.60898\n",
      "Phi-Squared                                                       0.58947\n",
      "RCI                                                               0.48272\n",
      "RR                                                                73.0\n",
      "Reference Entropy                                                 1.0\n",
      "Response Entropy                                                  0.99878\n",
      "SOA1(Landis & Koch)                                               Substantial\n",
      "SOA2(Fleiss)                                                      Excellent\n",
      "SOA3(Altman)                                                      Good\n",
      "SOA4(Cicchetti)                                                   Excellent\n",
      "SOA5(Cramer)                                                      Strong\n",
      "SOA6(Matthews)                                                    Strong\n",
      "SOA7(Lambda A)                                                    Strong\n",
      "SOA8(Lambda B)                                                    Strong\n",
      "SOA9(Krippendorff Alpha)                                          Tentative\n",
      "SOA10(Pearson C)                                                  Strong\n",
      "Scott PI                                                          0.76702\n",
      "Standard Error                                                    0.02655\n",
      "TNR Macro                                                         0.88356\n",
      "TNR Micro                                                         0.88356\n",
      "TPR Macro                                                         0.88356\n",
      "TPR Micro                                                         0.88356\n",
      "Zero-one Loss                                                     17\n",
      "\n",
      "Class Statistics :\n",
      "\n",
      "Classes                                                           0             1             \n",
      "ACC(Accuracy)                                                     0.88356       0.88356       \n",
      "AGF(Adjusted F-score)                                             0.87274       0.89454       \n",
      "AGM(Adjusted geometric mean)                                      0.89025       0.87655       \n",
      "AM(Difference between automatic and manual classification)        -3            3             \n",
      "AUC(Area under the ROC curve)                                     0.88356       0.88356       \n",
      "AUCI(AUC value interpretation)                                    Very Good     Very Good     \n",
      "AUPR(Area under the PR curve)                                     0.88151       0.88627       \n",
      "BB(Braun-Blanquet similarity)                                     0.86301       0.86842       \n",
      "BCD(Bray-Curtis dissimilarity)                                    0.01027       0.01027       \n",
      "BM(Informedness or bookmaker informedness)                        0.76712       0.76712       \n",
      "CEN(Confusion entropy)                                            0.48145       0.46883       \n",
      "DOR(Diagnostic odds ratio)                                        59.4          59.4          \n",
      "DP(Discriminant power)                                            0.97794       0.97794       \n",
      "DPI(Discriminant power interpretation)                            Poor          Poor          \n",
      "ERR(Error rate)                                                   0.11644       0.11644       \n",
      "F0.5(F0.5 score)                                                  0.89235       0.87533       \n",
      "F1(F1 score - harmonic mean of precision and sensitivity)         0.88112       0.88591       \n",
      "F2(F2 score)                                                      0.87017       0.89674       \n",
      "FDR(False discovery rate)                                         0.1           0.13158       \n",
      "FN(False negative/miss/type 2 error)                              10            7             \n",
      "FNR(Miss rate or false negative rate)                             0.13699       0.09589       \n",
      "FOR(False omission rate)                                          0.13158       0.1           \n",
      "FP(False positive/type 1 error/false alarm)                       7             10            \n",
      "FPR(Fall-out or false positive rate)                              0.09589       0.13699       \n",
      "G(G-measure geometric mean of precision and sensitivity)          0.88131       0.88609       \n",
      "GI(Gini index)                                                    0.76712       0.76712       \n",
      "GM(G-mean geometric mean of specificity and sensitivity)          0.88332       0.88332       \n",
      "HD(Hamming distance)                                              17            17            \n",
      "IBA(Index of balanced accuracy)                                   0.74819       0.81232       \n",
      "ICSI(Individual classification success index)                     0.76301       0.77253       \n",
      "IS(Information score)                                             0.848         0.79647       \n",
      "J(Jaccard index)                                                  0.7875        0.79518       \n",
      "LS(Lift score)                                                    1.8           1.73684       \n",
      "MCC(Matthews correlation coefficient)                             0.76777       0.76777       \n",
      "MCCI(Matthews correlation coefficient interpretation)             Strong        Strong        \n",
      "MCEN(Modified confusion entropy)                                  0.68253       0.66873       \n",
      "MK(Markedness)                                                    0.76842       0.76842       \n",
      "N(Condition negative)                                             73            73            \n",
      "NLR(Negative likelihood ratio)                                    0.15152       0.11111       \n",
      "NLRI(Negative likelihood ratio interpretation)                    Fair          Fair          \n",
      "NPV(Negative predictive value)                                    0.86842       0.9           \n",
      "OC(Overlap coefficient)                                           0.9           0.90411       \n",
      "OOC(Otsuka-Ochiai coefficient)                                    0.88131       0.88609       \n",
      "OP(Optimized precision)                                           0.86031       0.86031       \n",
      "P(Condition positive or support)                                  73            73            \n",
      "PLR(Positive likelihood ratio)                                    9.0           6.6           \n",
      "PLRI(Positive likelihood ratio interpretation)                    Fair          Fair          \n",
      "POP(Population)                                                   146           146           \n",
      "PPV(Precision or positive predictive value)                       0.9           0.86842       \n",
      "PRE(Prevalence)                                                   0.5           0.5           \n",
      "Q(Yule Q - coefficient of colligation)                            0.96689       0.96689       \n",
      "QI(Yule Q interpretation)                                         Strong        Strong        \n",
      "RACC(Random accuracy)                                             0.23973       0.26027       \n",
      "RACCU(Random accuracy unbiased)                                   0.23983       0.26038       \n",
      "TN(True negative/correct rejection)                               66            63            \n",
      "TNR(Specificity or true negative rate)                            0.90411       0.86301       \n",
      "TON(Test outcome negative)                                        76            70            \n",
      "TOP(Test outcome positive)                                        70            76            \n",
      "TP(True positive/hit)                                             63            66            \n",
      "TPR(Sensitivity, recall, hit rate, or true positive rate)         0.86301       0.90411       \n",
      "Y(Youden index)                                                   0.76712       0.76712       \n",
      "dInd(Distance index)                                              0.16721       0.16721       \n",
      "sInd(Similarity index)                                            0.88176       0.88176       \n",
      "\n",
      "****************************** overall statistics end ******************************\n"
     ]
    }
   ],
   "source": [
    "print(\"*\"*30,\"overall statistics start\",\"*\"*30)\n",
    "overall_statistics(actual, predict_classes_find)\n",
    "print(\"*\"*30,\"overall statistics end\",\"*\"*30)"
   ]
  },
  {
   "cell_type": "code",
   "execution_count": null,
   "metadata": {},
   "outputs": [],
   "source": []
  },
  {
   "cell_type": "code",
   "execution_count": null,
   "metadata": {},
   "outputs": [],
   "source": []
  },
  {
   "cell_type": "code",
   "execution_count": null,
   "metadata": {},
   "outputs": [],
   "source": []
  },
  {
   "cell_type": "markdown",
   "metadata": {},
   "source": []
  },
  {
   "cell_type": "code",
   "execution_count": null,
   "metadata": {},
   "outputs": [],
   "source": []
  },
  {
   "cell_type": "code",
   "execution_count": null,
   "metadata": {},
   "outputs": [],
   "source": []
  },
  {
   "cell_type": "code",
   "execution_count": null,
   "metadata": {},
   "outputs": [],
   "source": []
  },
  {
   "cell_type": "code",
   "execution_count": null,
   "metadata": {},
   "outputs": [],
   "source": []
  },
  {
   "cell_type": "code",
   "execution_count": null,
   "metadata": {},
   "outputs": [],
   "source": []
  },
  {
   "cell_type": "code",
   "execution_count": null,
   "metadata": {},
   "outputs": [],
   "source": []
  },
  {
   "cell_type": "code",
   "execution_count": null,
   "metadata": {},
   "outputs": [],
   "source": []
  },
  {
   "cell_type": "code",
   "execution_count": null,
   "metadata": {},
   "outputs": [],
   "source": []
  },
  {
   "cell_type": "code",
   "execution_count": null,
   "metadata": {},
   "outputs": [],
   "source": []
  },
  {
   "cell_type": "code",
   "execution_count": null,
   "metadata": {},
   "outputs": [],
   "source": []
  },
  {
   "cell_type": "code",
   "execution_count": null,
   "metadata": {},
   "outputs": [],
   "source": []
  },
  {
   "cell_type": "code",
   "execution_count": null,
   "metadata": {},
   "outputs": [],
   "source": []
  },
  {
   "cell_type": "code",
   "execution_count": null,
   "metadata": {},
   "outputs": [],
   "source": []
  },
  {
   "cell_type": "code",
   "execution_count": null,
   "metadata": {},
   "outputs": [],
   "source": []
  },
  {
   "cell_type": "code",
   "execution_count": null,
   "metadata": {},
   "outputs": [],
   "source": []
  },
  {
   "cell_type": "code",
   "execution_count": null,
   "metadata": {},
   "outputs": [],
   "source": []
  },
  {
   "cell_type": "code",
   "execution_count": null,
   "metadata": {},
   "outputs": [],
   "source": []
  },
  {
   "cell_type": "code",
   "execution_count": null,
   "metadata": {},
   "outputs": [],
   "source": []
  },
  {
   "cell_type": "code",
   "execution_count": null,
   "metadata": {},
   "outputs": [],
   "source": []
  },
  {
   "cell_type": "code",
   "execution_count": null,
   "metadata": {},
   "outputs": [],
   "source": []
  }
 ],
 "metadata": {
  "kernelspec": {
   "display_name": "Python 3 (ipykernel)",
   "language": "python",
   "name": "python3"
  },
  "language_info": {
   "codemirror_mode": {
    "name": "ipython",
    "version": 3
   },
   "file_extension": ".py",
   "mimetype": "text/x-python",
   "name": "python",
   "nbconvert_exporter": "python",
   "pygments_lexer": "ipython3",
   "version": "3.11.4"
  },
  "varInspector": {
   "cols": {
    "lenName": 16,
    "lenType": 16,
    "lenVar": 40
   },
   "kernels_config": {
    "python": {
     "delete_cmd_postfix": "",
     "delete_cmd_prefix": "del ",
     "library": "var_list.py",
     "varRefreshCmd": "print(var_dic_list())"
    },
    "r": {
     "delete_cmd_postfix": ") ",
     "delete_cmd_prefix": "rm(",
     "library": "var_list.r",
     "varRefreshCmd": "cat(var_dic_list()) "
    }
   },
   "types_to_exclude": [
    "module",
    "function",
    "builtin_function_or_method",
    "instance",
    "_Feature"
   ],
   "window_display": false
  }
 },
 "nbformat": 4,
 "nbformat_minor": 4
}
