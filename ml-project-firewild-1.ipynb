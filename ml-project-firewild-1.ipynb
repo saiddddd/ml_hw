{
 "cells": [
  {
   "cell_type": "code",
   "execution_count": 2,
   "metadata": {
    "_cell_guid": "b1076dfc-b9ad-4769-8c92-a6c4dae69d19",
    "_uuid": "8f2839f25d086af736a60e9eeb907d3b93b6e0e5",
    "execution": {
     "iopub.execute_input": "2023-09-20T10:15:48.581588Z",
     "iopub.status.busy": "2023-09-20T10:15:48.581074Z",
     "iopub.status.idle": "2023-09-20T10:15:48.588846Z",
     "shell.execute_reply": "2023-09-20T10:15:48.587265Z",
     "shell.execute_reply.started": "2023-09-20T10:15:48.581549Z"
    }
   },
   "outputs": [],
   "source": [
    "# # This Python 3 environment comes with many helpful analytics libraries installed\n",
    "# # It is defined by the kaggle/python Docker image: https://github.com/kaggle/docker-python\n",
    "# # For example, here's several helpful packages to load\n",
    "\n",
    "# import numpy as np # linear algebra\n",
    "# import pandas as pd # data processing, CSV file I/O (e.g. pd.read_csv)\n",
    "\n",
    "# # Input data files are available in the read-only \"../input/\" directory\n",
    "# # For example, running this (by clicking run or pressing Shift+Enter) will list all files under the input directory\n",
    "\n",
    "# import os\n",
    "# for dirname, _, filenames in os.walk('/kaggle/input'):\n",
    "#     for filename in filenames:\n",
    "#         print(os.path.join(dirname, filename))\n",
    "\n",
    "# # You can write up to 20GB to the current directory (/kaggle/working/) that gets preserved as output when you create a version using \"Save & Run All\" \n",
    "# # You can also write temporary files to /kaggle/temp/, but they won't be saved outside of the current session"
   ]
  },
  {
   "cell_type": "markdown",
   "metadata": {},
   "source": [
    "# RANDOM FOREST"
   ]
  },
  {
   "cell_type": "code",
   "execution_count": 3,
   "metadata": {
    "execution": {
     "iopub.execute_input": "2023-09-20T10:15:48.592534Z",
     "iopub.status.busy": "2023-09-20T10:15:48.591734Z",
     "iopub.status.idle": "2023-09-20T10:15:50.231681Z",
     "shell.execute_reply": "2023-09-20T10:15:50.229897Z",
     "shell.execute_reply.started": "2023-09-20T10:15:48.592489Z"
    }
   },
   "outputs": [],
   "source": [
    "from sklearn.metrics import classification_report,accuracy_score,precision_score,recall_score,f1_score,cohen_kappa_score,roc_auc_score,confusion_matrix,mean_squared_error,roc_curve\n",
    "from sklearn.model_selection import train_test_split\n",
    "from os import listdir\n",
    "from math import sqrt\n",
    "from collections import Counter\n",
    "from sklearn.ensemble import RandomForestClassifier\n",
    "\n",
    "import matplotlib.pyplot as plt\n",
    "import numpy as np\n",
    "import cv2\n",
    "import time\n",
    "import itertools\n",
    "import os\n",
    "\n",
    "\n",
    "from sklearn.ensemble import RandomForestClassifier\n",
    "from sklearn.model_selection import RandomizedSearchCV"
   ]
  },
  {
   "cell_type": "code",
   "execution_count": 4,
   "metadata": {
    "execution": {
     "iopub.execute_input": "2023-09-20T10:15:50.236938Z",
     "iopub.status.busy": "2023-09-20T10:15:50.235464Z",
     "iopub.status.idle": "2023-09-20T10:15:50.248864Z",
     "shell.execute_reply": "2023-09-20T10:15:50.247376Z",
     "shell.execute_reply.started": "2023-09-20T10:15:50.236873Z"
    }
   },
   "outputs": [],
   "source": [
    "def load_data(dir_list, image_size):\n",
    "    X = []\n",
    "    y = []\n",
    "    image_width, image_height = image_size\n",
    "    for directory in dir_list:\n",
    "        for filename in listdir(directory):\n",
    "            image = cv2.imread(directory + '/' + filename)                        \n",
    "            image = cv2.resize(image, dsize=(image_width, image_height), interpolation=cv2.INTER_CUBIC)\n",
    "            image = image / 255            \n",
    "            X.append(image.flatten())\n",
    "            y.append(([0], [1])[directory[-4:] == 'fire'])  \n",
    "    X = np.array(X)\n",
    "    y = np.array(y)\n",
    "    y = y.ravel()\n",
    "    y = np.array(y).astype(int)\n",
    "\n",
    "    print(Counter(y))\n",
    "\n",
    "    return X, y"
   ]
  },
  {
   "cell_type": "code",
   "execution_count": 5,
   "metadata": {
    "execution": {
     "iopub.execute_input": "2023-09-20T10:15:50.253077Z",
     "iopub.status.busy": "2023-09-20T10:15:50.250840Z",
     "iopub.status.idle": "2023-09-20T10:15:50.269395Z",
     "shell.execute_reply": "2023-09-20T10:15:50.267407Z",
     "shell.execute_reply.started": "2023-09-20T10:15:50.253009Z"
    }
   },
   "outputs": [],
   "source": [
    "def plot_confusion_matrix(cm, classes, normalize=False, title='Confusion matrix', cmap=plt.cm.Blues):\n",
    "    if normalize:\n",
    "        cm = cm.astype('float') / cm.sum(axis=1)[:, np.newaxis]\n",
    "        print(\"Normalized confusion matrix\")\n",
    "    else:\n",
    "        print('Confusion matrix, without normalization')\n",
    "    print(cm)\n",
    "    plt.imshow(cm, interpolation='nearest', cmap=cmap)\n",
    "    plt.title(title)\n",
    "    plt.colorbar()\n",
    "    tick_marks = np.arange(len(classes))\n",
    "    plt.xticks(tick_marks, classes)\n",
    "    #plt.xticks(tick_marks, classes)\n",
    "    plt.yticks(tick_marks, classes)\n",
    "    fmt = '.2f' if normalize else 'd'\n",
    "    thresh = cm.max() / 2.\n",
    "    for i, j in itertools.product(range(cm.shape[0]), range(cm.shape[1])):\n",
    "        plt.text(j, i, format(cm[i, j], fmt),\n",
    "                 horizontalalignment=\"center\",\n",
    "                 color=\"white\" if cm[i, j] > thresh else \"black\")\n",
    "    plt.tight_layout()\n",
    "    plt.ylabel('True label',labelpad = 5)\n",
    "    plt.xlabel('Predicted label', labelpad = 15)\n",
    "    plt.savefig(\"rf_wild_result/rf_plt_cm_300dpi.svg\", dpi=300, bbox_inches='tight')\n",
    "    plt.show()"
   ]
  },
  {
   "cell_type": "code",
   "execution_count": 6,
   "metadata": {
    "execution": {
     "iopub.execute_input": "2023-09-20T10:15:50.275249Z",
     "iopub.status.busy": "2023-09-20T10:15:50.274200Z",
     "iopub.status.idle": "2023-09-20T10:15:50.293384Z",
     "shell.execute_reply": "2023-09-20T10:15:50.291576Z",
     "shell.execute_reply.started": "2023-09-20T10:15:50.275184Z"
    }
   },
   "outputs": [],
   "source": [
    "def statistc_analysis(actual,predict_classes_find):\n",
    "    \n",
    "    np.savetxt('rf_wild_result/rf_model_pred.csv', predict_classes_find, fmt=\"%d\", delimiter=\",\")\n",
    "    np.savetxt('rf_wild_result/rf_model_actual_test.csv', actual, fmt=\"%d\", delimiter=\",\")    \n",
    "    \n",
    "    accuracy = accuracy_score(actual, predict_classes_find)\n",
    "    print('Accuracy: %0.4f' % accuracy)\n",
    "    \n",
    "    precision = precision_score(actual, predict_classes_find)\n",
    "    print('Precision: %0.4f' % precision)\n",
    "    \n",
    "    recall = recall_score(actual, predict_classes_find)\n",
    "    print('Recall: %0.4f' % recall)\n",
    "    \n",
    "    f1 = f1_score(actual, predict_classes_find)\n",
    "    print('F1 score: %0.4f' % f1)\n",
    "    \n",
    "    kappa = cohen_kappa_score(actual, predict_classes_find)\n",
    "    print('Cohens kappa: %0.4f' % kappa)\n",
    "    \n",
    "    roc_auc_threshold = roc_auc_score(actual, predict_classes_find)\n",
    "    print('ROC AUC: %0.4f' % roc_auc_threshold)\n",
    "    print(\"\\n\")\n",
    "    \n",
    "    plt.figure()\n",
    "    cnf_matrix = confusion_matrix(actual, predict_classes_find, labels=[0,1])\n",
    "    plot_confusion_matrix(cnf_matrix, classes=['No Fire', 'Fire'], normalize= False,  title='Confusion matrix')\n",
    "    print(\"\\n\")\n",
    "        \n",
    "    print(\"\\n\")\n",
    "    print ('Report : ')\n",
    "    target_names = ['No Fire', 'Fire']\n",
    "    print (classification_report(actual, predict_classes_find,target_names=target_names, digits=2))\n",
    "    print(\"\\n\")\n",
    "    \n",
    "    mse = mean_squared_error(actual, predict_classes_find)\n",
    "    print('MSE: %0.4f' % mse)\n",
    "    \n",
    "    rmse = sqrt(mse)\n",
    "    print('RMSE: %0.4f' % rmse)\n",
    "    print(\"\\n\")"
   ]
  },
  {
   "cell_type": "code",
   "execution_count": 7,
   "metadata": {
    "execution": {
     "iopub.execute_input": "2023-09-20T10:15:50.296301Z",
     "iopub.status.busy": "2023-09-20T10:15:50.295685Z",
     "iopub.status.idle": "2023-09-20T10:15:50.313853Z",
     "shell.execute_reply": "2023-09-20T10:15:50.312098Z",
     "shell.execute_reply.started": "2023-09-20T10:15:50.296246Z"
    }
   },
   "outputs": [],
   "source": [
    "def create_folder(directory):\n",
    "    try:\n",
    "        if not os.path.exists(directory):\n",
    "            os.makedirs(directory)\n",
    "    except OSError:\n",
    "        print ('Error: Creating directory. ' +  directory)"
   ]
  },
  {
   "cell_type": "code",
   "execution_count": 8,
   "metadata": {
    "execution": {
     "iopub.execute_input": "2023-09-20T10:15:50.317638Z",
     "iopub.status.busy": "2023-09-20T10:15:50.316425Z",
     "iopub.status.idle": "2023-09-20T10:15:50.324883Z",
     "shell.execute_reply": "2023-09-20T10:15:50.323560Z",
     "shell.execute_reply.started": "2023-09-20T10:15:50.317594Z"
    }
   },
   "outputs": [],
   "source": [
    "create_folder('rf_wild_result/')"
   ]
  },
  {
   "cell_type": "code",
   "execution_count": 9,
   "metadata": {
    "execution": {
     "iopub.execute_input": "2023-09-20T10:15:50.328211Z",
     "iopub.status.busy": "2023-09-20T10:15:50.327322Z",
     "iopub.status.idle": "2023-09-20T10:16:02.675470Z",
     "shell.execute_reply": "2023-09-20T10:16:02.670207Z",
     "shell.execute_reply.started": "2023-09-20T10:15:50.328158Z"
    }
   },
   "outputs": [
    {
     "ename": "KeyboardInterrupt",
     "evalue": "",
     "output_type": "error",
     "traceback": [
      "\u001b[0;31m---------------------------------------------------------------------------\u001b[0m",
      "\u001b[0;31mKeyboardInterrupt\u001b[0m                         Traceback (most recent call last)",
      "Cell \u001b[0;32mIn[9], line 1\u001b[0m\n\u001b[0;32m----> 1\u001b[0m X, y \u001b[38;5;241m=\u001b[39m \u001b[43mload_data\u001b[49m\u001b[43m(\u001b[49m\u001b[43m[\u001b[49m\u001b[38;5;124;43m\"\u001b[39;49m\u001b[38;5;124;43m/kaggle/input/dataset/wildfires/no_blaze\u001b[39;49m\u001b[38;5;124;43m\"\u001b[39;49m\u001b[43m,\u001b[49m\u001b[43m \u001b[49m\u001b[38;5;124;43m\"\u001b[39;49m\u001b[38;5;124;43m/kaggle/input/dataset/wildfires/fire\u001b[39;49m\u001b[38;5;124;43m\"\u001b[39;49m\u001b[43m]\u001b[49m\u001b[43m,\u001b[49m\u001b[43m \u001b[49m\u001b[43m(\u001b[49m\u001b[38;5;241;43m224\u001b[39;49m\u001b[43m,\u001b[49m\u001b[38;5;241;43m224\u001b[39;49m\u001b[43m)\u001b[49m\u001b[43m)\u001b[49m\n\u001b[1;32m      3\u001b[0m X_train, X_test, y_train, y_test \u001b[38;5;241m=\u001b[39m train_test_split(X, y, test_size\u001b[38;5;241m=\u001b[39m\u001b[38;5;241m0.10\u001b[39m, random_state\u001b[38;5;241m=\u001b[39m\u001b[38;5;241m0\u001b[39m)\n",
      "Cell \u001b[0;32mIn[4], line 7\u001b[0m, in \u001b[0;36mload_data\u001b[0;34m(dir_list, image_size)\u001b[0m\n\u001b[1;32m      5\u001b[0m \u001b[38;5;28;01mfor\u001b[39;00m directory \u001b[38;5;129;01min\u001b[39;00m dir_list:\n\u001b[1;32m      6\u001b[0m     \u001b[38;5;28;01mfor\u001b[39;00m filename \u001b[38;5;129;01min\u001b[39;00m listdir(directory):\n\u001b[0;32m----> 7\u001b[0m         image \u001b[38;5;241m=\u001b[39m \u001b[43mcv2\u001b[49m\u001b[38;5;241;43m.\u001b[39;49m\u001b[43mimread\u001b[49m\u001b[43m(\u001b[49m\u001b[43mdirectory\u001b[49m\u001b[43m \u001b[49m\u001b[38;5;241;43m+\u001b[39;49m\u001b[43m \u001b[49m\u001b[38;5;124;43m'\u001b[39;49m\u001b[38;5;124;43m/\u001b[39;49m\u001b[38;5;124;43m'\u001b[39;49m\u001b[43m \u001b[49m\u001b[38;5;241;43m+\u001b[39;49m\u001b[43m \u001b[49m\u001b[43mfilename\u001b[49m\u001b[43m)\u001b[49m                        \n\u001b[1;32m      8\u001b[0m         image \u001b[38;5;241m=\u001b[39m cv2\u001b[38;5;241m.\u001b[39mresize(image, dsize\u001b[38;5;241m=\u001b[39m(image_width, image_height), interpolation\u001b[38;5;241m=\u001b[39mcv2\u001b[38;5;241m.\u001b[39mINTER_CUBIC)\n\u001b[1;32m      9\u001b[0m         image \u001b[38;5;241m=\u001b[39m image \u001b[38;5;241m/\u001b[39m \u001b[38;5;241m255\u001b[39m            \n",
      "\u001b[0;31mKeyboardInterrupt\u001b[0m: "
     ]
    }
   ],
   "source": [
    "X, y = load_data([\"/kaggle/input/dataset/wildfires/no_blaze\", \"/kaggle/input/dataset/wildfires/fire\"], (224,224))\n",
    "\n",
    "X_train, X_test, y_train, y_test = train_test_split(X, y, test_size=0.10, random_state=0)"
   ]
  },
  {
   "cell_type": "code",
   "execution_count": null,
   "metadata": {
    "execution": {
     "iopub.status.busy": "2023-09-20T10:16:02.676321Z",
     "iopub.status.idle": "2023-09-20T10:16:02.676720Z",
     "shell.execute_reply": "2023-09-20T10:16:02.676536Z",
     "shell.execute_reply.started": "2023-09-20T10:16:02.676518Z"
    }
   },
   "outputs": [],
   "source": [
    "n_estimators = [5,20,50,100,150,200] # number of trees in the random forest\n",
    "criterion = ['gini', 'entropy'] # number of features in consideration at every split\n",
    "max_features = ['auto', 'sqrt', 'log2'] # number of features in consideration at every split\n",
    "max_depth = [int(x) for x in np.linspace(10, 120, num = 12)] # maximum number of levels allowed in each decision tree\n",
    "min_samples_split = [2, 6, 8, 10, 12] # minimum sample number to split a node\n",
    "min_samples_leaf = [1, 3, 5, 7, 10] # minimum sample number that can be stored in a leaf node\n",
    "bootstrap = [True, False] # method used to sample data points"
   ]
  },
  {
   "cell_type": "code",
   "execution_count": null,
   "metadata": {
    "execution": {
     "iopub.status.busy": "2023-09-20T10:16:02.679252Z",
     "iopub.status.idle": "2023-09-20T10:16:02.679762Z",
     "shell.execute_reply": "2023-09-20T10:16:02.679560Z",
     "shell.execute_reply.started": "2023-09-20T10:16:02.679540Z"
    }
   },
   "outputs": [],
   "source": [
    "random_grid = {'n_estimators': n_estimators,\n",
    "\n",
    "'max_features': max_features,\n",
    "\n",
    "'max_depth': max_depth,\n",
    "\n",
    "'min_samples_split': min_samples_split,\n",
    "\n",
    "'criterion': criterion,\n",
    "\n",
    "'min_samples_leaf': min_samples_leaf,\n",
    "\n",
    "'bootstrap': bootstrap}"
   ]
  },
  {
   "cell_type": "code",
   "execution_count": null,
   "metadata": {},
   "outputs": [],
   "source": []
  },
  {
   "cell_type": "code",
   "execution_count": null,
   "metadata": {
    "execution": {
     "iopub.status.busy": "2023-09-20T10:16:02.682634Z",
     "iopub.status.idle": "2023-09-20T10:16:02.683215Z",
     "shell.execute_reply": "2023-09-20T10:16:02.682960Z",
     "shell.execute_reply.started": "2023-09-20T10:16:02.682938Z"
    }
   },
   "outputs": [],
   "source": [
    "rf = RandomForestClassifier()\n",
    "\n",
    "rf_random = RandomizedSearchCV(estimator = rf, param_distributions = random_grid, n_iter = 40, cv = 10, verbose=2, random_state=0, n_jobs = -1)\n",
    "\n",
    "rf_random.fit(X_train, y_train)"
   ]
  },
  {
   "cell_type": "code",
   "execution_count": null,
   "metadata": {
    "execution": {
     "iopub.status.busy": "2023-09-20T10:16:02.685266Z",
     "iopub.status.idle": "2023-09-20T10:16:02.685755Z",
     "shell.execute_reply": "2023-09-20T10:16:02.685555Z",
     "shell.execute_reply.started": "2023-09-20T10:16:02.685534Z"
    }
   },
   "outputs": [],
   "source": [
    "print ('Random grid: ', random_grid, '\\n')\n",
    "# print the best parameters\n",
    "print ('Best Parameters: ', rf_random.best_params_, ' \\n')"
   ]
  },
  {
   "cell_type": "code",
   "execution_count": null,
   "metadata": {
    "execution": {
     "iopub.status.busy": "2023-09-20T10:16:02.687426Z",
     "iopub.status.idle": "2023-09-20T10:16:02.687904Z",
     "shell.execute_reply": "2023-09-20T10:16:02.687707Z",
     "shell.execute_reply.started": "2023-09-20T10:16:02.687687Z"
    }
   },
   "outputs": [],
   "source": [
    "classifier = RandomForestClassifier(n_estimators=150, min_samples_leaf=1, \n",
    "                                    criterion=\"gini\",max_depth=80, min_samples_split=8, \n",
    "                                    bootstrap=False, max_features=\"sqrt\", n_jobs=-1, \n",
    "                                    random_state=0, verbose=1)\n",
    "classifier.fit(X_train, y_train)"
   ]
  },
  {
   "cell_type": "code",
   "execution_count": null,
   "metadata": {
    "execution": {
     "iopub.status.busy": "2023-09-20T10:16:02.690167Z",
     "iopub.status.idle": "2023-09-20T10:16:02.690648Z",
     "shell.execute_reply": "2023-09-20T10:16:02.690450Z",
     "shell.execute_reply.started": "2023-09-20T10:16:02.690430Z"
    }
   },
   "outputs": [],
   "source": [
    "predictions_classes = classifier.predict(X_test)"
   ]
  },
  {
   "cell_type": "code",
   "execution_count": null,
   "metadata": {
    "execution": {
     "iopub.status.busy": "2023-09-20T10:16:02.692669Z",
     "iopub.status.idle": "2023-09-20T10:16:02.693481Z",
     "shell.execute_reply": "2023-09-20T10:16:02.693205Z",
     "shell.execute_reply.started": "2023-09-20T10:16:02.693045Z"
    }
   },
   "outputs": [],
   "source": [
    "statistc_analysis(y_test, predictions_classes)"
   ]
  },
  {
   "cell_type": "markdown",
   "metadata": {},
   "source": [
    "# SUPPORT VECTOR MACHINE"
   ]
  },
  {
   "cell_type": "code",
   "execution_count": null,
   "metadata": {
    "execution": {
     "iopub.status.busy": "2023-09-20T10:16:02.695428Z",
     "iopub.status.idle": "2023-09-20T10:16:02.696398Z",
     "shell.execute_reply": "2023-09-20T10:16:02.696020Z",
     "shell.execute_reply.started": "2023-09-20T10:16:02.695976Z"
    }
   },
   "outputs": [],
   "source": [
    "from sklearn.metrics import classification_report,accuracy_score,precision_score,recall_score,f1_score,cohen_kappa_score,roc_auc_score,confusion_matrix,mean_squared_error,roc_curve\n",
    "from sklearn.model_selection import train_test_split\n",
    "from sklearn import svm\n",
    "from os import listdir\n",
    "from math import sqrt\n",
    "from collections import Counter\n",
    "from sklearn.svm import SVC\n",
    "from sklearn.model_selection import GridSearchCV\n",
    "from sklearn.model_selection import RandomizedSearchCV\n",
    "import matplotlib.pyplot as plt\n",
    "import numpy as np\n",
    "import cv2\n",
    "import time\n",
    "import itertools\n",
    "import os"
   ]
  },
  {
   "cell_type": "code",
   "execution_count": null,
   "metadata": {
    "execution": {
     "iopub.status.busy": "2023-09-20T10:16:02.697742Z",
     "iopub.status.idle": "2023-09-20T10:16:02.699016Z",
     "shell.execute_reply": "2023-09-20T10:16:02.698736Z",
     "shell.execute_reply.started": "2023-09-20T10:16:02.698699Z"
    }
   },
   "outputs": [],
   "source": [
    "def load_data(dir_list, image_size):\n",
    "    X = []\n",
    "    y = []\n",
    "    image_width, image_height = image_size\n",
    "    for directory in dir_list:\n",
    "        for filename in listdir(directory):\n",
    "            image = cv2.imread(directory + '/' + filename)                        \n",
    "            image = cv2.resize(image, dsize=(image_width, image_height), interpolation=cv2.INTER_CUBIC)\n",
    "            image = image / 255            \n",
    "            X.append(image.flatten())\n",
    "            y.append(([0], [1])[directory[-4:] == 'fire'])  \n",
    "    X = np.array(X)\n",
    "    y = np.array(y)\n",
    "    y = y.ravel()\n",
    "    y = np.array(y).astype(int)\n",
    "\n",
    "    print(Counter(y))\n",
    "\n",
    "    return X, y"
   ]
  },
  {
   "cell_type": "code",
   "execution_count": null,
   "metadata": {
    "execution": {
     "iopub.status.busy": "2023-09-20T10:16:02.701251Z",
     "iopub.status.idle": "2023-09-20T10:16:02.702501Z",
     "shell.execute_reply": "2023-09-20T10:16:02.702207Z",
     "shell.execute_reply.started": "2023-09-20T10:16:02.702171Z"
    }
   },
   "outputs": [],
   "source": [
    "def plot_confusion_matrix(cm, classes, normalize=False, title='Confusion matrix', cmap=plt.cm.Blues):\n",
    "    plt.imshow(cm, interpolation='nearest', cmap=cmap)\n",
    "    plt.title(title)\n",
    "    plt.colorbar()\n",
    "    tick_marks = np.arange(len(classes))\n",
    "    plt.xticks(tick_marks, classes)\n",
    "    #plt.xticks(tick_marks, classes)\n",
    "    plt.yticks(tick_marks, classes)\n",
    "    fmt = '.2f' if normalize else 'd'\n",
    "    thresh = cm.max() / 2.\n",
    "    for i, j in itertools.product(range(cm.shape[0]), range(cm.shape[1])):\n",
    "        plt.text(j, i, format(cm[i, j], fmt),\n",
    "                 horizontalalignment=\"center\",\n",
    "                 color=\"white\" if cm[i, j] > thresh else \"black\")\n",
    "    plt.tight_layout()\n",
    "    plt.ylabel('True label',labelpad = 5)\n",
    "    plt.xlabel('Predicted label', labelpad = 15)\n",
    "    plt.savefig(\"svm_wild_result/svm_plt_cm_300dpi.svg\", dpi=300, bbox_inches='tight')\n",
    "    plt.show()"
   ]
  },
  {
   "cell_type": "code",
   "execution_count": null,
   "metadata": {
    "execution": {
     "iopub.status.busy": "2023-09-20T10:16:02.704435Z",
     "iopub.status.idle": "2023-09-20T10:16:02.704937Z",
     "shell.execute_reply": "2023-09-20T10:16:02.704727Z",
     "shell.execute_reply.started": "2023-09-20T10:16:02.704707Z"
    }
   },
   "outputs": [],
   "source": [
    "def statistc_analysis(actual,predict_classes_find):\n",
    "    \n",
    "    np.savetxt('svm_wild_result/svm_model_pred.csv', predict_classes_find, fmt=\"%d\", delimiter=\",\")\n",
    "    np.savetxt('svm_wild_result/svm_model_actual_test.csv', actual, fmt=\"%d\", delimiter=\",\")    \n",
    "    \n",
    "    accuracy = accuracy_score(actual, predict_classes_find)\n",
    "    print('Accuracy: %0.4f' % accuracy)\n",
    "    \n",
    "    precision = precision_score(actual, predict_classes_find)\n",
    "    print('Precision: %0.4f' % precision)\n",
    "    \n",
    "    recall = recall_score(actual, predict_classes_find)\n",
    "    print('Recall: %0.4f' % recall)\n",
    "    \n",
    "    f1 = f1_score(actual, predict_classes_find)\n",
    "    print('F1 score: %0.4f' % f1)\n",
    "    \n",
    "    kappa = cohen_kappa_score(actual, predict_classes_find)\n",
    "    print('Cohens kappa: %0.4f' % kappa)\n",
    "    \n",
    "    roc_auc_threshold = roc_auc_score(actual, predict_classes_find)\n",
    "    print('ROC AUC: %0.4f' % roc_auc_threshold)\n",
    "    print(\"\\n\")\n",
    "    \n",
    "    plt.figure()\n",
    "    cnf_matrix = confusion_matrix(actual, predict_classes_find, labels=[0,1])\n",
    "    plot_confusion_matrix(cnf_matrix, classes=['No Fire', 'Fire'], normalize= False,  title='Confusion matrix')\n",
    "    print(\"\\n\")\n",
    "        \n",
    "    print(\"\\n\")\n",
    "    print ('Report : ')\n",
    "    target_names = ['No Fire', 'Fire']\n",
    "    print (classification_report(actual, predict_classes_find,target_names=target_names, digits=2))\n",
    "    print(\"\\n\")\n",
    "    \n",
    "    mse = mean_squared_error(actual, predict_classes_find)\n",
    "    print('MSE: %0.4f' % mse)\n",
    "    \n",
    "    rmse = sqrt(mse)\n",
    "    print('RMSE: %0.4f' % rmse)\n",
    "    print(\"\\n\")"
   ]
  },
  {
   "cell_type": "code",
   "execution_count": null,
   "metadata": {
    "execution": {
     "iopub.status.busy": "2023-09-20T10:16:02.706637Z",
     "iopub.status.idle": "2023-09-20T10:16:02.707098Z",
     "shell.execute_reply": "2023-09-20T10:16:02.706911Z",
     "shell.execute_reply.started": "2023-09-20T10:16:02.706891Z"
    }
   },
   "outputs": [],
   "source": [
    "def create_folder(directory):\n",
    "    try:\n",
    "        if not os.path.exists(directory):\n",
    "            os.makedirs(directory)\n",
    "    except OSError:\n",
    "        print ('Error: Creating directory. ' +  directory)\n",
    "\n",
    "create_folder('svm_wild_result/')"
   ]
  },
  {
   "cell_type": "code",
   "execution_count": null,
   "metadata": {
    "execution": {
     "iopub.status.busy": "2023-09-20T10:16:02.708444Z",
     "iopub.status.idle": "2023-09-20T10:16:02.708897Z",
     "shell.execute_reply": "2023-09-20T10:16:02.708704Z",
     "shell.execute_reply.started": "2023-09-20T10:16:02.708685Z"
    }
   },
   "outputs": [],
   "source": [
    "X, y = load_data([\"/kaggle/input/dataset/wildfires/no_blaze\", \"/kaggle/input/dataset/wildfires/fire\"], (224,224))\n",
    "\n",
    "X_train, X_test, y_train, y_test = train_test_split(X, y, test_size=0.10, random_state=0)"
   ]
  },
  {
   "cell_type": "code",
   "execution_count": null,
   "metadata": {
    "execution": {
     "iopub.status.busy": "2023-09-20T10:16:02.711281Z",
     "iopub.status.idle": "2023-09-20T10:16:02.712823Z",
     "shell.execute_reply": "2023-09-20T10:16:02.712546Z",
     "shell.execute_reply.started": "2023-09-20T10:16:02.712509Z"
    }
   },
   "outputs": [],
   "source": [
    "param_grid = {'C': [10],\n",
    "              'gamma': [0.0001, 0.001, 0.01],\n",
    "              'kernel': ['rbf']}\n",
    "\n",
    "classifier = GridSearchCV(SVC(), cv=5, param_grid=param_grid, verbose=3, refit=True, return_train_score=True)\n",
    "\n",
    "\n",
    "classifier.fit(X_train, y_train)\n",
    "\n",
    "predictions_classes = classifier.predict(X_test)\n",
    "\n",
    "statistc_analysis(y_test, predictions_classes)\n",
    "\n",
    "# print the best parameters\n",
    "print(classifier.best_params_)\n",
    "print(classifier.best_estimator_)"
   ]
  },
  {
   "cell_type": "markdown",
   "metadata": {},
   "source": [
    "# inceptionv3_transfer_learning"
   ]
  },
  {
   "cell_type": "code",
   "execution_count": 12,
   "metadata": {
    "execution": {
     "iopub.execute_input": "2023-09-20T10:16:40.214063Z",
     "iopub.status.busy": "2023-09-20T10:16:40.213657Z",
     "iopub.status.idle": "2023-09-20T10:16:40.219574Z",
     "shell.execute_reply": "2023-09-20T10:16:40.218372Z",
     "shell.execute_reply.started": "2023-09-20T10:16:40.214030Z"
    }
   },
   "outputs": [],
   "source": [
    "# pip install pycm"
   ]
  },
  {
   "cell_type": "code",
   "execution_count": 13,
   "metadata": {
    "execution": {
     "iopub.execute_input": "2023-09-20T10:16:41.981403Z",
     "iopub.status.busy": "2023-09-20T10:16:41.980980Z",
     "iopub.status.idle": "2023-09-20T10:16:42.018706Z",
     "shell.execute_reply": "2023-09-20T10:16:42.017471Z",
     "shell.execute_reply.started": "2023-09-20T10:16:41.981371Z"
    }
   },
   "outputs": [],
   "source": [
    "from sklearn.metrics import classification_report,accuracy_score,roc_auc_score,roc_curve, precision_score,recall_score,f1_score,cohen_kappa_score,confusion_matrix,mean_squared_error\n",
    "from sklearn.model_selection import train_test_split\n",
    "from tensorflow.keras.callbacks import ModelCheckpoint, ReduceLROnPlateau\n",
    "from tensorflow.keras.applications import InceptionV3\n",
    "from tensorflow.keras.utils import to_categorical\n",
    "from tensorflow.keras.models import load_model, Sequential\n",
    "from tensorflow.keras.layers import Dense\n",
    "from pycm import ConfusionMatrix\n",
    "from collections import Counter\n",
    "from os import listdir\n",
    "from math import sqrt\n",
    "\n",
    "import matplotlib.pyplot as plt\n",
    "import tensorflow as tf\n",
    "import numpy as np\n",
    "import itertools\n",
    "import os, shutil\n",
    "import cv2"
   ]
  },
  {
   "cell_type": "code",
   "execution_count": 14,
   "metadata": {
    "execution": {
     "iopub.execute_input": "2023-09-20T10:16:44.709993Z",
     "iopub.status.busy": "2023-09-20T10:16:44.709468Z",
     "iopub.status.idle": "2023-09-20T10:16:44.733993Z",
     "shell.execute_reply": "2023-09-20T10:16:44.733165Z",
     "shell.execute_reply.started": "2023-09-20T10:16:44.709953Z"
    }
   },
   "outputs": [
    {
     "name": "stdout",
     "output_type": "stream",
     "text": [
      "tf version: 2.12.0\n"
     ]
    }
   ],
   "source": [
    "os.environ[\"CUDA_DEVICE_ORDER\"] = \"PCI_BUS_ID\"\n",
    "os.environ[\"CUDA_VISIBLE_DEVICES\"]=\"0,2,3,4\"\n",
    "gpu_options = tf.compat.v1.GPUOptions(per_process_gpu_memory_fraction=0.99)\n",
    "tf.compat.v1.Session(config=tf.compat.v1.ConfigProto(gpu_options=gpu_options))\n",
    "\n",
    "print(\"tf version:\", tf.__version__)"
   ]
  },
  {
   "cell_type": "code",
   "execution_count": 15,
   "metadata": {
    "execution": {
     "iopub.execute_input": "2023-09-20T10:16:46.919255Z",
     "iopub.status.busy": "2023-09-20T10:16:46.918746Z",
     "iopub.status.idle": "2023-09-20T10:16:47.326175Z",
     "shell.execute_reply": "2023-09-20T10:16:47.325137Z",
     "shell.execute_reply.started": "2023-09-20T10:16:46.919214Z"
    }
   },
   "outputs": [],
   "source": [
    "def load_data(dir_list, image_size):\n",
    "    X = []\n",
    "    y = []\n",
    "    all_image_with_label = []\n",
    "    image_width, image_height = image_size\n",
    "    for directory in dir_list:\n",
    "        for filename in listdir(directory):\n",
    "            image = cv2.imread(directory+ \"/\"+ filename)\n",
    "            image = cv2.resize(image, dsize=(image_width, image_height), interpolation=cv2.INTER_CUBIC)\n",
    "            image = image / 255.\n",
    "            image_label_set_label = (0, 1)[directory[-4:] == 'fire']\n",
    "            image_name_with_label = filename, image_label_set_label\n",
    "            all_image_with_label.append(image_name_with_label)\n",
    "            np.savetxt(\"/results/inceptionv3_image_data_feature_save.csv\", all_image_with_label, delimiter=\",\", fmt='%s')\n",
    "            image_name_matrix_with_label = image, filename, image_label_set_label\n",
    "            X.append(image_name_matrix_with_label)\n",
    "            y.append((0, 1)[directory[-4:] == 'fire'])\n",
    "\n",
    "    X = np.array(X)\n",
    "    y = np.array(y)\n",
    "    \n",
    "    print(Counter(y))\n",
    "    \n",
    "    return X, y\n",
    "\n",
    "def image_split_folder(source, destination_fire, destination_no_blaze, all_data):\n",
    "    shutil.rmtree(destination_fire, ignore_errors=True)\n",
    "    shutil.rmtree(destination_no_blaze, ignore_errors=True)\n",
    "    os.makedirs(destination_fire)\n",
    "    os.makedirs(destination_no_blaze)\n",
    "    for directory_split_folder_name in source:\n",
    "        files_create = os.listdir(directory_split_folder_name)\n",
    "        for target, label in all_data:\n",
    "            for f_crt in files_create:\n",
    "                if target == f_crt:\n",
    "                    if label == 1:\n",
    "                        shutil.copy(directory_split_folder_name + f_crt, destination_fire + f_crt)\n",
    "                    elif label == 0:\n",
    "                        shutil.copy(directory_split_folder_name + f_crt, destination_no_blaze + f_crt)\n",
    "\n",
    "def pred_fire_image_split_carry(X_test_name, pred_class, predictions):\n",
    "    pred_target_with_label_01 = np.vstack((X_test_name[:,1], pred_class)).T\n",
    "    pred_target_with_label_possibility = np.vstack((X_test_name[:,1], predictions)).T\n",
    "    image_split_folder([\"/kaggle/input/dataset/wildfires/fire/\", \"/kaggle/input/dataset/wildfires/no_blaze/\"], \"/results/pred/fire/\", \"/results/pred/no_blaze/\", pred_target_with_label_01)\n",
    "    np.savetxt(\"/results/pred/inceptionv3_imagenet_fire_or_no_01.csv\", pred_target_with_label_01, delimiter=\",\", fmt='%s')\n",
    "    np.savetxt(\"/results/pred/inceptionv3_imagenet_fire_or_no_possibility.csv\", pred_target_with_label_possibility, delimiter=\",\", fmt='%s')\n",
    "\n",
    "def image_to_4d(datas):\n",
    "    list_to_4d_all_data = []\n",
    "    for data_list_find in datas[:,0]:\n",
    "        list_to_4d_all_data.append(data_list_find)\n",
    "    list_to_4d_all_data = np.array(list_to_4d_all_data)\n",
    "    \n",
    "    return list_to_4d_all_data\n",
    "\n",
    "def plot_metrics(history):\n",
    "    \n",
    "    train_loss = history['loss']\n",
    "    val_loss = history['val_loss']\n",
    "    train_acc = history['accuracy']\n",
    "    val_acc = history['val_accuracy'] \n",
    "    \n",
    "    np.savetxt('/results/inceptionv3_imagenet_training_loss.csv', train_loss, fmt=\"%1.16f\", delimiter=\",\")\n",
    "    np.savetxt('/results/inceptionv3_imagenet_validation_loss.csv', val_loss, fmt=\"%1.16f\", delimiter=\",\") \n",
    "\n",
    "    np.savetxt('/results/inceptionv3_imagenet_training_accuracy.csv', train_acc, fmt=\"%1.16f\", delimiter=\",\")\n",
    "    np.savetxt('/results/inceptionv3_imagenet_val_accuracy.csv', val_acc, fmt=\"%1.16f\", delimiter=\",\") \n",
    "        \n",
    "    plt.figure()\n",
    "    plt.plot(train_loss, label='Training Loss')\n",
    "    plt.plot(val_loss, label='Validation Loss')\n",
    "    plt.ylabel('Loss')\n",
    "    plt.xlabel('Epoch')\n",
    "    plt.legend(loc=\"best\")\n",
    "    plt.savefig('/results/inceptionv3_imagenet_loss.jpg', dpi=600, bbox_inches='tight')\n",
    "    plt.show()\n",
    "    \n",
    "    print(\"\\n\") \n",
    "\n",
    "    plt.figure()\n",
    "    plt.plot(train_acc, label='Training Accuracy')\n",
    "    plt.plot(val_acc, label='Validation Accuracy')\n",
    "    plt.ylabel('Accuracy')\n",
    "    plt.xlabel('Epoch')\n",
    "    plt.legend(loc=\"best\")\n",
    "    plt.savefig('/results/inceptionv3_imagenet_accuracy.jpg', dpi=600, bbox_inches='tight')\n",
    "    plt.show()\n",
    "\n",
    "def build_model(img_shape):\n",
    "    \n",
    "    model = Sequential()\n",
    "    \n",
    "    model.add(InceptionV3(input_shape = (img_shape), include_top = False, weights=\"imagenet\", pooling=\"max\"))\n",
    "\n",
    "    model.add(Dense(2, activation=\"softmax\"))\n",
    "    \n",
    "    return model\n",
    "    \n",
    "def plot_confusion_matrix(cm, classes, normalize=False, title='Confusion matrix', cmap=plt.cm.Blues):\n",
    "    plt.imshow(cm, interpolation='nearest', cmap=cmap)\n",
    "    plt.title(title)\n",
    "    plt.colorbar()\n",
    "    tick_marks = np.arange(len(classes))\n",
    "    plt.xticks(tick_marks, classes)\n",
    "    plt.yticks(tick_marks, classes)\n",
    "    fmt = '.2f' if normalize else 'd'\n",
    "    thresh = cm.max() / 2.\n",
    "    for i, j in itertools.product(range(cm.shape[0]), range(cm.shape[1])):\n",
    "        plt.text(j, i, format(cm[i, j], fmt),\n",
    "                 horizontalalignment=\"center\",\n",
    "                 color=\"white\" if cm[i, j] > thresh else \"black\")\n",
    "    plt.tight_layout()\n",
    "    plt.ylabel('True label',labelpad = 5)\n",
    "    plt.xlabel('Predicted label', labelpad = 15)\n",
    "    plt.savefig(\"/results/inceptionv3_imagenet_plt_cm.jpg\", dpi=300, bbox_inches='tight')\n",
    "    plt.show()\n",
    "\n",
    "def statistc_analysis(actual,predict_classes_find):\n",
    "    \n",
    "    np.savetxt('/results/inceptionv3_imagenet_pred.csv', predict_classes_find, fmt=\"%d\", delimiter=\",\")\n",
    "    np.savetxt('/results/inceptionv3_imagenet_actual_test.csv', actual, fmt=\"%d\", delimiter=\",\")    \n",
    "    \n",
    "    accuracy = accuracy_score(actual, predict_classes_find)\n",
    "    print('Accuracy: %0.4f' % accuracy)\n",
    "    \n",
    "    precision = precision_score(actual, predict_classes_find)\n",
    "    print('Precision: %0.4f' % precision)\n",
    "    \n",
    "    recall = recall_score(actual, predict_classes_find)\n",
    "    print('Recall: %0.4f' % recall)\n",
    "    \n",
    "    f1 = f1_score(actual, predict_classes_find)\n",
    "    print('F1 score: %0.4f' % f1)\n",
    "    \n",
    "    kappa = cohen_kappa_score(actual, predict_classes_find)\n",
    "    print('Cohens kappa: %0.4f' % kappa)\n",
    "    \n",
    "    roc_auc_threshold = roc_auc_score(actual, predict_classes_find)\n",
    "    print('ROC AUC: %0.4f' % roc_auc_threshold)\n",
    "    print(\"\\n\")\n",
    "    \n",
    "    plt.figure()\n",
    "    cnf_matrix = confusion_matrix(actual, predict_classes_find, labels=[0,1])\n",
    "    plot_confusion_matrix(cnf_matrix, classes=['No Fire', 'Fire'], normalize= False,  title='Confusion matrix')\n",
    "    print(\"\\n\")\n",
    "        \n",
    "    print(\"\\n\")\n",
    "    print ('Report : ')\n",
    "    target_names = ['No Fire', 'Fire']\n",
    "    print (classification_report(actual, predict_classes_find,target_names=target_names, digits=2))\n",
    "    print(\"\\n\")\n",
    "    \n",
    "    mse = mean_squared_error(actual, predict_classes_find)\n",
    "    print('MSE: %0.4f' % mse)\n",
    "    \n",
    "    rmse = sqrt(mse)\n",
    "    print('RMSE: %0.4f' % rmse)\n",
    "    print(\"\\n\")    \n",
    "           \n",
    "    fpr, tpr, thresholds = roc_curve(actual, predict_classes_find)\n",
    "    roc_auc_threshold = 'InceptionV3 = %.4f' % (roc_auc_threshold)\n",
    "    plt.plot(fpr, tpr,  color='#2626ff', label=roc_auc_threshold)\n",
    "    plt.plot([0, 1], [0, 1], color='red', linestyle='--', label='', linewidth=2)\n",
    "    plt.xlim([-0.05, 1.05])\n",
    "    plt.ylim([-0.05, 1.05])\n",
    "    plt.legend(loc=\"lower right\")\n",
    "    plt.xlabel('1-Specificity (False Positive Rate)')\n",
    "    plt.ylabel('Sensitivity (True Positive Rate)')\n",
    "    plt.savefig(\"/results/inceptionv3_imagenet_roc_curve.jpg\", dpi=300, bbox_inches='tight')\n",
    "    plt.show()    \n",
    "    print(\"\\n\") \n",
    "    \n",
    "def overall_statistics(actual, predict_classes_find):\n",
    "    \n",
    "    cm = ConfusionMatrix(actual_vector=actual,predict_vector=predict_classes_find)\n",
    "    \n",
    "    print(cm)\n",
    "\n",
    "def create_folder(directory):\n",
    "    try:\n",
    "        if not os.path.exists(directory):\n",
    "            os.makedirs(directory)\n",
    "    except OSError:\n",
    "        print ('Error:' +  directory)"
   ]
  },
  {
   "cell_type": "code",
   "execution_count": 16,
   "metadata": {
    "execution": {
     "iopub.execute_input": "2023-09-20T10:16:51.996181Z",
     "iopub.status.busy": "2023-09-20T10:16:51.995111Z",
     "iopub.status.idle": "2023-09-20T10:16:52.001763Z",
     "shell.execute_reply": "2023-09-20T10:16:52.000191Z",
     "shell.execute_reply.started": "2023-09-20T10:16:51.996104Z"
    }
   },
   "outputs": [],
   "source": [
    "create_folder('/results/')"
   ]
  },
  {
   "cell_type": "code",
   "execution_count": 17,
   "metadata": {
    "execution": {
     "iopub.execute_input": "2023-09-20T10:16:53.596317Z",
     "iopub.status.busy": "2023-09-20T10:16:53.595786Z",
     "iopub.status.idle": "2023-09-20T10:17:06.410767Z",
     "shell.execute_reply": "2023-09-20T10:17:06.409396Z",
     "shell.execute_reply.started": "2023-09-20T10:16:53.596278Z"
    }
   },
   "outputs": [
    {
     "name": "stdout",
     "output_type": "stream",
     "text": [
      "Counter({0: 732, 1: 720})\n"
     ]
    },
    {
     "name": "stderr",
     "output_type": "stream",
     "text": [
      "/tmp/ipykernel_32/1314157096.py:19: VisibleDeprecationWarning: Creating an ndarray from ragged nested sequences (which is a list-or-tuple of lists-or-tuples-or ndarrays with different lengths or shapes) is deprecated. If you meant to do this, you must specify 'dtype=object' when creating the ndarray.\n",
      "  X = np.array(X)\n"
     ]
    }
   ],
   "source": [
    "X, y = load_data([\"/kaggle/input/dataset/wildfires/no_blaze\", \"/kaggle/input/dataset/wildfires/fire\"], (224,224))\n",
    "\n",
    "X_train, X_test, y_train, y_test = train_test_split(X, y, test_size=0.10, random_state=0)"
   ]
  },
  {
   "cell_type": "code",
   "execution_count": 18,
   "metadata": {
    "execution": {
     "iopub.execute_input": "2023-09-20T10:17:08.513621Z",
     "iopub.status.busy": "2023-09-20T10:17:08.513086Z",
     "iopub.status.idle": "2023-09-20T10:17:18.005184Z",
     "shell.execute_reply": "2023-09-20T10:17:18.002943Z",
     "shell.execute_reply.started": "2023-09-20T10:17:08.513584Z"
    }
   },
   "outputs": [
    {
     "name": "stdout",
     "output_type": "stream",
     "text": [
      "Downloading data from https://storage.googleapis.com/tensorflow/keras-applications/inception_v3/inception_v3_weights_tf_dim_ordering_tf_kernels_notop.h5\n",
      "87910968/87910968 [==============================] - 4s 0us/step\n",
      "Model: \"sequential\"\n",
      "_________________________________________________________________\n",
      " Layer (type)                Output Shape              Param #   \n",
      "=================================================================\n",
      " inception_v3 (Functional)   (None, 2048)              21802784  \n",
      "                                                                 \n",
      " dense (Dense)               (None, 2)                 4098      \n",
      "                                                                 \n",
      "=================================================================\n",
      "Total params: 21,806,882\n",
      "Trainable params: 21,772,450\n",
      "Non-trainable params: 34,432\n",
      "_________________________________________________________________\n"
     ]
    }
   ],
   "source": [
    "X_train_list_to_4d = image_to_4d(X_train)\n",
    "X_test_list_to_4d = image_to_4d(X_test)\n",
    "\n",
    "actual=y_test\n",
    "\n",
    "y_train = to_categorical(y_train, 2)\n",
    "y_test = to_categorical(y_test, 2)\n",
    "\n",
    "img_shape = (224, 224, 3)\n",
    "model = build_model(img_shape)\n",
    "model.summary()\n",
    "\n",
    "model.compile(loss=\"categorical_crossentropy\", optimizer=\"adam\", metrics=['accuracy'])"
   ]
  },
  {
   "cell_type": "code",
   "execution_count": 19,
   "metadata": {
    "execution": {
     "iopub.execute_input": "2023-09-20T10:17:21.325849Z",
     "iopub.status.busy": "2023-09-20T10:17:21.325392Z",
     "iopub.status.idle": "2023-09-20T15:01:54.417055Z",
     "shell.execute_reply": "2023-09-20T15:01:54.414158Z",
     "shell.execute_reply.started": "2023-09-20T10:17:21.325815Z"
    }
   },
   "outputs": [
    {
     "name": "stdout",
     "output_type": "stream",
     "text": [
      "Epoch 1/50\n",
      "19/19 [==============================] - ETA: 0s - loss: 0.8979 - accuracy: 0.8536 \n",
      "Epoch 1: val_loss improved from inf to 24.09684, saving model to /results/inceptionv3_imagenet.hdf5\n",
      "19/19 [==============================] - 374s 18s/step - loss: 0.8979 - accuracy: 0.8536 - val_loss: 24.0968 - val_accuracy: 0.4809 - lr: 0.0010\n",
      "Epoch 2/50\n",
      "19/19 [==============================] - ETA: 0s - loss: 0.1122 - accuracy: 0.9591 \n",
      "Epoch 2: val_loss improved from 24.09684 to 18.43387, saving model to /results/inceptionv3_imagenet.hdf5\n",
      "19/19 [==============================] - 348s 18s/step - loss: 0.1122 - accuracy: 0.9591 - val_loss: 18.4339 - val_accuracy: 0.4809 - lr: 0.0010\n",
      "Epoch 3/50\n",
      "19/19 [==============================] - ETA: 0s - loss: 0.0353 - accuracy: 0.9881 \n",
      "Epoch 3: val_loss improved from 18.43387 to 8.17437, saving model to /results/inceptionv3_imagenet.hdf5\n",
      "19/19 [==============================] - 349s 18s/step - loss: 0.0353 - accuracy: 0.9881 - val_loss: 8.1744 - val_accuracy: 0.4809 - lr: 0.0010\n",
      "Epoch 4/50\n",
      "19/19 [==============================] - ETA: 0s - loss: 0.0852 - accuracy: 0.9830 \n",
      "Epoch 4: val_loss did not improve from 8.17437\n",
      "19/19 [==============================] - 351s 18s/step - loss: 0.0852 - accuracy: 0.9830 - val_loss: 10.6878 - val_accuracy: 0.4962 - lr: 0.0010\n",
      "Epoch 5/50\n",
      "19/19 [==============================] - ETA: 0s - loss: 0.0366 - accuracy: 0.9881 \n",
      "Epoch 5: val_loss improved from 8.17437 to 4.73080, saving model to /results/inceptionv3_imagenet.hdf5\n",
      "19/19 [==============================] - 350s 18s/step - loss: 0.0366 - accuracy: 0.9881 - val_loss: 4.7308 - val_accuracy: 0.5420 - lr: 0.0010\n",
      "Epoch 6/50\n",
      "19/19 [==============================] - ETA: 0s - loss: 0.0189 - accuracy: 0.9949 \n",
      "Epoch 6: val_loss improved from 4.73080 to 1.27500, saving model to /results/inceptionv3_imagenet.hdf5\n",
      "19/19 [==============================] - 348s 18s/step - loss: 0.0189 - accuracy: 0.9949 - val_loss: 1.2750 - val_accuracy: 0.7405 - lr: 0.0010\n",
      "Epoch 7/50\n",
      "19/19 [==============================] - ETA: 0s - loss: 0.1152 - accuracy: 0.9898 \n",
      "Epoch 7: val_loss improved from 1.27500 to 1.14025, saving model to /results/inceptionv3_imagenet.hdf5\n",
      "19/19 [==============================] - 342s 18s/step - loss: 0.1152 - accuracy: 0.9898 - val_loss: 1.1402 - val_accuracy: 0.9084 - lr: 0.0010\n",
      "Epoch 8/50\n",
      "19/19 [==============================] - ETA: 0s - loss: 0.0446 - accuracy: 0.9864 \n",
      "Epoch 8: val_loss improved from 1.14025 to 0.37806, saving model to /results/inceptionv3_imagenet.hdf5\n",
      "19/19 [==============================] - 346s 18s/step - loss: 0.0446 - accuracy: 0.9864 - val_loss: 0.3781 - val_accuracy: 0.9466 - lr: 0.0010\n",
      "Epoch 9/50\n",
      "19/19 [==============================] - ETA: 0s - loss: 0.0113 - accuracy: 0.9974 \n",
      "Epoch 9: val_loss improved from 0.37806 to 0.18212, saving model to /results/inceptionv3_imagenet.hdf5\n",
      "19/19 [==============================] - 350s 18s/step - loss: 0.0113 - accuracy: 0.9974 - val_loss: 0.1821 - val_accuracy: 0.9771 - lr: 0.0010\n",
      "Epoch 10/50\n",
      "19/19 [==============================] - ETA: 0s - loss: 0.0015 - accuracy: 1.0000 \n",
      "Epoch 10: val_loss did not improve from 0.18212\n",
      "19/19 [==============================] - 344s 18s/step - loss: 0.0015 - accuracy: 1.0000 - val_loss: 0.4252 - val_accuracy: 0.9695 - lr: 0.0010\n",
      "Epoch 11/50\n",
      "19/19 [==============================] - ETA: 0s - loss: 4.9689e-04 - accuracy: 1.0000 \n",
      "Epoch 11: val_loss did not improve from 0.18212\n",
      "19/19 [==============================] - 343s 18s/step - loss: 4.9689e-04 - accuracy: 1.0000 - val_loss: 0.2149 - val_accuracy: 0.9771 - lr: 0.0010\n",
      "Epoch 12/50\n",
      "19/19 [==============================] - ETA: 0s - loss: 0.0082 - accuracy: 0.9983 \n",
      "Epoch 12: val_loss did not improve from 0.18212\n",
      "19/19 [==============================] - 342s 18s/step - loss: 0.0082 - accuracy: 0.9983 - val_loss: 0.2413 - val_accuracy: 0.9618 - lr: 5.0000e-04\n",
      "Epoch 13/50\n",
      "19/19 [==============================] - ETA: 0s - loss: 0.0028 - accuracy: 0.9991 \n",
      "Epoch 13: val_loss did not improve from 0.18212\n",
      "19/19 [==============================] - 339s 18s/step - loss: 0.0028 - accuracy: 0.9991 - val_loss: 0.2283 - val_accuracy: 0.9313 - lr: 5.0000e-04\n",
      "Epoch 14/50\n",
      "19/19 [==============================] - ETA: 0s - loss: 5.2281e-04 - accuracy: 1.0000 \n",
      "Epoch 14: val_loss improved from 0.18212 to 0.15827, saving model to /results/inceptionv3_imagenet.hdf5\n",
      "19/19 [==============================] - 345s 18s/step - loss: 5.2281e-04 - accuracy: 1.0000 - val_loss: 0.1583 - val_accuracy: 0.9542 - lr: 2.5000e-04\n",
      "Epoch 15/50\n",
      "19/19 [==============================] - ETA: 0s - loss: 0.0017 - accuracy: 0.9991 \n",
      "Epoch 15: val_loss did not improve from 0.15827\n",
      "19/19 [==============================] - 336s 18s/step - loss: 0.0017 - accuracy: 0.9991 - val_loss: 0.2357 - val_accuracy: 0.9237 - lr: 2.5000e-04\n",
      "Epoch 16/50\n",
      "19/19 [==============================] - ETA: 0s - loss: 2.6374e-04 - accuracy: 1.0000 \n",
      "Epoch 16: val_loss did not improve from 0.15827\n",
      "19/19 [==============================] - 337s 18s/step - loss: 2.6374e-04 - accuracy: 1.0000 - val_loss: 0.2213 - val_accuracy: 0.9466 - lr: 2.5000e-04\n",
      "Epoch 17/50\n",
      "19/19 [==============================] - ETA: 0s - loss: 3.4745e-04 - accuracy: 1.0000 \n",
      "Epoch 17: val_loss did not improve from 0.15827\n",
      "19/19 [==============================] - 339s 18s/step - loss: 3.4745e-04 - accuracy: 1.0000 - val_loss: 0.1680 - val_accuracy: 0.9695 - lr: 1.2500e-04\n",
      "Epoch 18/50\n",
      "19/19 [==============================] - ETA: 0s - loss: 1.9288e-04 - accuracy: 1.0000 \n",
      "Epoch 18: val_loss did not improve from 0.15827\n",
      "19/19 [==============================] - 338s 18s/step - loss: 1.9288e-04 - accuracy: 1.0000 - val_loss: 0.1608 - val_accuracy: 0.9771 - lr: 1.2500e-04\n",
      "Epoch 19/50\n",
      "19/19 [==============================] - ETA: 0s - loss: 1.9282e-04 - accuracy: 1.0000 \n",
      "Epoch 19: val_loss did not improve from 0.15827\n",
      "19/19 [==============================] - 333s 17s/step - loss: 1.9282e-04 - accuracy: 1.0000 - val_loss: 0.1643 - val_accuracy: 0.9695 - lr: 1.0000e-04\n",
      "Epoch 20/50\n",
      "19/19 [==============================] - ETA: 0s - loss: 1.3836e-04 - accuracy: 1.0000 \n",
      "Epoch 20: val_loss did not improve from 0.15827\n",
      "19/19 [==============================] - 335s 18s/step - loss: 1.3836e-04 - accuracy: 1.0000 - val_loss: 0.1695 - val_accuracy: 0.9695 - lr: 1.0000e-04\n",
      "Epoch 21/50\n",
      "19/19 [==============================] - ETA: 0s - loss: 5.0069e-04 - accuracy: 1.0000 \n",
      "Epoch 21: val_loss did not improve from 0.15827\n",
      "19/19 [==============================] - 337s 18s/step - loss: 5.0069e-04 - accuracy: 1.0000 - val_loss: 0.1796 - val_accuracy: 0.9695 - lr: 1.0000e-04\n",
      "Epoch 22/50\n",
      "19/19 [==============================] - ETA: 0s - loss: 1.8347e-04 - accuracy: 1.0000 \n",
      "Epoch 22: val_loss did not improve from 0.15827\n",
      "19/19 [==============================] - 340s 18s/step - loss: 1.8347e-04 - accuracy: 1.0000 - val_loss: 0.1858 - val_accuracy: 0.9695 - lr: 1.0000e-04\n",
      "Epoch 23/50\n",
      "19/19 [==============================] - ETA: 0s - loss: 1.4109e-04 - accuracy: 1.0000 \n",
      "Epoch 23: val_loss did not improve from 0.15827\n",
      "19/19 [==============================] - 340s 18s/step - loss: 1.4109e-04 - accuracy: 1.0000 - val_loss: 0.1903 - val_accuracy: 0.9695 - lr: 1.0000e-04\n",
      "Epoch 24/50\n",
      "19/19 [==============================] - ETA: 0s - loss: 1.7546e-04 - accuracy: 1.0000 \n",
      "Epoch 24: val_loss did not improve from 0.15827\n",
      "19/19 [==============================] - 339s 18s/step - loss: 1.7546e-04 - accuracy: 1.0000 - val_loss: 0.1939 - val_accuracy: 0.9695 - lr: 1.0000e-04\n",
      "Epoch 25/50\n",
      "19/19 [==============================] - ETA: 0s - loss: 1.2748e-04 - accuracy: 1.0000 \n",
      "Epoch 25: val_loss did not improve from 0.15827\n",
      "19/19 [==============================] - 337s 18s/step - loss: 1.2748e-04 - accuracy: 1.0000 - val_loss: 0.1956 - val_accuracy: 0.9695 - lr: 1.0000e-04\n",
      "Epoch 26/50\n",
      "19/19 [==============================] - ETA: 0s - loss: 0.0035 - accuracy: 0.9991     \n",
      "Epoch 26: val_loss did not improve from 0.15827\n",
      "19/19 [==============================] - 339s 18s/step - loss: 0.0035 - accuracy: 0.9991 - val_loss: 0.1954 - val_accuracy: 0.9695 - lr: 1.0000e-04\n",
      "Epoch 27/50\n",
      "19/19 [==============================] - ETA: 0s - loss: 0.0063 - accuracy: 0.9966 \n",
      "Epoch 27: val_loss did not improve from 0.15827\n",
      "19/19 [==============================] - 339s 18s/step - loss: 0.0063 - accuracy: 0.9966 - val_loss: 0.2252 - val_accuracy: 0.9542 - lr: 1.0000e-04\n",
      "Epoch 28/50\n",
      "19/19 [==============================] - ETA: 0s - loss: 0.0068 - accuracy: 0.9983 \n",
      "Epoch 28: val_loss did not improve from 0.15827\n",
      "19/19 [==============================] - 340s 18s/step - loss: 0.0068 - accuracy: 0.9983 - val_loss: 0.1935 - val_accuracy: 0.9695 - lr: 1.0000e-04\n",
      "Epoch 29/50\n",
      "19/19 [==============================] - ETA: 0s - loss: 0.0013 - accuracy: 0.9991 \n",
      "Epoch 29: val_loss did not improve from 0.15827\n",
      "19/19 [==============================] - 336s 18s/step - loss: 0.0013 - accuracy: 0.9991 - val_loss: 0.1901 - val_accuracy: 0.9695 - lr: 1.0000e-04\n",
      "Epoch 30/50\n",
      "19/19 [==============================] - ETA: 0s - loss: 2.7058e-04 - accuracy: 1.0000 \n",
      "Epoch 30: val_loss did not improve from 0.15827\n",
      "19/19 [==============================] - 336s 18s/step - loss: 2.7058e-04 - accuracy: 1.0000 - val_loss: 0.1916 - val_accuracy: 0.9695 - lr: 1.0000e-04\n",
      "Epoch 31/50\n",
      "19/19 [==============================] - ETA: 0s - loss: 3.9877e-04 - accuracy: 1.0000 \n",
      "Epoch 31: val_loss did not improve from 0.15827\n",
      "19/19 [==============================] - 339s 18s/step - loss: 3.9877e-04 - accuracy: 1.0000 - val_loss: 0.1926 - val_accuracy: 0.9695 - lr: 1.0000e-04\n",
      "Epoch 32/50\n",
      "19/19 [==============================] - ETA: 0s - loss: 1.6210e-04 - accuracy: 1.0000 \n",
      "Epoch 32: val_loss did not improve from 0.15827\n",
      "19/19 [==============================] - 337s 18s/step - loss: 1.6210e-04 - accuracy: 1.0000 - val_loss: 0.1955 - val_accuracy: 0.9695 - lr: 1.0000e-04\n",
      "Epoch 33/50\n",
      "19/19 [==============================] - ETA: 0s - loss: 4.7428e-04 - accuracy: 1.0000 \n",
      "Epoch 33: val_loss did not improve from 0.15827\n",
      "19/19 [==============================] - 335s 18s/step - loss: 4.7428e-04 - accuracy: 1.0000 - val_loss: 0.1981 - val_accuracy: 0.9695 - lr: 1.0000e-04\n",
      "Epoch 34/50\n",
      "19/19 [==============================] - ETA: 0s - loss: 1.3851e-04 - accuracy: 1.0000 \n",
      "Epoch 34: val_loss did not improve from 0.15827\n",
      "19/19 [==============================] - 339s 18s/step - loss: 1.3851e-04 - accuracy: 1.0000 - val_loss: 0.1980 - val_accuracy: 0.9695 - lr: 1.0000e-04\n",
      "Epoch 35/50\n",
      "19/19 [==============================] - ETA: 0s - loss: 1.8137e-04 - accuracy: 1.0000 \n",
      "Epoch 35: val_loss did not improve from 0.15827\n",
      "19/19 [==============================] - 338s 18s/step - loss: 1.8137e-04 - accuracy: 1.0000 - val_loss: 0.1985 - val_accuracy: 0.9695 - lr: 1.0000e-04\n",
      "Epoch 36/50\n",
      "19/19 [==============================] - ETA: 0s - loss: 9.4643e-05 - accuracy: 1.0000 \n",
      "Epoch 36: val_loss did not improve from 0.15827\n",
      "19/19 [==============================] - 341s 18s/step - loss: 9.4643e-05 - accuracy: 1.0000 - val_loss: 0.1998 - val_accuracy: 0.9695 - lr: 1.0000e-04\n",
      "Epoch 37/50\n",
      "19/19 [==============================] - ETA: 0s - loss: 4.7492e-04 - accuracy: 1.0000 \n",
      "Epoch 37: val_loss did not improve from 0.15827\n",
      "19/19 [==============================] - 340s 18s/step - loss: 4.7492e-04 - accuracy: 1.0000 - val_loss: 0.2007 - val_accuracy: 0.9695 - lr: 1.0000e-04\n",
      "Epoch 38/50\n",
      "19/19 [==============================] - ETA: 0s - loss: 1.0896e-04 - accuracy: 1.0000 \n",
      "Epoch 38: val_loss did not improve from 0.15827\n",
      "19/19 [==============================] - 340s 18s/step - loss: 1.0896e-04 - accuracy: 1.0000 - val_loss: 0.1988 - val_accuracy: 0.9695 - lr: 1.0000e-04\n",
      "Epoch 39/50\n",
      "19/19 [==============================] - ETA: 0s - loss: 1.0410e-04 - accuracy: 1.0000 \n",
      "Epoch 39: val_loss did not improve from 0.15827\n",
      "19/19 [==============================] - 339s 18s/step - loss: 1.0410e-04 - accuracy: 1.0000 - val_loss: 0.1986 - val_accuracy: 0.9695 - lr: 1.0000e-04\n",
      "Epoch 40/50\n",
      "19/19 [==============================] - ETA: 0s - loss: 9.1419e-05 - accuracy: 1.0000 \n",
      "Epoch 40: val_loss did not improve from 0.15827\n",
      "19/19 [==============================] - 339s 18s/step - loss: 9.1419e-05 - accuracy: 1.0000 - val_loss: 0.1990 - val_accuracy: 0.9695 - lr: 1.0000e-04\n",
      "Epoch 41/50\n",
      "19/19 [==============================] - ETA: 0s - loss: 1.0099e-04 - accuracy: 1.0000 \n",
      "Epoch 41: val_loss did not improve from 0.15827\n",
      "19/19 [==============================] - 339s 18s/step - loss: 1.0099e-04 - accuracy: 1.0000 - val_loss: 0.2002 - val_accuracy: 0.9695 - lr: 1.0000e-04\n",
      "Epoch 42/50\n",
      "19/19 [==============================] - ETA: 0s - loss: 6.8233e-05 - accuracy: 1.0000 \n",
      "Epoch 42: val_loss did not improve from 0.15827\n",
      "19/19 [==============================] - 342s 18s/step - loss: 6.8233e-05 - accuracy: 1.0000 - val_loss: 0.2010 - val_accuracy: 0.9695 - lr: 1.0000e-04\n",
      "Epoch 43/50\n",
      "19/19 [==============================] - ETA: 0s - loss: 1.0461e-04 - accuracy: 1.0000 \n",
      "Epoch 43: val_loss did not improve from 0.15827\n",
      "19/19 [==============================] - 341s 18s/step - loss: 1.0461e-04 - accuracy: 1.0000 - val_loss: 0.2024 - val_accuracy: 0.9695 - lr: 1.0000e-04\n",
      "Epoch 44/50\n",
      "19/19 [==============================] - ETA: 0s - loss: 1.1785e-04 - accuracy: 1.0000 \n",
      "Epoch 44: val_loss did not improve from 0.15827\n",
      "19/19 [==============================] - 341s 18s/step - loss: 1.1785e-04 - accuracy: 1.0000 - val_loss: 0.2031 - val_accuracy: 0.9695 - lr: 1.0000e-04\n",
      "Epoch 45/50\n",
      "19/19 [==============================] - ETA: 0s - loss: 2.5186e-04 - accuracy: 1.0000 \n",
      "Epoch 45: val_loss did not improve from 0.15827\n",
      "19/19 [==============================] - 340s 18s/step - loss: 2.5186e-04 - accuracy: 1.0000 - val_loss: 0.2076 - val_accuracy: 0.9695 - lr: 1.0000e-04\n",
      "Epoch 46/50\n",
      "19/19 [==============================] - ETA: 0s - loss: 1.0936e-04 - accuracy: 1.0000 \n",
      "Epoch 46: val_loss did not improve from 0.15827\n",
      "19/19 [==============================] - 343s 18s/step - loss: 1.0936e-04 - accuracy: 1.0000 - val_loss: 0.2103 - val_accuracy: 0.9695 - lr: 1.0000e-04\n",
      "Epoch 47/50\n",
      "19/19 [==============================] - ETA: 0s - loss: 1.0367e-04 - accuracy: 1.0000 \n",
      "Epoch 47: val_loss did not improve from 0.15827\n",
      "19/19 [==============================] - 343s 18s/step - loss: 1.0367e-04 - accuracy: 1.0000 - val_loss: 0.2132 - val_accuracy: 0.9695 - lr: 1.0000e-04\n",
      "Epoch 48/50\n",
      "19/19 [==============================] - ETA: 0s - loss: 1.0103e-04 - accuracy: 1.0000 \n",
      "Epoch 48: val_loss did not improve from 0.15827\n",
      "19/19 [==============================] - 344s 18s/step - loss: 1.0103e-04 - accuracy: 1.0000 - val_loss: 0.2134 - val_accuracy: 0.9695 - lr: 1.0000e-04\n",
      "Epoch 49/50\n",
      "19/19 [==============================] - ETA: 0s - loss: 5.0638e-05 - accuracy: 1.0000 \n",
      "Epoch 49: val_loss did not improve from 0.15827\n",
      "19/19 [==============================] - 339s 18s/step - loss: 5.0638e-05 - accuracy: 1.0000 - val_loss: 0.2119 - val_accuracy: 0.9695 - lr: 1.0000e-04\n",
      "Epoch 50/50\n",
      "19/19 [==============================] - ETA: 0s - loss: 6.3396e-05 - accuracy: 1.0000 \n",
      "Epoch 50: val_loss did not improve from 0.15827\n",
      "19/19 [==============================] - 343s 18s/step - loss: 6.3396e-05 - accuracy: 1.0000 - val_loss: 0.2118 - val_accuracy: 0.9695 - lr: 1.0000e-04\n"
     ]
    },
    {
     "data": {
      "image/png": "[encoded data removed]",
      "text/plain": [
       "<Figure size 640x480 with 1 Axes>"
      ]
     },
     "metadata": {},
     "output_type": "display_data"
    },
    {
     "name": "stdout",
     "output_type": "stream",
     "text": [
      "\n",
      "\n"
     ]
    },
    {
     "data": {
      "image/png": "[encoded data removed]",
      "text/plain": [
       "<Figure size 640x480 with 1 Axes>"
      ]
     },
     "metadata": {},
     "output_type": "display_data"
    }
   ],
   "source": [
    "filepath=\"/results/inceptionv3_imagenet.hdf5\"\n",
    "checkpoint = ModelCheckpoint(filepath, monitor=\"val_loss\", verbose=1, save_best_only=True, mode='min')\n",
    "reduce_lr = ReduceLROnPlateau(monitor='val_loss', factor=0.5, patience=2, min_lr=0.0001, verbose=0)\n",
    "history = model.fit(X_train_list_to_4d, y_train, batch_size=64, epochs=50, validation_split=0.10, verbose=1, callbacks=[checkpoint, reduce_lr])\n",
    "history=history.history\n",
    " \n",
    "plot_metrics(history)"
   ]
  },
  {
   "cell_type": "code",
   "execution_count": 20,
   "metadata": {
    "execution": {
     "iopub.execute_input": "2023-09-20T15:01:54.424631Z",
     "iopub.status.busy": "2023-09-20T15:01:54.423958Z",
     "iopub.status.idle": "2023-09-20T15:02:11.931111Z",
     "shell.execute_reply": "2023-09-20T15:02:11.929344Z",
     "shell.execute_reply.started": "2023-09-20T15:01:54.424566Z"
    }
   },
   "outputs": [
    {
     "name": "stdout",
     "output_type": "stream",
     "text": [
      "Test loss : 0.1885, Test Accuracy: 0.9726\n",
      "\n",
      "\n"
     ]
    }
   ],
   "source": [
    "model = load_model('/results/inceptionv3_imagenet.hdf5')\n",
    "\n",
    "test_loss, test_acc = model.evaluate(X_test_list_to_4d, y_test, verbose=0)\n",
    "print(f\"Test loss : {test_loss:0.4}, Test Accuracy: {test_acc:0.4}\")\n",
    "\n",
    "print(\"\\n\")"
   ]
  },
  {
   "cell_type": "code",
   "execution_count": 21,
   "metadata": {
    "execution": {
     "iopub.execute_input": "2023-09-20T15:02:11.934092Z",
     "iopub.status.busy": "2023-09-20T15:02:11.933622Z",
     "iopub.status.idle": "2023-09-20T15:02:21.816302Z",
     "shell.execute_reply": "2023-09-20T15:02:21.814984Z",
     "shell.execute_reply.started": "2023-09-20T15:02:11.934037Z"
    }
   },
   "outputs": [],
   "source": [
    "predictions = model.predict(X_test_list_to_4d, verbose=0)\n",
    "predict_classes_find=[]\n",
    "predictions_end=[]\n",
    "for prd_clssv in predictions:\n",
    "    predictions_end.append(max(prd_clssv))\n",
    "    predict_classes_find.append(prd_clssv.argmax())  \n",
    "predict_classes_find=np.array(predict_classes_find)\n",
    "predictions_end=np.array(predictions_end)"
   ]
  },
  {
   "cell_type": "code",
   "execution_count": 22,
   "metadata": {
    "execution": {
     "iopub.execute_input": "2023-09-20T15:02:21.820029Z",
     "iopub.status.busy": "2023-09-20T15:02:21.819647Z",
     "iopub.status.idle": "2023-09-20T15:02:23.302327Z",
     "shell.execute_reply": "2023-09-20T15:02:23.300420Z",
     "shell.execute_reply.started": "2023-09-20T15:02:21.819996Z"
    }
   },
   "outputs": [
    {
     "name": "stdout",
     "output_type": "stream",
     "text": [
      "Accuracy: 0.9726\n",
      "Precision: 0.9600\n",
      "Recall: 0.9863\n",
      "F1 score: 0.9730\n",
      "Cohens kappa: 0.9452\n",
      "ROC AUC: 0.9726\n",
      "\n",
      "\n"
     ]
    },
    {
     "data": {
      "image/png": "[encoded data removed]",
      "text/plain": [
       "<Figure size 640x480 with 2 Axes>"
      ]
     },
     "metadata": {},
     "output_type": "display_data"
    },
    {
     "name": "stdout",
     "output_type": "stream",
     "text": [
      "\n",
      "\n",
      "\n",
      "\n",
      "Report : \n",
      "              precision    recall  f1-score   support\n",
      "\n",
      "     No Fire       0.99      0.96      0.97        73\n",
      "        Fire       0.96      0.99      0.97        73\n",
      "\n",
      "    accuracy                           0.97       146\n",
      "   macro avg       0.97      0.97      0.97       146\n",
      "weighted avg       0.97      0.97      0.97       146\n",
      "\n",
      "\n",
      "\n",
      "MSE: 0.0274\n",
      "RMSE: 0.1655\n",
      "\n",
      "\n"
     ]
    },
    {
     "data": {
      "image/png": "[encoded data removed]",
      "text/plain": [
       "<Figure size 640x480 with 1 Axes>"
      ]
     },
     "metadata": {},
     "output_type": "display_data"
    },
    {
     "name": "stdout",
     "output_type": "stream",
     "text": [
      "\n",
      "\n"
     ]
    }
   ],
   "source": [
    "statistc_analysis(actual, predict_classes_find)"
   ]
  },
  {
   "cell_type": "code",
   "execution_count": 23,
   "metadata": {
    "execution": {
     "iopub.execute_input": "2023-09-20T15:02:23.307656Z",
     "iopub.status.busy": "2023-09-20T15:02:23.306784Z",
     "iopub.status.idle": "2023-09-20T15:02:23.993915Z",
     "shell.execute_reply": "2023-09-20T15:02:23.992459Z",
     "shell.execute_reply.started": "2023-09-20T15:02:23.307611Z"
    }
   },
   "outputs": [],
   "source": [
    "pred_fire_image_split_carry(X_test, predict_classes_find, predictions_end)"
   ]
  },
  {
   "cell_type": "code",
   "execution_count": 24,
   "metadata": {
    "execution": {
     "iopub.execute_input": "2023-09-20T15:02:23.995994Z",
     "iopub.status.busy": "2023-09-20T15:02:23.995568Z",
     "iopub.status.idle": "2023-09-20T15:02:24.016032Z",
     "shell.execute_reply": "2023-09-20T15:02:24.014610Z",
     "shell.execute_reply.started": "2023-09-20T15:02:23.995950Z"
    }
   },
   "outputs": [
    {
     "name": "stdout",
     "output_type": "stream",
     "text": [
      "****************************** overall statistics start ******************************\n",
      "Predict  0        1        \n",
      "Actual\n",
      "0        70       3        \n",
      "\n",
      "1        1        72       \n",
      "\n",
      "\n",
      "\n",
      "\n",
      "\n",
      "Overall Statistics : \n",
      "\n",
      "95% CI                                                            (0.94612,0.99908)\n",
      "ACC Macro                                                         0.9726\n",
      "ARI                                                               0.89267\n",
      "AUNP                                                              0.9726\n",
      "AUNU                                                              0.9726\n",
      "Bangdiwala B                                                      0.94614\n",
      "Bennett S                                                         0.94521\n",
      "CBA                                                               0.95945\n",
      "CSI                                                               0.94556\n",
      "Chi-Squared                                                       130.53634\n",
      "Chi-Squared DF                                                    1\n",
      "Conditional Entropy                                               0.17586\n",
      "Cramer V                                                          0.94556\n",
      "Cross Entropy                                                     1.00054\n",
      "F1 Macro                                                          0.9726\n",
      "F1 Micro                                                          0.9726\n",
      "FNR Macro                                                         0.0274\n",
      "FNR Micro                                                         0.0274\n",
      "FPR Macro                                                         0.0274\n",
      "FPR Micro                                                         0.0274\n",
      "Gwet AC1                                                          0.94522\n",
      "Hamming Loss                                                      0.0274\n",
      "Joint Entropy                                                     1.17586\n",
      "KL Divergence                                                     0.00054\n",
      "Kappa                                                             0.94521\n",
      "Kappa 95% CI                                                      (0.89225,0.99816)\n",
      "Kappa No Prevalence                                               0.94521\n",
      "Kappa Standard Error                                              0.02702\n",
      "Kappa Unbiased                                                    0.9452\n",
      "Krippendorff Alpha                                                0.94538\n",
      "Lambda A                                                          0.94521\n",
      "Lambda B                                                          0.94366\n",
      "Mutual Information                                                0.8236\n",
      "NIR                                                               0.5\n",
      "NPV Macro                                                         0.97296\n",
      "NPV Micro                                                         0.9726\n",
      "Overall ACC                                                       0.9726\n",
      "Overall CEN                                                       0.16441\n",
      "Overall J                                                         (1.89331,0.94666)\n",
      "Overall MCC                                                       0.94556\n",
      "Overall MCEN                                                      0.13808\n",
      "Overall RACC                                                      0.5\n",
      "Overall RACCU                                                     0.50009\n",
      "P-Value                                                           0.0\n",
      "PPV Macro                                                         0.97296\n",
      "PPV Micro                                                         0.9726\n",
      "Pearson C                                                         0.68705\n",
      "Phi-Squared                                                       0.89408\n",
      "RCI                                                               0.8236\n",
      "RR                                                                73.0\n",
      "Reference Entropy                                                 1.0\n",
      "Response Entropy                                                  0.99946\n",
      "SOA1(Landis & Koch)                                               Almost Perfect\n",
      "SOA2(Fleiss)                                                      Excellent\n",
      "SOA3(Altman)                                                      Very Good\n",
      "SOA4(Cicchetti)                                                   Excellent\n",
      "SOA5(Cramer)                                                      Very Strong\n",
      "SOA6(Matthews)                                                    Very Strong\n",
      "SOA7(Lambda A)                                                    Very Strong\n",
      "SOA8(Lambda B)                                                    Very Strong\n",
      "SOA9(Krippendorff Alpha)                                          High\n",
      "SOA10(Pearson C)                                                  Strong\n",
      "Scott PI                                                          0.9452\n",
      "Standard Error                                                    0.01351\n",
      "TNR Macro                                                         0.9726\n",
      "TNR Micro                                                         0.9726\n",
      "TPR Macro                                                         0.9726\n",
      "TPR Micro                                                         0.9726\n",
      "Zero-one Loss                                                     4\n",
      "\n",
      "Class Statistics :\n",
      "\n",
      "Classes                                                           0             1             \n",
      "ACC(Accuracy)                                                     0.9726        0.9726        \n",
      "AGF(Adjusted F-score)                                             0.96467       0.98066       \n",
      "AGM(Adjusted geometric mean)                                      0.9771        0.96797       \n",
      "AM(Difference between automatic and manual classification)        -2            2             \n",
      "AUC(Area under the ROC curve)                                     0.9726        0.9726        \n",
      "AUCI(AUC value interpretation)                                    Excellent     Excellent     \n",
      "AUPR(Area under the PR curve)                                     0.97241       0.97315       \n",
      "BB(Braun-Blanquet similarity)                                     0.9589        0.96          \n",
      "BCD(Bray-Curtis dissimilarity)                                    0.00685       0.00685       \n",
      "BM(Informedness or bookmaker informedness)                        0.94521       0.94521       \n",
      "CEN(Confusion entropy)                                            0.16614       0.16272       \n",
      "DOR(Diagnostic odds ratio)                                        1680.0        1680.0        \n",
      "DP(Discriminant power)                                            1.77821       1.77821       \n",
      "DPI(Discriminant power interpretation)                            Limited       Limited       \n",
      "ERR(Error rate)                                                   0.0274        0.0274        \n",
      "F0.5(F0.5 score)                                                  0.98039       0.96515       \n",
      "F1(F1 score - harmonic mean of precision and sensitivity)         0.97222       0.97297       \n",
      "F2(F2 score)                                                      0.96419       0.98093       \n",
      "FDR(False discovery rate)                                         0.01408       0.04          \n",
      "FN(False negative/miss/type 2 error)                              3             1             \n",
      "FNR(Miss rate or false negative rate)                             0.0411        0.0137        \n",
      "FOR(False omission rate)                                          0.04          0.01408       \n",
      "FP(False positive/type 1 error/false alarm)                       1             3             \n",
      "FPR(Fall-out or false positive rate)                              0.0137        0.0411        \n",
      "G(G-measure geometric mean of precision and sensitivity)          0.97232       0.97306       \n",
      "GI(Gini index)                                                    0.94521       0.94521       \n",
      "GM(G-mean geometric mean of specificity and sensitivity)          0.97251       0.97251       \n",
      "HD(Hamming distance)                                              4             4             \n",
      "IBA(Index of balanced accuracy)                                   0.91986       0.97168       \n",
      "ICSI(Individual classification success index)                     0.94482       0.9463        \n",
      "IS(Information score)                                             0.97954       0.94111       \n",
      "J(Jaccard index)                                                  0.94595       0.94737       \n",
      "LS(Lift score)                                                    1.97183       1.92          \n",
      "MCC(Matthews correlation coefficient)                             0.94556       0.94556       \n",
      "MCCI(Matthews correlation coefficient interpretation)             Very Strong   Very Strong   \n",
      "MCEN(Modified confusion entropy)                                  0.27139       0.26627       \n",
      "MK(Markedness)                                                    0.94592       0.94592       \n",
      "N(Condition negative)                                             73            73            \n",
      "NLR(Negative likelihood ratio)                                    0.04167       0.01429       \n",
      "NLRI(Negative likelihood ratio interpretation)                    Good          Good          \n",
      "NPV(Negative predictive value)                                    0.96          0.98592       \n",
      "OC(Overlap coefficient)                                           0.98592       0.9863        \n",
      "OOC(Otsuka-Ochiai coefficient)                                    0.97232       0.97306       \n",
      "OP(Optimized precision)                                           0.95852       0.95852       \n",
      "P(Condition positive or support)                                  73            73            \n",
      "PLR(Positive likelihood ratio)                                    70.0          24.0          \n",
      "PLRI(Positive likelihood ratio interpretation)                    Good          Good          \n",
      "POP(Population)                                                   146           146           \n",
      "PPV(Precision or positive predictive value)                       0.98592       0.96          \n",
      "PRE(Prevalence)                                                   0.5           0.5           \n",
      "Q(Yule Q - coefficient of colligation)                            0.99881       0.99881       \n",
      "QI(Yule Q interpretation)                                         Strong        Strong        \n",
      "RACC(Random accuracy)                                             0.24315       0.25685       \n",
      "RACCU(Random accuracy unbiased)                                   0.2432        0.2569        \n",
      "TN(True negative/correct rejection)                               72            70            \n",
      "TNR(Specificity or true negative rate)                            0.9863        0.9589        \n",
      "TON(Test outcome negative)                                        75            71            \n",
      "TOP(Test outcome positive)                                        71            75            \n",
      "TP(True positive/hit)                                             70            72            \n",
      "TPR(Sensitivity, recall, hit rate, or true positive rate)         0.9589        0.9863        \n",
      "Y(Youden index)                                                   0.94521       0.94521       \n",
      "dInd(Distance index)                                              0.04332       0.04332       \n",
      "sInd(Similarity index)                                            0.96937       0.96937       \n",
      "\n",
      "****************************** overall statistics end ******************************\n"
     ]
    }
   ],
   "source": [
    "print(\"*\"*30,\"overall statistics start\",\"*\"*30)\n",
    "overall_statistics(actual, predict_classes_find)\n",
    "print(\"*\"*30,\"overall statistics end\",\"*\"*30)"
   ]
  },
  {
   "cell_type": "code",
   "execution_count": null,
   "metadata": {},
   "outputs": [],
   "source": []
  },
  {
   "cell_type": "code",
   "execution_count": null,
   "metadata": {},
   "outputs": [],
   "source": []
  },
  {
   "cell_type": "code",
   "execution_count": null,
   "metadata": {},
   "outputs": [],
   "source": []
  },
  {
   "cell_type": "code",
   "execution_count": null,
   "metadata": {},
   "outputs": [],
   "source": []
  },
  {
   "cell_type": "code",
   "execution_count": null,
   "metadata": {},
   "outputs": [],
   "source": []
  },
  {
   "cell_type": "code",
   "execution_count": null,
   "metadata": {},
   "outputs": [],
   "source": []
  },
  {
   "cell_type": "code",
   "execution_count": null,
   "metadata": {},
   "outputs": [],
   "source": []
  },
  {
   "cell_type": "code",
   "execution_count": null,
   "metadata": {},
   "outputs": [],
   "source": []
  },
  {
   "cell_type": "code",
   "execution_count": null,
   "metadata": {},
   "outputs": [],
   "source": []
  },
  {
   "cell_type": "code",
   "execution_count": null,
   "metadata": {},
   "outputs": [],
   "source": []
  },
  {
   "cell_type": "code",
   "execution_count": null,
   "metadata": {},
   "outputs": [],
   "source": []
  },
  {
   "cell_type": "code",
   "execution_count": null,
   "metadata": {},
   "outputs": [],
   "source": []
  },
  {
   "cell_type": "code",
   "execution_count": null,
   "metadata": {},
   "outputs": [],
   "source": []
  },
  {
   "cell_type": "code",
   "execution_count": null,
   "metadata": {},
   "outputs": [],
   "source": []
  },
  {
   "cell_type": "code",
   "execution_count": null,
   "metadata": {},
   "outputs": [],
   "source": []
  },
  {
   "cell_type": "code",
   "execution_count": null,
   "metadata": {},
   "outputs": [],
   "source": []
  },
  {
   "cell_type": "code",
   "execution_count": null,
   "metadata": {},
   "outputs": [],
   "source": []
  }
 ],
 "metadata": {
  "kernelspec": {
   "display_name": "Python 3 (ipykernel)",
   "language": "python",
   "name": "python3"
  },
  "language_info": {
   "codemirror_mode": {
    "name": "ipython",
    "version": 3
   },
   "file_extension": ".py",
   "mimetype": "text/x-python",
   "name": "python",
   "nbconvert_exporter": "python",
   "pygments_lexer": "ipython3",
   "version": "3.11.4"
  },
  "varInspector": {
   "cols": {
    "lenName": 16,
    "lenType": 16,
    "lenVar": 40
   },
   "kernels_config": {
    "python": {
     "delete_cmd_postfix": "",
     "delete_cmd_prefix": "del ",
     "library": "var_list.py",
     "varRefreshCmd": "print(var_dic_list())"
    },
    "r": {
     "delete_cmd_postfix": ") ",
     "delete_cmd_prefix": "rm(",
     "library": "var_list.r",
     "varRefreshCmd": "cat(var_dic_list()) "
    }
   },
   "types_to_exclude": [
    "module",
    "function",
    "builtin_function_or_method",
    "instance",
    "_Feature"
   ],
   "window_display": false
  }
 },
 "nbformat": 4,
 "nbformat_minor": 4
}
